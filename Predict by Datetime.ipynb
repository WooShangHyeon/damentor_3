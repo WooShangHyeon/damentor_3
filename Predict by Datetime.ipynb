{
 "cells": [
  {
   "cell_type": "code",
   "execution_count": 1,
   "metadata": {},
   "outputs": [
    {
     "name": "stderr",
     "output_type": "stream",
     "text": [
      "C:\\Users\\revie\\AppData\\Roaming\\Python\\Python37\\site-packages\\pandas\\compat\\_optional.py:138: UserWarning: Pandas requires version '2.7.0' or newer of 'numexpr' (version '2.6.9' currently installed).\n",
      "  warnings.warn(msg, UserWarning)\n"
     ]
    }
   ],
   "source": [
    "import pandas as pd\n",
    "import warnings\n",
    "\n",
    "warnings.filterwarnings(action='ignore')"
   ]
  },
  {
   "cell_type": "code",
   "execution_count": 2,
   "metadata": {},
   "outputs": [],
   "source": [
    "traffic_data_2015_01=pd.read_csv('data/2015_01분기.csv',encoding='cp949')\n",
    "traffic_data_2015_02=pd.read_csv('data/2015_02분기.csv',encoding='cp949')\n",
    "traffic_data_2015_03=pd.read_csv('data/2015_03분기.csv',encoding='cp949')\n",
    "traffic_data_2015_04=pd.read_csv('data/2015_04분기.csv',encoding='cp949')\n",
    "traffic_data_2016_01=pd.read_csv('data/2016_01분기.csv',encoding='cp949')\n",
    "traffic_data_2016_02=pd.read_csv('data/2016_02분기.csv',encoding='cp949')\n",
    "traffic_data_2016_03=pd.read_csv('data/2016_03분기.csv',encoding='cp949')\n",
    "traffic_data_2016_04=pd.read_csv('data/2016_04분기.csv',encoding='cp949')\n",
    "traffic_data_2017_01=pd.read_csv('data/2017_01분기.csv',encoding='cp949')\n",
    "traffic_data_2017_02=pd.read_csv('data/2017_02분기.csv',encoding='cp949')\n",
    "traffic_data_2017_03=pd.read_csv('data/2017_03분기.csv',encoding='cp949')\n",
    "traffic_data_2017_04=pd.read_csv('data/2017_04분기.csv',encoding='cp949')\n",
    "traffic_data_2018_01=pd.read_csv('data/2018_01분기.csv',encoding='cp949')\n",
    "traffic_data_2018_02=pd.read_csv('data/2018_02분기.csv',encoding='cp949')\n",
    "traffic_data_2018_03=pd.read_csv('data/2018_03분기.csv',encoding='cp949')\n",
    "traffic_data_2018_04=pd.read_csv('data/2018_04분기.csv',encoding='cp949')\n",
    "traffic_data_2019_01=pd.read_csv('data/2019_01분기.csv',encoding='cp949')\n",
    "traffic_data_2019_02=pd.read_csv('data/2019_02분기.csv',encoding='cp949')\n",
    "traffic_data_2019_03=pd.read_csv('data/2019_03분기.csv',encoding='cp949')\n",
    "traffic_data_2019_04=pd.read_csv('data/2019_04분기.csv',encoding='cp949')\n",
    "traffic_data_2020_01=pd.read_csv('data/2020_01분기.csv',encoding='cp949')\n",
    "traffic_data_2020_02=pd.read_csv('data/2020_02분기.csv',encoding='cp949')\n",
    "traffic_data_2020_03=pd.read_csv('data/2020_03분기.csv',encoding='cp949')\n",
    "traffic_data_2020_04=pd.read_csv('data/2020_04분기.csv',encoding='cp949')\n",
    "traffic_data_2021_01=pd.read_csv('data/2021_01분기.csv',encoding='cp949')\n",
    "traffic_data_2021_02=pd.read_csv('data/2021_02분기.csv',encoding='cp949')"
   ]
  },
  {
   "cell_type": "code",
   "execution_count": 3,
   "metadata": {},
   "outputs": [
    {
     "data": {
      "text/html": [
       "<div>\n",
       "<style scoped>\n",
       "    .dataframe tbody tr th:only-of-type {\n",
       "        vertical-align: middle;\n",
       "    }\n",
       "\n",
       "    .dataframe tbody tr th {\n",
       "        vertical-align: top;\n",
       "    }\n",
       "\n",
       "    .dataframe thead th {\n",
       "        text-align: right;\n",
       "    }\n",
       "</style>\n",
       "<table border=\"1\" class=\"dataframe\">\n",
       "  <thead>\n",
       "    <tr style=\"text-align: right;\">\n",
       "      <th></th>\n",
       "      <th>1종교통량</th>\n",
       "    </tr>\n",
       "    <tr>\n",
       "      <th>집계일자</th>\n",
       "      <th></th>\n",
       "    </tr>\n",
       "  </thead>\n",
       "  <tbody>\n",
       "    <tr>\n",
       "      <th>20150101</th>\n",
       "      <td>288811</td>\n",
       "    </tr>\n",
       "    <tr>\n",
       "      <th>20150102</th>\n",
       "      <td>326177</td>\n",
       "    </tr>\n",
       "    <tr>\n",
       "      <th>20150103</th>\n",
       "      <td>324185</td>\n",
       "    </tr>\n",
       "    <tr>\n",
       "      <th>20150104</th>\n",
       "      <td>303647</td>\n",
       "    </tr>\n",
       "    <tr>\n",
       "      <th>20150105</th>\n",
       "      <td>315960</td>\n",
       "    </tr>\n",
       "  </tbody>\n",
       "</table>\n",
       "</div>"
      ],
      "text/plain": [
       "           1종교통량\n",
       "집계일자            \n",
       "20150101  288811\n",
       "20150102  326177\n",
       "20150103  324185\n",
       "20150104  303647\n",
       "20150105  315960"
      ]
     },
     "execution_count": 3,
     "metadata": {},
     "output_type": "execute_result"
    }
   ],
   "source": [
    "traffic_data=pd.concat([traffic_data_2015_01, traffic_data_2015_02, traffic_data_2015_03, traffic_data_2015_04,\n",
    "                       traffic_data_2016_01, traffic_data_2016_02, traffic_data_2016_03, traffic_data_2016_04,\n",
    "                       traffic_data_2017_01, traffic_data_2017_02, traffic_data_2017_03, traffic_data_2017_04,\n",
    "                       traffic_data_2018_01, traffic_data_2018_02, traffic_data_2018_03, traffic_data_2018_04,\n",
    "                       traffic_data_2019_01, traffic_data_2019_02, traffic_data_2019_03, traffic_data_2019_04])\n",
    "\n",
    "traffic_data=traffic_data.replace('서서울영업소','서서울')\n",
    "traffic_data=traffic_data.replace('서울영업소','서울')\n",
    "\n",
    "seoul_traffic_data=traffic_data[(traffic_data['영업소명']=='서서울')|\n",
    "                                     (traffic_data['영업소명']=='서울')|\n",
    "                                     (traffic_data['영업소명']=='남서울')]\n",
    "\n",
    "train=seoul_traffic_data[['집계일자','1종교통량']].groupby('집계일자').sum()\n",
    "train.head()"
   ]
  },
  {
   "cell_type": "code",
   "execution_count": 12,
   "metadata": {},
   "outputs": [
    {
     "name": "stdout",
     "output_type": "stream",
     "text": [
      "Collecting pmdarima\n",
      "  Downloading https://files.pythonhosted.org/packages/a0/30/7690cfc83b6c3105c37637b1fa2d54db83eea5f71b41f4957d02deda2a8a/pmdarima-1.8.3-cp37-cp37m-win_amd64.whl (594kB)\n",
      "Requirement already satisfied: numpy>=1.19.3 in c:\\users\\revie\\anaconda3\\lib\\site-packages (from pmdarima) (1.19.5)\n",
      "Requirement already satisfied: setuptools!=50.0.0,>=38.6.0 in c:\\users\\revie\\anaconda3\\lib\\site-packages (from pmdarima) (41.0.1)\n",
      "Requirement already satisfied: urllib3 in c:\\users\\revie\\anaconda3\\lib\\site-packages (from pmdarima) (1.24.2)\n",
      "Requirement already satisfied: scipy>=1.3.2 in c:\\users\\revie\\anaconda3\\lib\\site-packages (from pmdarima) (1.7.1)\n",
      "Requirement already satisfied: statsmodels!=0.12.0,>=0.11 in c:\\users\\revie\\anaconda3\\lib\\site-packages (from pmdarima) (0.13.0)\n",
      "Collecting scikit-learn>=0.22 (from pmdarima)\n",
      "  Downloading https://files.pythonhosted.org/packages/3f/a4/9ac96921dcd7b36467ec7300ab1f9f5c98cb1a96fea35de467deae493c71/scikit_learn-1.0-cp37-cp37m-win_amd64.whl (7.1MB)\n",
      "Requirement already satisfied: joblib>=0.11 in c:\\users\\revie\\anaconda3\\lib\\site-packages (from pmdarima) (0.13.2)\n",
      "Requirement already satisfied: pandas>=0.19 in c:\\users\\revie\\appdata\\roaming\\python\\python37\\site-packages (from pmdarima) (1.3.1)\n",
      "Requirement already satisfied: Cython!=0.29.18,>=0.29 in c:\\users\\revie\\anaconda3\\lib\\site-packages (from pmdarima) (0.29.12)\n",
      "Requirement already satisfied: patsy>=0.5.2 in c:\\users\\revie\\anaconda3\\lib\\site-packages (from statsmodels!=0.12.0,>=0.11->pmdarima) (0.5.2)\n",
      "Collecting threadpoolctl>=2.0.0 (from scikit-learn>=0.22->pmdarima)\n",
      "  Downloading https://files.pythonhosted.org/packages/ff/fe/8aaca2a0db7fd80f0b2cf8a16a034d3eea8102d58ff9331d2aaf1f06766a/threadpoolctl-3.0.0-py3-none-any.whl\n",
      "Requirement already satisfied: pytz>=2017.3 in c:\\users\\revie\\anaconda3\\lib\\site-packages (from pandas>=0.19->pmdarima) (2019.1)\n",
      "Requirement already satisfied: python-dateutil>=2.7.3 in c:\\users\\revie\\anaconda3\\lib\\site-packages (from pandas>=0.19->pmdarima) (2.8.0)\n",
      "Requirement already satisfied: six in c:\\users\\revie\\anaconda3\\lib\\site-packages (from patsy>=0.5.2->statsmodels!=0.12.0,>=0.11->pmdarima) (1.15.0)\n",
      "Installing collected packages: threadpoolctl, scikit-learn, pmdarima\n",
      "  Found existing installation: scikit-learn 0.21.2\n",
      "    Uninstalling scikit-learn-0.21.2:\n",
      "      Successfully uninstalled scikit-learn-0.21.2\n",
      "Successfully installed pmdarima-1.8.3 scikit-learn-1.0 threadpoolctl-3.0.0\n",
      "Note: you may need to restart the kernel to use updated packages.\n"
     ]
    }
   ],
   "source": [
    "pip install pmdarima"
   ]
  },
  {
   "cell_type": "code",
   "execution_count": 4,
   "metadata": {},
   "outputs": [
    {
     "name": "stdout",
     "output_type": "stream",
     "text": [
      " ARIMA(0,1,0)(0,0,0)[0] intercept   : AIC=43416.228, Time=0.07 sec\n",
      " ARIMA(0,1,1)(0,0,0)[0] intercept   : AIC=42701.947, Time=0.21 sec\n",
      " ARIMA(0,1,2)(0,0,0)[0] intercept   : AIC=42610.610, Time=0.37 sec\n",
      " ARIMA(0,1,3)(0,0,0)[0] intercept   : AIC=42611.127, Time=0.96 sec\n",
      " ARIMA(1,1,0)(0,0,0)[0] intercept   : AIC=43170.536, Time=0.14 sec\n",
      " ARIMA(1,1,1)(0,0,0)[0] intercept   : AIC=42643.922, Time=0.40 sec\n",
      " ARIMA(1,1,2)(0,0,0)[0] intercept   : AIC=42612.429, Time=0.61 sec\n",
      " ARIMA(1,1,3)(0,0,0)[0] intercept   : AIC=42611.720, Time=1.04 sec\n",
      " ARIMA(2,1,0)(0,0,0)[0] intercept   : AIC=43063.730, Time=0.18 sec\n",
      " ARIMA(2,1,1)(0,0,0)[0] intercept   : AIC=42638.061, Time=0.51 sec\n",
      " ARIMA(2,1,2)(0,0,0)[0] intercept   : AIC=42616.859, Time=0.65 sec\n",
      " ARIMA(2,1,3)(0,0,0)[0] intercept   : AIC=42445.779, Time=2.50 sec\n",
      " ARIMA(3,1,0)(0,0,0)[0] intercept   : AIC=42980.215, Time=0.29 sec\n",
      " ARIMA(3,1,1)(0,0,0)[0] intercept   : AIC=42621.276, Time=0.75 sec\n",
      " ARIMA(3,1,2)(0,0,0)[0] intercept   : AIC=42570.887, Time=1.81 sec\n",
      "\n",
      "Best model:  ARIMA(2,1,3)(0,0,0)[0] intercept\n",
      "Total fit time: 10.501 seconds\n"
     ]
    },
    {
     "data": {
      "text/plain": [
       "ARIMA(order=(2, 1, 3), scoring_args={}, suppress_warnings=True)"
      ]
     },
     "execution_count": 4,
     "metadata": {},
     "output_type": "execute_result"
    }
   ],
   "source": [
    "from pmdarima.arima import auto_arima\n",
    "\n",
    "model_arima= auto_arima(train,trace=True, error_action='ignore', start_p=1,start_q=1,max_p=3,max_q=3,suppress_warnings=True,stepwise=False,seasonal=False)\n",
    "\n",
    "model_arima.fit(train)"
   ]
  },
  {
   "cell_type": "code",
   "execution_count": 16,
   "metadata": {},
   "outputs": [
    {
     "ename": "NotImplementedError",
     "evalue": "\nstatsmodels.tsa.arima_model.ARMA and statsmodels.tsa.arima_model.ARIMA have\nbeen removed in favor of statsmodels.tsa.arima.model.ARIMA (note the .\nbetween arima and model) and statsmodels.tsa.SARIMAX.\n\nstatsmodels.tsa.arima.model.ARIMA makes use of the statespace framework and\nis both well tested and maintained. It also offers alternative specialized\nparameter estimators.\n",
     "output_type": "error",
     "traceback": [
      "\u001b[1;31m---------------------------------------------------------------------------\u001b[0m",
      "\u001b[1;31mNotImplementedError\u001b[0m                       Traceback (most recent call last)",
      "\u001b[1;32m<ipython-input-16-a69680b267e0>\u001b[0m in \u001b[0;36m<module>\u001b[1;34m\u001b[0m\n\u001b[0;32m      1\u001b[0m \u001b[1;32mfrom\u001b[0m \u001b[0mstatsmodels\u001b[0m\u001b[1;33m.\u001b[0m\u001b[0mtsa\u001b[0m\u001b[1;33m.\u001b[0m\u001b[0marima_model\u001b[0m \u001b[1;32mimport\u001b[0m \u001b[0mARIMA\u001b[0m\u001b[1;33m\u001b[0m\u001b[1;33m\u001b[0m\u001b[0m\n\u001b[0;32m      2\u001b[0m \u001b[1;33m\u001b[0m\u001b[0m\n\u001b[1;32m----> 3\u001b[1;33m \u001b[0mmodel\u001b[0m \u001b[1;33m=\u001b[0m \u001b[0mARIMA\u001b[0m\u001b[1;33m(\u001b[0m\u001b[0mtrain\u001b[0m\u001b[1;33m,\u001b[0m \u001b[0morder\u001b[0m\u001b[1;33m=\u001b[0m\u001b[1;33m(\u001b[0m\u001b[1;36m2\u001b[0m\u001b[1;33m,\u001b[0m\u001b[1;36m1\u001b[0m\u001b[1;33m,\u001b[0m\u001b[1;36m3\u001b[0m\u001b[1;33m)\u001b[0m\u001b[1;33m)\u001b[0m\u001b[1;33m\u001b[0m\u001b[1;33m\u001b[0m\u001b[0m\n\u001b[0m\u001b[0;32m      4\u001b[0m \u001b[1;33m\u001b[0m\u001b[0m\n\u001b[0;32m      5\u001b[0m \u001b[0mmodel_fit\u001b[0m \u001b[1;33m=\u001b[0m \u001b[0mmodel\u001b[0m\u001b[1;33m.\u001b[0m\u001b[0mfit\u001b[0m\u001b[1;33m(\u001b[0m\u001b[0mdisp\u001b[0m\u001b[1;33m=\u001b[0m\u001b[1;36m0\u001b[0m\u001b[1;33m)\u001b[0m\u001b[1;33m\u001b[0m\u001b[1;33m\u001b[0m\u001b[0m\n",
      "\u001b[1;32m~\\Anaconda3\\lib\\site-packages\\statsmodels\\tsa\\arima_model.py\u001b[0m in \u001b[0;36m__init__\u001b[1;34m(self, *args, **kwargs)\u001b[0m\n\u001b[0;32m     43\u001b[0m \u001b[1;33m\u001b[0m\u001b[0m\n\u001b[0;32m     44\u001b[0m     \u001b[1;32mdef\u001b[0m \u001b[0m__init__\u001b[0m\u001b[1;33m(\u001b[0m\u001b[0mself\u001b[0m\u001b[1;33m,\u001b[0m \u001b[1;33m*\u001b[0m\u001b[0margs\u001b[0m\u001b[1;33m,\u001b[0m \u001b[1;33m**\u001b[0m\u001b[0mkwargs\u001b[0m\u001b[1;33m)\u001b[0m\u001b[1;33m:\u001b[0m\u001b[1;33m\u001b[0m\u001b[1;33m\u001b[0m\u001b[0m\n\u001b[1;32m---> 45\u001b[1;33m         \u001b[0msuper\u001b[0m\u001b[1;33m(\u001b[0m\u001b[1;33m)\u001b[0m\u001b[1;33m.\u001b[0m\u001b[0m__init__\u001b[0m\u001b[1;33m(\u001b[0m\u001b[1;33m*\u001b[0m\u001b[0margs\u001b[0m\u001b[1;33m,\u001b[0m \u001b[1;33m**\u001b[0m\u001b[0mkwargs\u001b[0m\u001b[1;33m)\u001b[0m\u001b[1;33m\u001b[0m\u001b[1;33m\u001b[0m\u001b[0m\n\u001b[0m\u001b[0;32m     46\u001b[0m \u001b[1;33m\u001b[0m\u001b[0m\n\u001b[0;32m     47\u001b[0m \u001b[1;33m\u001b[0m\u001b[0m\n",
      "\u001b[1;32m~\\Anaconda3\\lib\\site-packages\\statsmodels\\tsa\\arima_model.py\u001b[0m in \u001b[0;36m__init__\u001b[1;34m(self, *args, **kwargs)\u001b[0m\n\u001b[0;32m     27\u001b[0m \u001b[1;33m\u001b[0m\u001b[0m\n\u001b[0;32m     28\u001b[0m     \u001b[1;32mdef\u001b[0m \u001b[0m__init__\u001b[0m\u001b[1;33m(\u001b[0m\u001b[0mself\u001b[0m\u001b[1;33m,\u001b[0m \u001b[1;33m*\u001b[0m\u001b[0margs\u001b[0m\u001b[1;33m,\u001b[0m \u001b[1;33m**\u001b[0m\u001b[0mkwargs\u001b[0m\u001b[1;33m)\u001b[0m\u001b[1;33m:\u001b[0m\u001b[1;33m\u001b[0m\u001b[1;33m\u001b[0m\u001b[0m\n\u001b[1;32m---> 29\u001b[1;33m         \u001b[1;32mraise\u001b[0m \u001b[0mNotImplementedError\u001b[0m\u001b[1;33m(\u001b[0m\u001b[0mARIMA_DEPRECATION_ERROR\u001b[0m\u001b[1;33m)\u001b[0m\u001b[1;33m\u001b[0m\u001b[1;33m\u001b[0m\u001b[0m\n\u001b[0m\u001b[0;32m     30\u001b[0m \u001b[1;33m\u001b[0m\u001b[0m\n\u001b[0;32m     31\u001b[0m \u001b[1;33m\u001b[0m\u001b[0m\n",
      "\u001b[1;31mNotImplementedError\u001b[0m: \nstatsmodels.tsa.arima_model.ARMA and statsmodels.tsa.arima_model.ARIMA have\nbeen removed in favor of statsmodels.tsa.arima.model.ARIMA (note the .\nbetween arima and model) and statsmodels.tsa.SARIMAX.\n\nstatsmodels.tsa.arima.model.ARIMA makes use of the statespace framework and\nis both well tested and maintained. It also offers alternative specialized\nparameter estimators.\n"
     ]
    }
   ],
   "source": [
    "from statsmodels.tsa.arima_model import ARIMA\n",
    "\n",
    "model = ARIMA(train, order=(2,1,3))\n",
    "\n",
    "model_fit = model.fit(disp=0)\n",
    "\n",
    "print(model_fit.summary())"
   ]
  },
  {
   "cell_type": "code",
   "execution_count": null,
   "metadata": {},
   "outputs": [],
   "source": []
  }
 ],
 "metadata": {
  "kernelspec": {
   "display_name": "Python 3",
   "language": "python",
   "name": "python3"
  },
  "language_info": {
   "codemirror_mode": {
    "name": "ipython",
    "version": 3
   },
   "file_extension": ".py",
   "mimetype": "text/x-python",
   "name": "python",
   "nbconvert_exporter": "python",
   "pygments_lexer": "ipython3",
   "version": "3.7.3"
  }
 },
 "nbformat": 4,
 "nbformat_minor": 2
}
