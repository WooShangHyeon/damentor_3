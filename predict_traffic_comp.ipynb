{
 "cells": [
  {
   "cell_type": "markdown",
   "metadata": {},
   "source": [
    "# LSTM을 활용한 교통 변화 예측"
   ]
  },
  {
   "cell_type": "code",
   "execution_count": 1,
   "metadata": {},
   "outputs": [],
   "source": [
    "import numpy as np # linear algebra\n",
    "import pandas as pd # data processing, CSV file I/O (e.g. pd.read_csv)\n",
    "import matplotlib.pyplot as plt\n",
    "import seaborn as sns "
   ]
  },
  {
   "cell_type": "code",
   "execution_count": null,
   "metadata": {},
   "outputs": [],
   "source": [
    "traffic_data_2015_01=pd.read_csv('data/2015_01분기.csv',encoding='cp949')\n",
    "traffic_data_2015_02=pd.read_csv('data/2015_02분기.csv',encoding='cp949')\n",
    "traffic_data_2015_03=pd.read_csv('data/2015_03분기.csv',encoding='cp949')\n",
    "traffic_data_2015_04=pd.read_csv('data/2015_04분기.csv',encoding='cp949')\n",
    "traffic_data_2016_01=pd.read_csv('data/2016_01분기.csv',encoding='cp949')\n",
    "traffic_data_2016_02=pd.read_csv('data/2016_02분기.csv',encoding='cp949')\n",
    "traffic_data_2016_03=pd.read_csv('data/2016_03분기.csv',encoding='cp949')\n",
    "traffic_data_2016_04=pd.read_csv('data/2016_04분기.csv',encoding='cp949')\n",
    "traffic_data_2017_01=pd.read_csv('data/2017_01분기.csv',encoding='cp949')\n",
    "traffic_data_2017_02=pd.read_csv('data/2017_02분기.csv',encoding='cp949')\n",
    "traffic_data_2017_03=pd.read_csv('data/2017_03분기.csv',encoding='cp949')\n",
    "traffic_data_2017_04=pd.read_csv('data/2017_04분기.csv',encoding='cp949')\n",
    "traffic_data_2018_01=pd.read_csv('data/2018_01분기.csv',encoding='cp949')\n",
    "traffic_data_2018_02=pd.read_csv('data/2018_02분기.csv',encoding='cp949')\n",
    "traffic_data_2018_03=pd.read_csv('data/2018_03분기.csv',encoding='cp949')\n",
    "traffic_data_2018_04=pd.read_csv('data/2018_04분기.csv',encoding='cp949')\n",
    "traffic_data_2019_01=pd.read_csv('data/2019_01분기.csv',encoding='cp949')\n",
    "traffic_data_2019_02=pd.read_csv('data/2019_02분기.csv',encoding='cp949')\n",
    "traffic_data_2019_03=pd.read_csv('data/2019_03분기.csv',encoding='cp949')\n",
    "traffic_data_2019_04=pd.read_csv('data/2019_04분기.csv',encoding='cp949')\n",
    "traffic_data_2020_01=pd.read_csv('data/2020_01분기.csv',encoding='cp949')\n",
    "traffic_data_2020_02=pd.read_csv('data/2020_02분기.csv',encoding='cp949')\n",
    "traffic_data_2020_03=pd.read_csv('data/2020_03분기.csv',encoding='cp949')\n",
    "traffic_data_2020_04=pd.read_csv('data/2020_04분기.csv',encoding='cp949')\n",
    "traffic_data_2021_01=pd.read_csv('data/2021_01분기.csv',encoding='cp949')\n",
    "traffic_data_2021_02=pd.read_csv('data/2021_02분기.csv',encoding='cp949')"
   ]
  },
  {
   "cell_type": "code",
   "execution_count": null,
   "metadata": {},
   "outputs": [],
   "source": [
    "traffic_data_2015=pd.concat([traffic_data_2015_01,traffic_data_2015_02,traffic_data_2015_03,traffic_data_2015_04])\n",
    "traffic_data_2016=pd.concat([traffic_data_2016_01,traffic_data_2016_02,traffic_data_2016_03,traffic_data_2016_04])\n",
    "traffic_data_2017=pd.concat([traffic_data_2017_01,traffic_data_2017_02,traffic_data_2017_03,traffic_data_2017_04])\n",
    "traffic_data_2018=pd.concat([traffic_data_2018_01,traffic_data_2018_02,traffic_data_2018_03,traffic_data_2018_04])\n",
    "traffic_data_2019=pd.concat([traffic_data_2019_01,traffic_data_2019_02,traffic_data_2019_03,traffic_data_2019_04])\n",
    "traffic_data_2020=pd.concat([traffic_data_2020_01,traffic_data_2020_02,traffic_data_2020_03,traffic_data_2020_04])\n",
    "traffic_data_2021=pd.concat([traffic_data_2021_01,traffic_data_2021_02])\n",
    "traffic_data_past=pd.concat([traffic_data_2015,traffic_data_2016,traffic_data_2017,traffic_data_2018,traffic_data_2019])"
   ]
  },
  {
   "cell_type": "code",
   "execution_count": null,
   "metadata": {},
   "outputs": [],
   "source": [
    "traffic_data_past.head()"
   ]
  },
  {
   "cell_type": "code",
   "execution_count": null,
   "metadata": {},
   "outputs": [],
   "source": [
    "traffic_data_past['집계일자']=pd.to_datetime(traffic_data_past['집계일자'],format='%Y%m%d')\n",
    "traffic_data_past['연도']=traffic_data_past['집계일자'].dt.year"
   ]
  },
  {
   "cell_type": "code",
   "execution_count": null,
   "metadata": {
    "scrolled": false
   },
   "outputs": [],
   "source": [
    "plt.figure(figsize=(16, 9))\n",
    "sns.lineplot(y=traffic_data_past['1종교통량'], x=traffic_data_past['집계일자'])\n",
    "plt.xlabel('time')\n",
    "plt.ylabel('type 1 traffic')"
   ]
  },
  {
   "cell_type": "code",
   "execution_count": null,
   "metadata": {},
   "outputs": [],
   "source": [
    "traffic_data_past=traffic_data_past.replace('서서울영업소','서서울')\n",
    "traffic_data_past=traffic_data_past.replace('서울영업소','서울')\n",
    "traffic_data_past=traffic_data_past.replace('서대구영업소','서대구')\n",
    "traffic_data_past=traffic_data_past.replace('북대구영업소','북대구')\n",
    "traffic_data_past=traffic_data_past.replace('남대구영업소','남대구')"
   ]
  },
  {
   "cell_type": "code",
   "execution_count": null,
   "metadata": {},
   "outputs": [],
   "source": [
    "seoul_traffic_data_past=traffic_data_past[(traffic_data_past['영업소명']=='서서울')|(traffic_data_past['영업소명']=='서울')|(traffic_data_past['영업소명']=='남서울')\n",
    "]"
   ]
  },
  {
   "cell_type": "code",
   "execution_count": null,
   "metadata": {},
   "outputs": [],
   "source": [
    "from sklearn.preprocessing import MinMaxScaler #정규화 과정\n",
    "\n",
    "seoul_traffic_data_past.sort_index(ascending=False).reset_index(drop=True)\n",
    "\n",
    "scaler = MinMaxScaler()\n",
    "scale_cols = ['1종교통량','2종교통량','3종교통량','총교통량']\n",
    "df_scaled = scaler.fit_transform(seoul_traffic_data_past[scale_cols])\n",
    "df_scaled = pd.DataFrame(df_scaled)\n",
    "df_scaled.columns = scale_cols\n",
    "\n",
    "df_scaled"
   ]
  },
  {
   "cell_type": "code",
   "execution_count": null,
   "metadata": {},
   "outputs": [],
   "source": [
    "TEST_SIZE = 200\n",
    "WINDOW_SIZE = 20\n",
    "\n",
    "train = df_scaled[:-TEST_SIZE]\n",
    "test = df_scaled[-TEST_SIZE:]"
   ]
  },
  {
   "cell_type": "code",
   "execution_count": null,
   "metadata": {},
   "outputs": [],
   "source": [
    "def make_dataset(data, label, window_size=20):\n",
    "    feature_list = []\n",
    "    label_list = []\n",
    "    for i in range(len(data) - window_size):\n",
    "        feature_list.append(np.array(data.iloc[i:i+window_size]))\n",
    "        label_list.append(np.array(label.iloc[i+window_size]))\n",
    "    return np.array(feature_list), np.array(label_list)"
   ]
  },
  {
   "cell_type": "code",
   "execution_count": null,
   "metadata": {},
   "outputs": [],
   "source": [
    "from sklearn.model_selection import train_test_split\n",
    "\n",
    "feature_cols = ['1종교통량','2종교통량','3종교통량']\n",
    "label_cols = ['총교통량']\n",
    "\n",
    "train_feature = train[feature_cols]\n",
    "train_label = train[label_cols]\n",
    "\n",
    "train_feature, train_label = make_dataset(train_feature, train_label, 20)\n",
    "\n",
    "x_train, x_valid, y_train, y_valid = train_test_split(train_feature, train_label, test_size=0.2)\n",
    "x_train.shape, x_valid.shape"
   ]
  },
  {
   "cell_type": "code",
   "execution_count": null,
   "metadata": {},
   "outputs": [],
   "source": [
    "test_feature = test[feature_cols]\n",
    "test_label = test[label_cols]\n",
    "\n",
    "test_feature.shape, test_label.shape"
   ]
  },
  {
   "cell_type": "code",
   "execution_count": null,
   "metadata": {},
   "outputs": [],
   "source": [
    "from keras.models import Sequential\n",
    "from keras.layers import Dense\n",
    "from keras.callbacks import EarlyStopping, ModelCheckpoint\n",
    "from keras.layers import LSTM\n",
    "\n",
    "model = Sequential()\n",
    "model.add(LSTM(16, \n",
    "               input_shape=(train_feature.shape[1], train_feature.shape[2]), \n",
    "               activation='relu', \n",
    "               return_sequences=False)\n",
    "          )\n",
    "\n",
    "model.add(Dense(1))"
   ]
  },
  {
   "cell_type": "code",
   "execution_count": null,
   "metadata": {},
   "outputs": [],
   "source": [
    "import os\n",
    "\n",
    "model.compile(loss='mean_squared_error', optimizer='adam')\n",
    "early_stop = EarlyStopping(monitor='val_loss', patience=5)\n",
    "\n",
    "model_path = 'model'\n",
    "filename = os.path.join(model_path, 'tmp_checkpoint.h5')\n",
    "checkpoint = ModelCheckpoint(filename, monitor='val_loss', verbose=1, save_best_only=True, mode='auto')\n",
    "\n",
    "history = model.fit(x_train, y_train,\n",
    "                                    epochs=100,\n",
    "                                    batch_size=16,\n",
    "                                    validation_data=(x_valid, y_valid), \n",
    "                                    callbacks=[early_stop, checkpoint])"
   ]
  },
  {
   "cell_type": "code",
   "execution_count": null,
   "metadata": {},
   "outputs": [],
   "source": []
  }
 ],
 "metadata": {
  "kernelspec": {
   "display_name": "Python 3",
   "language": "python",
   "name": "python3"
  },
  "language_info": {
   "codemirror_mode": {
    "name": "ipython",
    "version": 3
   },
   "file_extension": ".py",
   "mimetype": "text/x-python",
   "name": "python",
   "nbconvert_exporter": "python",
   "pygments_lexer": "ipython3",
   "version": "3.8.5"
  }
 },
 "nbformat": 4,
 "nbformat_minor": 4
}
