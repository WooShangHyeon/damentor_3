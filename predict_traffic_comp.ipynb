{
 "cells": [
  {
   "cell_type": "markdown",
   "metadata": {},
   "source": [
    "# LSTM을 활용한 교통 변화 예측"
   ]
  },
  {
   "cell_type": "code",
   "execution_count": 1,
   "metadata": {},
   "outputs": [],
   "source": [
    "import numpy as np # linear algebra\n",
    "import pandas as pd # data processing, CSV file I/O (e.g. pd.read_csv)\n",
    "import matplotlib.pyplot as plt\n",
    "import seaborn as sns "
   ]
  },
  {
   "cell_type": "code",
   "execution_count": 2,
   "metadata": {},
   "outputs": [],
   "source": [
    "import warnings\n",
    "\n",
    "warnings.filterwarnings(action='ignore') "
   ]
  },
  {
   "cell_type": "code",
   "execution_count": 9,
   "metadata": {},
   "outputs": [],
   "source": [
    "import os\n",
    "import datetime\n",
    "import matplotlib as mpl\n",
    "import IPython\n",
    "import IPython.display\n",
    "\n",
    "mpl.rcParams['figure.figsize'] = (8, 6)\n",
    "mpl.rcParams['axes.grid'] = False\n"
   ]
  },
  {
   "cell_type": "code",
   "execution_count": 6,
   "metadata": {},
   "outputs": [],
   "source": [
    "traffic_data_2015_01=pd.read_csv('data/2015_01분기.csv',encoding='cp949')\n",
    "traffic_data_2015_02=pd.read_csv('data/2015_02분기.csv',encoding='cp949')\n",
    "traffic_data_2015_03=pd.read_csv('data/2015_03분기.csv',encoding='cp949')\n",
    "traffic_data_2015_04=pd.read_csv('data/2015_04분기.csv',encoding='cp949')\n",
    "traffic_data_2016_01=pd.read_csv('data/2016_01분기.csv',encoding='cp949')\n",
    "traffic_data_2016_02=pd.read_csv('data/2016_02분기.csv',encoding='cp949')\n",
    "traffic_data_2016_03=pd.read_csv('data/2016_03분기.csv',encoding='cp949')\n",
    "traffic_data_2016_04=pd.read_csv('data/2016_04분기.csv',encoding='cp949')\n",
    "traffic_data_2017_01=pd.read_csv('data/2017_01분기.csv',encoding='cp949')\n",
    "traffic_data_2017_02=pd.read_csv('data/2017_02분기.csv',encoding='cp949')\n",
    "traffic_data_2017_03=pd.read_csv('data/2017_03분기.csv',encoding='cp949')\n",
    "traffic_data_2017_04=pd.read_csv('data/2017_04분기.csv',encoding='cp949')\n",
    "traffic_data_2018_01=pd.read_csv('data/2018_01분기.csv',encoding='cp949')\n",
    "traffic_data_2018_02=pd.read_csv('data/2018_02분기.csv',encoding='cp949')\n",
    "traffic_data_2018_03=pd.read_csv('data/2018_03분기.csv',encoding='cp949')\n",
    "traffic_data_2018_04=pd.read_csv('data/2018_04분기.csv',encoding='cp949')\n",
    "traffic_data_2019_01=pd.read_csv('data/2019_01분기.csv',encoding='cp949')\n",
    "traffic_data_2019_02=pd.read_csv('data/2019_02분기.csv',encoding='cp949')\n",
    "traffic_data_2019_03=pd.read_csv('data/2019_03분기.csv',encoding='cp949')\n",
    "traffic_data_2019_04=pd.read_csv('data/2019_04분기.csv',encoding='cp949')\n",
    "traffic_data_2020_01=pd.read_csv('data/2020_01분기.csv',encoding='cp949')\n",
    "traffic_data_2020_02=pd.read_csv('data/2020_02분기.csv',encoding='cp949')\n",
    "traffic_data_2020_03=pd.read_csv('data/2020_03분기.csv',encoding='cp949')\n",
    "traffic_data_2020_04=pd.read_csv('data/2020_04분기.csv',encoding='cp949')\n",
    "traffic_data_2021_01=pd.read_csv('data/2021_01분기.csv',encoding='cp949')\n",
    "traffic_data_2021_02=pd.read_csv('data/2021_02분기.csv',encoding='cp949')"
   ]
  },
  {
   "cell_type": "code",
   "execution_count": 7,
   "metadata": {},
   "outputs": [],
   "source": [
    "traffic_data_2015=pd.concat([traffic_data_2015_01,traffic_data_2015_02,traffic_data_2015_03,traffic_data_2015_04])\n",
    "traffic_data_2016=pd.concat([traffic_data_2016_01,traffic_data_2016_02,traffic_data_2016_03,traffic_data_2016_04])\n",
    "traffic_data_2017=pd.concat([traffic_data_2017_01,traffic_data_2017_02,traffic_data_2017_03,traffic_data_2017_04])\n",
    "traffic_data_2018=pd.concat([traffic_data_2018_01,traffic_data_2018_02,traffic_data_2018_03,traffic_data_2018_04])\n",
    "traffic_data_2019=pd.concat([traffic_data_2019_01,traffic_data_2019_02,traffic_data_2019_03,traffic_data_2019_04])\n",
    "traffic_data_2020=pd.concat([traffic_data_2020_01,traffic_data_2020_02,traffic_data_2020_03,traffic_data_2020_04])\n",
    "traffic_data_2021=pd.concat([traffic_data_2021_01,traffic_data_2021_02])\n",
    "traffic_data_past=pd.concat([traffic_data_2015,traffic_data_2016,traffic_data_2017,traffic_data_2018,traffic_data_2019])\n",
    "traffic_data_future=pd.concat([traffic_data_2020,traffic_data_2021])"
   ]
  },
  {
   "cell_type": "code",
   "execution_count": 7,
   "metadata": {},
   "outputs": [
    {
     "data": {
      "text/html": [
       "<div>\n",
       "<style scoped>\n",
       "    .dataframe tbody tr th:only-of-type {\n",
       "        vertical-align: middle;\n",
       "    }\n",
       "\n",
       "    .dataframe tbody tr th {\n",
       "        vertical-align: top;\n",
       "    }\n",
       "\n",
       "    .dataframe thead th {\n",
       "        text-align: right;\n",
       "    }\n",
       "</style>\n",
       "<table border=\"1\" class=\"dataframe\">\n",
       "  <thead>\n",
       "    <tr style=\"text-align: right;\">\n",
       "      <th></th>\n",
       "      <th>집계일자</th>\n",
       "      <th>영업소코드</th>\n",
       "      <th>영업소명</th>\n",
       "      <th>입출구구분코드</th>\n",
       "      <th>입출구명</th>\n",
       "      <th>TCS하이패스구분코드</th>\n",
       "      <th>TCS하이패스명</th>\n",
       "      <th>고속도로운영기관구분코드</th>\n",
       "      <th>고속도로운영기관명</th>\n",
       "      <th>영업형태구분코드</th>\n",
       "      <th>영업형태명</th>\n",
       "      <th>1종교통량</th>\n",
       "      <th>2종교통량</th>\n",
       "      <th>3종교통량</th>\n",
       "      <th>4종교통량</th>\n",
       "      <th>5종교통량</th>\n",
       "      <th>6종교통량</th>\n",
       "      <th>총교통량</th>\n",
       "    </tr>\n",
       "  </thead>\n",
       "  <tbody>\n",
       "    <tr>\n",
       "      <th>0</th>\n",
       "      <td>20150101</td>\n",
       "      <td>246</td>\n",
       "      <td>가락</td>\n",
       "      <td>0</td>\n",
       "      <td>입구</td>\n",
       "      <td>1</td>\n",
       "      <td>TCS</td>\n",
       "      <td>0</td>\n",
       "      <td>한국도로공사</td>\n",
       "      <td>0</td>\n",
       "      <td>폐쇄식</td>\n",
       "      <td>329</td>\n",
       "      <td>14</td>\n",
       "      <td>31</td>\n",
       "      <td>45</td>\n",
       "      <td>467</td>\n",
       "      <td>1</td>\n",
       "      <td>887</td>\n",
       "    </tr>\n",
       "    <tr>\n",
       "      <th>1</th>\n",
       "      <td>20150101</td>\n",
       "      <td>246</td>\n",
       "      <td>가락</td>\n",
       "      <td>0</td>\n",
       "      <td>입구</td>\n",
       "      <td>2</td>\n",
       "      <td>hi-pass</td>\n",
       "      <td>0</td>\n",
       "      <td>한국도로공사</td>\n",
       "      <td>0</td>\n",
       "      <td>폐쇄식</td>\n",
       "      <td>696</td>\n",
       "      <td>16</td>\n",
       "      <td>4</td>\n",
       "      <td>2</td>\n",
       "      <td>11</td>\n",
       "      <td>37</td>\n",
       "      <td>766</td>\n",
       "    </tr>\n",
       "    <tr>\n",
       "      <th>2</th>\n",
       "      <td>20150101</td>\n",
       "      <td>29</td>\n",
       "      <td>가락(개)</td>\n",
       "      <td>0</td>\n",
       "      <td>입구</td>\n",
       "      <td>1</td>\n",
       "      <td>TCS</td>\n",
       "      <td>0</td>\n",
       "      <td>한국도로공사</td>\n",
       "      <td>1</td>\n",
       "      <td>개방식</td>\n",
       "      <td>2931</td>\n",
       "      <td>50</td>\n",
       "      <td>91</td>\n",
       "      <td>114</td>\n",
       "      <td>454</td>\n",
       "      <td>316</td>\n",
       "      <td>3956</td>\n",
       "    </tr>\n",
       "    <tr>\n",
       "      <th>3</th>\n",
       "      <td>20150101</td>\n",
       "      <td>29</td>\n",
       "      <td>가락(개)</td>\n",
       "      <td>0</td>\n",
       "      <td>입구</td>\n",
       "      <td>2</td>\n",
       "      <td>hi-pass</td>\n",
       "      <td>0</td>\n",
       "      <td>한국도로공사</td>\n",
       "      <td>1</td>\n",
       "      <td>개방식</td>\n",
       "      <td>5219</td>\n",
       "      <td>20</td>\n",
       "      <td>24</td>\n",
       "      <td>0</td>\n",
       "      <td>1</td>\n",
       "      <td>283</td>\n",
       "      <td>5547</td>\n",
       "    </tr>\n",
       "    <tr>\n",
       "      <th>4</th>\n",
       "      <td>20150101</td>\n",
       "      <td>29</td>\n",
       "      <td>가락(개)</td>\n",
       "      <td>1</td>\n",
       "      <td>출구</td>\n",
       "      <td>1</td>\n",
       "      <td>TCS</td>\n",
       "      <td>0</td>\n",
       "      <td>한국도로공사</td>\n",
       "      <td>1</td>\n",
       "      <td>개방식</td>\n",
       "      <td>3374</td>\n",
       "      <td>42</td>\n",
       "      <td>107</td>\n",
       "      <td>94</td>\n",
       "      <td>603</td>\n",
       "      <td>415</td>\n",
       "      <td>4635</td>\n",
       "    </tr>\n",
       "  </tbody>\n",
       "</table>\n",
       "</div>"
      ],
      "text/plain": [
       "       집계일자  영업소코드   영업소명  입출구구분코드 입출구명  TCS하이패스구분코드 TCS하이패스명  고속도로운영기관구분코드  \\\n",
       "0  20150101    246     가락        0   입구            1      TCS             0   \n",
       "1  20150101    246     가락        0   입구            2  hi-pass             0   \n",
       "2  20150101     29  가락(개)        0   입구            1      TCS             0   \n",
       "3  20150101     29  가락(개)        0   입구            2  hi-pass             0   \n",
       "4  20150101     29  가락(개)        1   출구            1      TCS             0   \n",
       "\n",
       "  고속도로운영기관명  영업형태구분코드 영업형태명  1종교통량  2종교통량  3종교통량  4종교통량  5종교통량  6종교통량  총교통량  \n",
       "0    한국도로공사         0   폐쇄식    329     14     31     45    467      1   887  \n",
       "1    한국도로공사         0   폐쇄식    696     16      4      2     11     37   766  \n",
       "2    한국도로공사         1   개방식   2931     50     91    114    454    316  3956  \n",
       "3    한국도로공사         1   개방식   5219     20     24      0      1    283  5547  \n",
       "4    한국도로공사         1   개방식   3374     42    107     94    603    415  4635  "
      ]
     },
     "execution_count": 7,
     "metadata": {},
     "output_type": "execute_result"
    }
   ],
   "source": [
    "traffic_data_past.head()"
   ]
  },
  {
   "cell_type": "code",
   "execution_count": 8,
   "metadata": {},
   "outputs": [],
   "source": [
    "traffic_data_past['집계일자']=pd.to_datetime(traffic_data_past['집계일자'],format='%Y%m%d')\n",
    "traffic_data_past['연도']=traffic_data_past['집계일자'].dt.year\n",
    "traffic_data_future['집계일자']=pd.to_datetime(traffic_data_future['집계일자'],format='%Y%m%d')\n",
    "traffic_data_future['연도']=traffic_data_future['집계일자'].dt.year"
   ]
  },
  {
   "cell_type": "code",
   "execution_count": 9,
   "metadata": {},
   "outputs": [],
   "source": [
    "def change_traffic(traffic_data):\n",
    "    traffic_data.index=traffic_data.집계일자\n",
    "    traffic_data=traffic_data.drop('집계일자',axis=1)\n",
    "    traffic_data=traffic_data[['영업소명','1종교통량', '2종교통량','3종교통량', '4종교통량', '5종교통량', '6종교통량', '총교통량']]\n",
    "    traffic_data.index=pd.to_datetime(traffic_data.index, format='%Y%m%d')\n",
    "    traffic_data['year']=traffic_data.index.year \n",
    "    traffic_data['month']=traffic_data.index.month\n",
    "    days={0:'MON',1:'TUE',2:'WED',3:'THU',4:'FRI',5:'SAT',6:'SUN'}\n",
    "    traffic_data['day_of_week']=traffic_data.index.dayofweek \n",
    "    traffic_data.day_of_week=traffic_data.day_of_week.apply(lambda x : days[x])\n",
    "    traffic_data.head()\n",
    "    return traffic_data"
   ]
  },
  {
   "cell_type": "code",
   "execution_count": 10,
   "metadata": {},
   "outputs": [],
   "source": [
    "traffic_data_past=change_traffic(traffic_data_past)"
   ]
  },
  {
   "cell_type": "code",
   "execution_count": 11,
   "metadata": {
    "scrolled": false
   },
   "outputs": [
    {
     "data": {
      "text/html": [
       "<div>\n",
       "<style scoped>\n",
       "    .dataframe tbody tr th:only-of-type {\n",
       "        vertical-align: middle;\n",
       "    }\n",
       "\n",
       "    .dataframe tbody tr th {\n",
       "        vertical-align: top;\n",
       "    }\n",
       "\n",
       "    .dataframe thead th {\n",
       "        text-align: right;\n",
       "    }\n",
       "</style>\n",
       "<table border=\"1\" class=\"dataframe\">\n",
       "  <thead>\n",
       "    <tr style=\"text-align: right;\">\n",
       "      <th></th>\n",
       "      <th>영업소명</th>\n",
       "      <th>1종교통량</th>\n",
       "      <th>2종교통량</th>\n",
       "      <th>3종교통량</th>\n",
       "      <th>4종교통량</th>\n",
       "      <th>5종교통량</th>\n",
       "      <th>6종교통량</th>\n",
       "      <th>총교통량</th>\n",
       "      <th>year</th>\n",
       "      <th>month</th>\n",
       "      <th>day_of_week</th>\n",
       "    </tr>\n",
       "    <tr>\n",
       "      <th>집계일자</th>\n",
       "      <th></th>\n",
       "      <th></th>\n",
       "      <th></th>\n",
       "      <th></th>\n",
       "      <th></th>\n",
       "      <th></th>\n",
       "      <th></th>\n",
       "      <th></th>\n",
       "      <th></th>\n",
       "      <th></th>\n",
       "      <th></th>\n",
       "    </tr>\n",
       "  </thead>\n",
       "  <tbody>\n",
       "    <tr>\n",
       "      <th>2015-01-01</th>\n",
       "      <td>가락</td>\n",
       "      <td>329</td>\n",
       "      <td>14</td>\n",
       "      <td>31</td>\n",
       "      <td>45</td>\n",
       "      <td>467</td>\n",
       "      <td>1</td>\n",
       "      <td>887</td>\n",
       "      <td>2015</td>\n",
       "      <td>1</td>\n",
       "      <td>THU</td>\n",
       "    </tr>\n",
       "    <tr>\n",
       "      <th>2015-01-01</th>\n",
       "      <td>가락</td>\n",
       "      <td>696</td>\n",
       "      <td>16</td>\n",
       "      <td>4</td>\n",
       "      <td>2</td>\n",
       "      <td>11</td>\n",
       "      <td>37</td>\n",
       "      <td>766</td>\n",
       "      <td>2015</td>\n",
       "      <td>1</td>\n",
       "      <td>THU</td>\n",
       "    </tr>\n",
       "    <tr>\n",
       "      <th>2015-01-01</th>\n",
       "      <td>가락(개)</td>\n",
       "      <td>2931</td>\n",
       "      <td>50</td>\n",
       "      <td>91</td>\n",
       "      <td>114</td>\n",
       "      <td>454</td>\n",
       "      <td>316</td>\n",
       "      <td>3956</td>\n",
       "      <td>2015</td>\n",
       "      <td>1</td>\n",
       "      <td>THU</td>\n",
       "    </tr>\n",
       "    <tr>\n",
       "      <th>2015-01-01</th>\n",
       "      <td>가락(개)</td>\n",
       "      <td>5219</td>\n",
       "      <td>20</td>\n",
       "      <td>24</td>\n",
       "      <td>0</td>\n",
       "      <td>1</td>\n",
       "      <td>283</td>\n",
       "      <td>5547</td>\n",
       "      <td>2015</td>\n",
       "      <td>1</td>\n",
       "      <td>THU</td>\n",
       "    </tr>\n",
       "    <tr>\n",
       "      <th>2015-01-01</th>\n",
       "      <td>가락(개)</td>\n",
       "      <td>3374</td>\n",
       "      <td>42</td>\n",
       "      <td>107</td>\n",
       "      <td>94</td>\n",
       "      <td>603</td>\n",
       "      <td>415</td>\n",
       "      <td>4635</td>\n",
       "      <td>2015</td>\n",
       "      <td>1</td>\n",
       "      <td>THU</td>\n",
       "    </tr>\n",
       "  </tbody>\n",
       "</table>\n",
       "</div>"
      ],
      "text/plain": [
       "             영업소명  1종교통량  2종교통량  3종교통량  4종교통량  5종교통량  6종교통량  총교통량  year  \\\n",
       "집계일자                                                                      \n",
       "2015-01-01     가락    329     14     31     45    467      1   887  2015   \n",
       "2015-01-01     가락    696     16      4      2     11     37   766  2015   \n",
       "2015-01-01  가락(개)   2931     50     91    114    454    316  3956  2015   \n",
       "2015-01-01  가락(개)   5219     20     24      0      1    283  5547  2015   \n",
       "2015-01-01  가락(개)   3374     42    107     94    603    415  4635  2015   \n",
       "\n",
       "            month day_of_week  \n",
       "집계일자                           \n",
       "2015-01-01      1         THU  \n",
       "2015-01-01      1         THU  \n",
       "2015-01-01      1         THU  \n",
       "2015-01-01      1         THU  \n",
       "2015-01-01      1         THU  "
      ]
     },
     "execution_count": 11,
     "metadata": {},
     "output_type": "execute_result"
    }
   ],
   "source": [
    "traffic_data_past.head()"
   ]
  },
  {
   "cell_type": "code",
   "execution_count": 12,
   "metadata": {},
   "outputs": [],
   "source": [
    "traffic_data_past=traffic_data_past.replace('서서울영업소','서서울')\n",
    "traffic_data_past=traffic_data_past.replace('서울영업소','서울')\n",
    "traffic_data_past=traffic_data_past.replace('서대구영업소','서대구')\n",
    "traffic_data_past=traffic_data_past.replace('북대구영업소','북대구')\n",
    "traffic_data_past=traffic_data_past.replace('남대구영업소','남대구')\n",
    "traffic_data_future=traffic_data_future.replace('서서울영업소','서서울')\n",
    "traffic_data_future=traffic_data_future.replace('서울영업소','서울')\n",
    "traffic_data_future=traffic_data_future.replace('서대구영업소','서대구')\n",
    "traffic_data_future=traffic_data_future.replace('북대구영업소','북대구')\n",
    "traffic_data_future=traffic_data_future.replace('남대구영업소','남대구')"
   ]
  },
  {
   "cell_type": "code",
   "execution_count": 13,
   "metadata": {},
   "outputs": [],
   "source": [
    "seoul_traffic_data_past=traffic_data_past[((traffic_data_past['영업소명']=='서서울')|(traffic_data_past['영업소명']=='서울')|(traffic_data_past['영업소명']=='남서울'))&(traffic_data_past['day_of_week']=='MON')\n",
    "]"
   ]
  },
  {
   "cell_type": "code",
   "execution_count": 14,
   "metadata": {},
   "outputs": [],
   "source": [
    "seoul_traffic_data_past=seoul_traffic_data_past.replace(max(seoul_traffic_data_past['1종교통량']),10000)"
   ]
  },
  {
   "cell_type": "code",
   "execution_count": 15,
   "metadata": {
    "scrolled": true
   },
   "outputs": [],
   "source": [
    "seoul_traffic_data_past=seoul_traffic_data_past.replace(max(seoul_traffic_data_past['1종교통량']),10000)"
   ]
  },
  {
   "cell_type": "code",
   "execution_count": 16,
   "metadata": {},
   "outputs": [
    {
     "data": {
      "text/plain": [
       "83181"
      ]
     },
     "execution_count": 16,
     "metadata": {},
     "output_type": "execute_result"
    }
   ],
   "source": [
    "(max(seoul_traffic_data_past['1종교통량']))"
   ]
  },
  {
   "cell_type": "code",
   "execution_count": 17,
   "metadata": {},
   "outputs": [],
   "source": [
    "def univariate_data(dataset,start_index,end_index,history_size,target_size):\n",
    "    data=[]\n",
    "    labels=[]\n",
    "    start_index=start_index+history_size\n",
    "    if end_index is None:\n",
    "        end_index=len(dataset)-target_size\n",
    "    for i in range(start_index,end_index):\n",
    "        indices = range(i-history_size,i)\n",
    "        data.append(np.reshape(dataset[indices],(history_size,1)))\n",
    "        labels.append(dataset[i+target_size])\n",
    "    return np.array(data),np.array(labels)"
   ]
  },
  {
   "cell_type": "code",
   "execution_count": 18,
   "metadata": {
    "scrolled": true
   },
   "outputs": [
    {
     "data": {
      "text/plain": [
       "집계일자\n",
       "2015-01-05    20115\n",
       "2015-01-05    63332\n",
       "2015-01-05    17610\n",
       "2015-01-05    55117\n",
       "2015-01-05    22979\n",
       "Name: 1종교통량, dtype: int64"
      ]
     },
     "execution_count": 18,
     "metadata": {},
     "output_type": "execute_result"
    }
   ],
   "source": [
    "uni_data=seoul_traffic_data_past['1종교통량']\n",
    "uni_data.index=seoul_traffic_data_past.index\n",
    "uni_data.head()"
   ]
  },
  {
   "cell_type": "code",
   "execution_count": 19,
   "metadata": {},
   "outputs": [
    {
     "data": {
      "text/plain": [
       "array([<AxesSubplot:xlabel='집계일자'>], dtype=object)"
      ]
     },
     "execution_count": 19,
     "metadata": {},
     "output_type": "execute_result"
    },
    {
     "data": {
      "image/png": "[encoded data removed]",
      "text/plain": [
       "<Figure size 576x432 with 1 Axes>"
      ]
     },
     "metadata": {
      "needs_background": "light"
     },
     "output_type": "display_data"
    }
   ],
   "source": [
    "uni_data.plot(subplots=True)"
   ]
  },
  {
   "cell_type": "code",
   "execution_count": 20,
   "metadata": {},
   "outputs": [],
   "source": [
    "uni_data=uni_data.values"
   ]
  },
  {
   "cell_type": "code",
   "execution_count": 21,
   "metadata": {},
   "outputs": [],
   "source": [
    "uni_data=(uni_data)/max(uni_data)"
   ]
  },
  {
   "cell_type": "code",
   "execution_count": 22,
   "metadata": {},
   "outputs": [
    {
     "data": {
      "text/plain": [
       "2072"
      ]
     },
     "execution_count": 22,
     "metadata": {},
     "output_type": "execute_result"
    }
   ],
   "source": [
    "len(uni_data)"
   ]
  },
  {
   "cell_type": "code",
   "execution_count": 23,
   "metadata": {},
   "outputs": [
    {
     "ename": "NameError",
     "evalue": "name 'tf' is not defined",
     "output_type": "error",
     "traceback": [
      "\u001b[1;31m---------------------------------------------------------------------------\u001b[0m",
      "\u001b[1;31mNameError\u001b[0m                                 Traceback (most recent call last)",
      "\u001b[1;32m<ipython-input-23-7d63542dc189>\u001b[0m in \u001b[0;36m<module>\u001b[1;34m\u001b[0m\n\u001b[0;32m      1\u001b[0m \u001b[0mTRAIN_SPLIT\u001b[0m \u001b[1;33m=\u001b[0m \u001b[1;36m1800\u001b[0m\u001b[1;33m\u001b[0m\u001b[1;33m\u001b[0m\u001b[0m\n\u001b[1;32m----> 2\u001b[1;33m \u001b[0mtf\u001b[0m\u001b[1;33m.\u001b[0m\u001b[0mrandom\u001b[0m\u001b[1;33m.\u001b[0m\u001b[0mset_seed\u001b[0m\u001b[1;33m(\u001b[0m\u001b[1;36m13\u001b[0m\u001b[1;33m)\u001b[0m\u001b[1;33m\u001b[0m\u001b[1;33m\u001b[0m\u001b[0m\n\u001b[0m",
      "\u001b[1;31mNameError\u001b[0m: name 'tf' is not defined"
     ]
    }
   ],
   "source": [
    "TRAIN_SPLIT = 1800\n",
    "tf.random.set_seed(13)"
   ]
  },
  {
   "cell_type": "code",
   "execution_count": 153,
   "metadata": {},
   "outputs": [],
   "source": [
    "univariate_past_history = 20\n",
    "univariate_future_target = 0\n",
    "x_train_uni,y_train_uni = univariate_data(uni_data , 0, TRAIN_SPLIT,univariate_past_history,univariate_future_target)\n",
    "x_val_uni,y_val_uni = univariate_data(uni_data , TRAIN_SPLIT,None,univariate_past_history,univariate_future_target)"
   ]
  },
  {
   "cell_type": "code",
   "execution_count": 154,
   "metadata": {},
   "outputs": [],
   "source": [
    "def create_time_steps(length):\n",
    "    return list(range(-length,0))"
   ]
  },
  {
   "cell_type": "code",
   "execution_count": 155,
   "metadata": {},
   "outputs": [],
   "source": [
    "def show_plot(plot_data,delta,title):\n",
    "    labels=['History','True Future','Model Prediction']\n",
    "    marker = ['.-','rx','go']\n",
    "    time_steps=create_time_steps(plot_data[0].shape[0])\n",
    "    if delta:\n",
    "        future=delta\n",
    "    else:\n",
    "        future =0 \n",
    "    \n",
    "    plt.title(title)\n",
    "    for i, x in enumerate(plot_data):\n",
    "        if i:\n",
    "            plt.plot(future, plot_data[i],marker[i], markersize=10,label=labels[i])\n",
    "        else:\n",
    "            plt.plot(time_steps,plot_data[i].flatten(),marker[i],label=labels[i])\n",
    "    plt.legend()\n",
    "    plt.xlim([time_steps[0],(future+5)*2])\n",
    "    plt.xlabel('Time-Step')\n",
    "    return plt"
   ]
  },
  {
   "cell_type": "code",
   "execution_count": 156,
   "metadata": {},
   "outputs": [
    {
     "data": {
      "text/plain": [
       "<module 'matplotlib.pyplot' from 'C:\\\\Users\\\\yhw99\\\\anaconda3\\\\lib\\\\site-packages\\\\matplotlib\\\\pyplot.py'>"
      ]
     },
     "execution_count": 156,
     "metadata": {},
     "output_type": "execute_result"
    },
    {
     "data": {
      "image/png": "[encoded data removed]",
      "text/plain": [
       "<Figure size 576x432 with 1 Axes>"
      ]
     },
     "metadata": {
      "needs_background": "light"
     },
     "output_type": "display_data"
    }
   ],
   "source": [
    "show_plot([x_train_uni[0],y_train_uni[0]],0,'Sample Example')"
   ]
  },
  {
   "cell_type": "code",
   "execution_count": 157,
   "metadata": {
    "scrolled": true
   },
   "outputs": [
    {
     "data": {
      "text/plain": [
       "array([[0.24182205],\n",
       "       [0.76137579],\n",
       "       [0.211707  ],\n",
       "       [0.66261526],\n",
       "       [0.27625299],\n",
       "       [0.72593501],\n",
       "       [0.25058607],\n",
       "       [0.66816941],\n",
       "       [0.2573304 ],\n",
       "       [0.787199  ],\n",
       "       [0.21414746],\n",
       "       [0.67256946],\n",
       "       [0.28476455],\n",
       "       [0.74544668],\n",
       "       [0.2530626 ],\n",
       "       [0.67532249],\n",
       "       [0.24637838],\n",
       "       [0.75215494],\n",
       "       [0.20145225],\n",
       "       [0.64709489]])"
      ]
     },
     "execution_count": 157,
     "metadata": {},
     "output_type": "execute_result"
    }
   ],
   "source": [
    "x_train_uni[0]"
   ]
  },
  {
   "cell_type": "code",
   "execution_count": 158,
   "metadata": {},
   "outputs": [],
   "source": [
    "def baseline(history):\n",
    "    return np.mean(history)"
   ]
  },
  {
   "cell_type": "code",
   "execution_count": 159,
   "metadata": {},
   "outputs": [
    {
     "data": {
      "text/plain": [
       "<module 'matplotlib.pyplot' from 'C:\\\\Users\\\\yhw99\\\\anaconda3\\\\lib\\\\site-packages\\\\matplotlib\\\\pyplot.py'>"
      ]
     },
     "execution_count": 159,
     "metadata": {},
     "output_type": "execute_result"
    },
    {
     "data": {
      "image/png": "[encoded data removed]",
      "text/plain": [
       "<Figure size 576x432 with 1 Axes>"
      ]
     },
     "metadata": {
      "needs_background": "light"
     },
     "output_type": "display_data"
    }
   ],
   "source": [
    "show_plot([x_train_uni[0],y_train_uni[0],baseline(x_train_uni[0])],0,'Baseline Predicion Example')"
   ]
  },
  {
   "cell_type": "code",
   "execution_count": 170,
   "metadata": {},
   "outputs": [],
   "source": [
    "BATCH_SIZE = 2000\n",
    "BUFFER_SIZE = 10000\n",
    "\n",
    "train_univariate=tf.data.Dataset.from_tensor_slices((x_train_uni,y_train_uni))\n",
    "train_univariate=train_univariate.cache().shuffle(BUFFER_SIZE).batch(BATCH_SIZE)\n",
    "\n",
    "val_univariate = tf.data.Dataset.from_tensor_slices((x_val_uni,y_val_uni))\n",
    "val_univariate = val_univariate.batch(BATCH_SIZE).repeat()\n"
   ]
  },
  {
   "cell_type": "code",
   "execution_count": 171,
   "metadata": {},
   "outputs": [],
   "source": [
    "simple_lstm_model = tf.keras.models.Sequential([tf.keras.layers.LSTM(8,input_shape=x_train_uni.shape[-2:]),tf.keras.layers.Dense(1)])\n",
    "simple_lstm_model.compile(optimizer='adam' , loss='mae')"
   ]
  },
  {
   "cell_type": "code",
   "execution_count": 172,
   "metadata": {},
   "outputs": [
    {
     "name": "stdout",
     "output_type": "stream",
     "text": [
      "(252, 1)\n"
     ]
    }
   ],
   "source": [
    "for x, y in val_univariate.take(1):\n",
    "    print(simple_lstm_model.predict(x).shape)"
   ]
  },
  {
   "cell_type": "code",
   "execution_count": 173,
   "metadata": {},
   "outputs": [
    {
     "name": "stdout",
     "output_type": "stream",
     "text": [
      "Epoch 1/10\n",
      "  1/200 [..............................] - ETA: 0s - loss: 0.3318WARNING:tensorflow:Your input ran out of data; interrupting training. Make sure that your dataset or generator can generate at least `steps_per_epoch * epochs` batches (in this case, 2000 batches). You may need to use the repeat() function when building your dataset.\n",
      "  1/200 [..............................] - 1s 1s/step - loss: 0.3318 - val_loss: 0.3748\n"
     ]
    },
    {
     "data": {
      "text/plain": [
       "<tensorflow.python.keras.callbacks.History at 0x252cd7c3040>"
      ]
     },
     "execution_count": 173,
     "metadata": {},
     "output_type": "execute_result"
    }
   ],
   "source": [
    "EVALUATION_INTERVAL = 200\n",
    "EPOCHS = 10\n",
    "simple_lstm_model.fit(train_univariate,epochs=EPOCHS,steps_per_epoch=EVALUATION_INTERVAL,validation_data=val_univariate,validation_steps=50)"
   ]
  },
  {
   "cell_type": "code",
   "execution_count": null,
   "metadata": {},
   "outputs": [],
   "source": []
  },
  {
   "cell_type": "code",
   "execution_count": 147,
   "metadata": {
    "scrolled": true
   },
   "outputs": [
    {
     "data": {
      "text/html": [
       "<div>\n",
       "<style scoped>\n",
       "    .dataframe tbody tr th:only-of-type {\n",
       "        vertical-align: middle;\n",
       "    }\n",
       "\n",
       "    .dataframe tbody tr th {\n",
       "        vertical-align: top;\n",
       "    }\n",
       "\n",
       "    .dataframe thead th {\n",
       "        text-align: right;\n",
       "    }\n",
       "</style>\n",
       "<table border=\"1\" class=\"dataframe\">\n",
       "  <thead>\n",
       "    <tr style=\"text-align: right;\">\n",
       "      <th></th>\n",
       "      <th>1종교통량</th>\n",
       "      <th>2종교통량</th>\n",
       "      <th>3종교통량</th>\n",
       "      <th>총교통량</th>\n",
       "    </tr>\n",
       "  </thead>\n",
       "  <tbody>\n",
       "    <tr>\n",
       "      <th>0</th>\n",
       "      <td>0.143962</td>\n",
       "      <td>0.438934</td>\n",
       "      <td>0.250769</td>\n",
       "      <td>0.186066</td>\n",
       "    </tr>\n",
       "    <tr>\n",
       "      <th>1</th>\n",
       "      <td>0.730576</td>\n",
       "      <td>0.710477</td>\n",
       "      <td>0.049006</td>\n",
       "      <td>0.666176</td>\n",
       "    </tr>\n",
       "    <tr>\n",
       "      <th>2</th>\n",
       "      <td>0.109960</td>\n",
       "      <td>0.478301</td>\n",
       "      <td>0.239286</td>\n",
       "      <td>0.181295</td>\n",
       "    </tr>\n",
       "    <tr>\n",
       "      <th>3</th>\n",
       "      <td>0.619068</td>\n",
       "      <td>0.722877</td>\n",
       "      <td>0.049621</td>\n",
       "      <td>0.566015</td>\n",
       "    </tr>\n",
       "    <tr>\n",
       "      <th>4</th>\n",
       "      <td>0.182837</td>\n",
       "      <td>0.317731</td>\n",
       "      <td>0.198585</td>\n",
       "      <td>0.188232</td>\n",
       "    </tr>\n",
       "    <tr>\n",
       "      <th>...</th>\n",
       "      <td>...</td>\n",
       "      <td>...</td>\n",
       "      <td>...</td>\n",
       "      <td>...</td>\n",
       "    </tr>\n",
       "    <tr>\n",
       "      <th>2067</th>\n",
       "      <td>0.758741</td>\n",
       "      <td>0.735586</td>\n",
       "      <td>0.166906</td>\n",
       "      <td>0.747947</td>\n",
       "    </tr>\n",
       "    <tr>\n",
       "      <th>2068</th>\n",
       "      <td>0.038685</td>\n",
       "      <td>0.082455</td>\n",
       "      <td>0.071868</td>\n",
       "      <td>0.016688</td>\n",
       "    </tr>\n",
       "    <tr>\n",
       "      <th>2069</th>\n",
       "      <td>0.833790</td>\n",
       "      <td>0.705518</td>\n",
       "      <td>0.820074</td>\n",
       "      <td>0.860523</td>\n",
       "    </tr>\n",
       "    <tr>\n",
       "      <th>2070</th>\n",
       "      <td>0.023062</td>\n",
       "      <td>0.094544</td>\n",
       "      <td>0.060180</td>\n",
       "      <td>0.014985</td>\n",
       "    </tr>\n",
       "    <tr>\n",
       "      <th>2071</th>\n",
       "      <td>0.838948</td>\n",
       "      <td>0.777433</td>\n",
       "      <td>0.880254</td>\n",
       "      <td>0.880661</td>\n",
       "    </tr>\n",
       "  </tbody>\n",
       "</table>\n",
       "<p>2072 rows × 4 columns</p>\n",
       "</div>"
      ],
      "text/plain": [
       "         1종교통량     2종교통량     3종교통량      총교통량\n",
       "0     0.143962  0.438934  0.250769  0.186066\n",
       "1     0.730576  0.710477  0.049006  0.666176\n",
       "2     0.109960  0.478301  0.239286  0.181295\n",
       "3     0.619068  0.722877  0.049621  0.566015\n",
       "4     0.182837  0.317731  0.198585  0.188232\n",
       "...        ...       ...       ...       ...\n",
       "2067  0.758741  0.735586  0.166906  0.747947\n",
       "2068  0.038685  0.082455  0.071868  0.016688\n",
       "2069  0.833790  0.705518  0.820074  0.860523\n",
       "2070  0.023062  0.094544  0.060180  0.014985\n",
       "2071  0.838948  0.777433  0.880254  0.880661\n",
       "\n",
       "[2072 rows x 4 columns]"
      ]
     },
     "execution_count": 147,
     "metadata": {},
     "output_type": "execute_result"
    }
   ],
   "source": [
    "from sklearn.preprocessing import MinMaxScaler #정규화 과정\n",
    "\n",
    "seoul_traffic_data_past.sort_index(ascending=False).reset_index(drop=True)\n",
    "\n",
    "scaler = MinMaxScaler()\n",
    "scale_cols = ['1종교통량','2종교통량','3종교통량','총교통량']\n",
    "df_scaled = scaler.fit_transform(seoul_traffic_data_past[scale_cols])\n",
    "df_scaled = pd.DataFrame(df_scaled)\n",
    "df_scaled.columns = scale_cols\n",
    "\n",
    "df_scaled"
   ]
  },
  {
   "cell_type": "code",
   "execution_count": 122,
   "metadata": {},
   "outputs": [],
   "source": [
    "TEST_SIZE = 200\n",
    "WINDOW_SIZE = 20\n",
    "\n",
    "train = df_scaled[:-TEST_SIZE]\n",
    "test = df_scaled[-TEST_SIZE:]"
   ]
  },
  {
   "cell_type": "code",
   "execution_count": 123,
   "metadata": {},
   "outputs": [],
   "source": [
    "def make_dataset(data, label, window_size=20):\n",
    "    feature_list = []\n",
    "    label_list = []\n",
    "    for i in range(len(data) - window_size):\n",
    "        feature_list.append(np.array(data.iloc[i:i+window_size]))\n",
    "        label_list.append(np.array(label.iloc[i+window_size]))\n",
    "    return np.array(feature_list), np.array(label_list)"
   ]
  },
  {
   "cell_type": "code",
   "execution_count": 124,
   "metadata": {},
   "outputs": [
    {
     "data": {
      "text/plain": [
       "((1481, 20, 3), (371, 20, 3))"
      ]
     },
     "execution_count": 124,
     "metadata": {},
     "output_type": "execute_result"
    }
   ],
   "source": [
    "from sklearn.model_selection import train_test_split\n",
    "\n",
    "feature_cols = ['1종교통량','2종교통량','3종교통량']\n",
    "label_cols = ['총교통량']\n",
    "\n",
    "train_feature = train[feature_cols]\n",
    "train_label = train[label_cols]\n",
    "\n",
    "train_feature, train_label = make_dataset(train_feature, train_label, 20)\n",
    "\n",
    "x_train, x_valid, y_train, y_valid = train_test_split(train_feature, train_label, test_size=0.2)\n",
    "x_train.shape, x_valid.shape"
   ]
  },
  {
   "cell_type": "code",
   "execution_count": 125,
   "metadata": {},
   "outputs": [
    {
     "data": {
      "text/plain": [
       "((200, 3), (200, 1))"
      ]
     },
     "execution_count": 125,
     "metadata": {},
     "output_type": "execute_result"
    }
   ],
   "source": [
    "test_feature = test[feature_cols]\n",
    "test_label = test[label_cols]\n",
    "\n",
    "test_feature.shape, test_label.shape"
   ]
  },
  {
   "cell_type": "code",
   "execution_count": 126,
   "metadata": {},
   "outputs": [],
   "source": [
    "from keras.models import Sequential\n",
    "from keras.layers import Dense\n",
    "from keras.callbacks import EarlyStopping, ModelCheckpoint\n",
    "from keras.layers import LSTM\n",
    "\n",
    "model = Sequential()\n",
    "model.add(LSTM(16, \n",
    "               input_shape=(train_feature.shape[1], train_feature.shape[2]), \n",
    "               activation='relu', \n",
    "               return_sequences=False)\n",
    "          )\n",
    "\n",
    "model.add(Dense(1))"
   ]
  },
  {
   "cell_type": "code",
   "execution_count": null,
   "metadata": {},
   "outputs": [],
   "source": []
  },
  {
   "cell_type": "code",
   "execution_count": 127,
   "metadata": {
    "scrolled": true
   },
   "outputs": [
    {
     "name": "stdout",
     "output_type": "stream",
     "text": [
      "Epoch 1/25\n",
      "93/93 [==============================] - 1s 13ms/step - loss: 0.1785 - accuracy: 0.0000e+00 - val_loss: 0.1409 - val_accuracy: 0.0000e+00\n",
      "Epoch 2/25\n",
      "93/93 [==============================] - 1s 9ms/step - loss: 0.0762 - accuracy: 6.7522e-04 - val_loss: 0.0132 - val_accuracy: 0.0000e+00\n",
      "Epoch 3/25\n",
      "93/93 [==============================] - 1s 9ms/step - loss: 0.0118 - accuracy: 6.7522e-04 - val_loss: 0.0081 - val_accuracy: 0.0000e+00\n",
      "Epoch 4/25\n",
      "93/93 [==============================] - 1s 9ms/step - loss: 0.0107 - accuracy: 6.7522e-04 - val_loss: 0.0067 - val_accuracy: 0.0000e+00\n",
      "Epoch 5/25\n",
      "93/93 [==============================] - 1s 9ms/step - loss: 0.0074 - accuracy: 6.7522e-04 - val_loss: 0.0057 - val_accuracy: 0.0000e+00\n",
      "Epoch 6/25\n",
      "93/93 [==============================] - 1s 10ms/step - loss: 0.0072 - accuracy: 6.7522e-04 - val_loss: 0.0054 - val_accuracy: 0.0000e+00\n",
      "Epoch 7/25\n",
      "93/93 [==============================] - 1s 10ms/step - loss: 0.0056 - accuracy: 6.7522e-04 - val_loss: 0.0046 - val_accuracy: 0.0000e+00\n",
      "Epoch 8/25\n",
      "93/93 [==============================] - 1s 9ms/step - loss: 0.0046 - accuracy: 6.7522e-04 - val_loss: 0.0040 - val_accuracy: 0.0000e+00\n",
      "Epoch 9/25\n",
      "93/93 [==============================] - 1s 10ms/step - loss: 0.0044 - accuracy: 6.7522e-04 - val_loss: 0.0061 - val_accuracy: 0.0000e+00\n",
      "Epoch 10/25\n",
      "93/93 [==============================] - 1s 9ms/step - loss: 0.0045 - accuracy: 6.7522e-04 - val_loss: 0.0038 - val_accuracy: 0.0000e+00\n",
      "Epoch 11/25\n",
      "93/93 [==============================] - 1s 10ms/step - loss: 0.0038 - accuracy: 6.7522e-04 - val_loss: 0.0042 - val_accuracy: 0.0000e+00\n",
      "Epoch 12/25\n",
      "93/93 [==============================] - 1s 9ms/step - loss: 0.0040 - accuracy: 6.7522e-04 - val_loss: 0.0038 - val_accuracy: 0.0000e+00\n",
      "Epoch 13/25\n",
      "93/93 [==============================] - 1s 9ms/step - loss: 0.0033 - accuracy: 6.7522e-04 - val_loss: 0.0051 - val_accuracy: 0.0000e+00\n",
      "Epoch 14/25\n",
      "93/93 [==============================] - 1s 9ms/step - loss: 0.0034 - accuracy: 6.7522e-04 - val_loss: 0.0030 - val_accuracy: 0.0000e+00\n",
      "Epoch 15/25\n",
      "93/93 [==============================] - 1s 9ms/step - loss: 0.0030 - accuracy: 6.7522e-04 - val_loss: 0.0029 - val_accuracy: 0.0000e+00\n",
      "Epoch 16/25\n",
      "93/93 [==============================] - 1s 10ms/step - loss: 0.0032 - accuracy: 6.7522e-04 - val_loss: 0.0044 - val_accuracy: 0.0000e+00\n",
      "Epoch 17/25\n",
      "93/93 [==============================] - 1s 9ms/step - loss: 0.0031 - accuracy: 6.7522e-04 - val_loss: 0.0035 - val_accuracy: 0.0000e+00\n",
      "Epoch 18/25\n",
      "93/93 [==============================] - 1s 10ms/step - loss: 0.0029 - accuracy: 6.7522e-04 - val_loss: 0.0054 - val_accuracy: 0.0000e+00\n",
      "Epoch 19/25\n",
      "93/93 [==============================] - 1s 9ms/step - loss: 0.0031 - accuracy: 6.7522e-04 - val_loss: 0.0029 - val_accuracy: 0.0000e+00\n",
      "Epoch 20/25\n",
      "93/93 [==============================] - 1s 9ms/step - loss: 0.0026 - accuracy: 6.7522e-04 - val_loss: 0.0024 - val_accuracy: 0.0000e+00\n",
      "Epoch 21/25\n",
      "93/93 [==============================] - 1s 10ms/step - loss: 0.0027 - accuracy: 6.7522e-04 - val_loss: 0.0027 - val_accuracy: 0.0000e+00\n",
      "Epoch 22/25\n",
      "93/93 [==============================] - 1s 11ms/step - loss: 0.0027 - accuracy: 6.7522e-04 - val_loss: 0.0025 - val_accuracy: 0.0000e+00\n",
      "Epoch 23/25\n",
      "93/93 [==============================] - 1s 11ms/step - loss: 0.0027 - accuracy: 6.7522e-04 - val_loss: 0.0031 - val_accuracy: 0.0000e+00\n",
      "Epoch 24/25\n",
      "93/93 [==============================] - 1s 14ms/step - loss: 0.0024 - accuracy: 6.7522e-04 - val_loss: 0.0030 - val_accuracy: 0.0000e+00ss: 0.0023 - ac\n",
      "Epoch 25/25\n",
      "93/93 [==============================] - 1s 12ms/step - loss: 0.0024 - accuracy: 6.7522e-04 - val_loss: 0.0023 - val_accuracy: 0.0000e+00\n"
     ]
    }
   ],
   "source": [
    "traffic_data_2015_01=pd.read_csv('/content/drive/Shareddrives/삼현텍📈/data/traffic_data/2015_01분기.csv',encoding='cp949')\n",
    "traffic_data_2015_02=pd.read_csv('/content/drive/Shareddrives/삼현텍📈/data/traffic_data/2015_02분기.csv',encoding='cp949')\n",
    "traffic_data_2015_03=pd.read_csv('/content/drive/Shareddrives/삼현텍📈/data/traffic_data/2015_03분기.csv',encoding='cp949')\n",
    "traffic_data_2015_04=pd.read_csv('/content/drive/Shareddrives/삼현텍📈/data/traffic_data/2015_04분기.csv',encoding='cp949')\n",
    "traffic_data_2016_01=pd.read_csv('/content/drive/Shareddrives/삼현텍📈/data/traffic_data/2016_01분기.csv',encoding='cp949')\n",
    "traffic_data_2016_02=pd.read_csv('/content/drive/Shareddrives/삼현텍📈/data/traffic_data/2016_02분기.csv',encoding='cp949')\n",
    "traffic_data_2016_03=pd.read_csv('/content/drive/Shareddrives/삼현텍📈/data/traffic_data/2016_03분기.csv',encoding='cp949')\n",
    "traffic_data_2016_04=pd.read_csv('/content/drive/Shareddrives/삼현텍📈/data/traffic_data/2016_04분기.csv',encoding='cp949')\n",
    "traffic_data_2017_01=pd.read_csv('/content/drive/Shareddrives/삼현텍📈/data/traffic_data/2017_01분기.csv',encoding='cp949')\n",
    "traffic_data_2017_02=pd.read_csv('/content/drive/Shareddrives/삼현텍📈/data/traffic_data/2017_02분기.csv',encoding='cp949')\n",
    "traffic_data_2017_03=pd.read_csv('/content/drive/Shareddrives/삼현텍📈/data/traffic_data/2017_03분기.csv',encoding='cp949')\n",
    "traffic_data_2017_04=pd.read_csv('/content/drive/Shareddrives/삼현텍📈/data/traffic_data/2017_04분기.csv',encoding='cp949')\n",
    "traffic_data_2018_01=pd.read_csv('/content/drive/Shareddrives/삼현텍📈/data/traffic_data/2018_01분기.csv',encoding='cp949')\n",
    "traffic_data_2018_02=pd.read_csv('/content/drive/Shareddrives/삼현텍📈/data/traffic_data/2018_02분기.csv',encoding='cp949')\n",
    "traffic_data_2018_03=pd.read_csv('/content/drive/Shareddrives/삼현텍📈/data/traffic_data/2018_03분기.csv',encoding='cp949')\n",
    "traffic_data_2018_04=pd.read_csv('/content/drive/Shareddrives/삼현텍📈/data/traffic_data/2018_04분기.csv',encoding='cp949')\n",
    "traffic_data_2019_01=pd.read_csv('/content/drive/Shareddrives/삼현텍📈/data/traffic_data/2019_01분기.csv',encoding='cp949')\n",
    "traffic_data_2019_02=pd.read_csv('/content/drive/Shareddrives/삼현텍📈/data/traffic_data/2019_02분기.csv',encoding='cp949')\n",
    "traffic_data_2019_03=pd.read_csv('/content/drive/Shareddrives/삼현텍📈/data/traffic_data/2019_03분기.csv',encoding='cp949')\n",
    "traffic_data_2019_04=pd.read_csv('/content/drive/Shareddrives/삼현텍📈/data/traffic_data/2019_04분기.csv',encoding='cp949')\n",
    "traffic_data_2020_01=pd.read_csv('/content/drive/Shareddrives/삼현텍📈/data/traffic_data/2020_01분기.csv',encoding='cp949')\n",
    "traffic_data_2020_02=pd.read_csv('/content/drive/Shareddrives/삼현텍📈/data/traffic_data/2020_02분기.csv',encoding='cp949')\n",
    "traffic_data_2020_03=pd.read_csv('/content/drive/Shareddrives/삼현텍📈/data/traffic_data/2020_03분기.csv',encoding='cp949')\n",
    "traffic_data_2020_04=pd.read_csv('/content/drive/Shareddrives/삼현텍📈/data/traffic_data/2020_04분기.csv',encoding='cp949')\n",
    "traffic_data_2021_01=pd.read_csv('/content/drive/Shareddrives/삼현텍📈/data/traffic_data/2021_01분기.csv',encoding='cp949')\n",
    "traffic_data_2021_02=pd.read_csv('/content/drive/Shareddrives/삼현텍📈/data/traffic_data/2021_02분기.csv',encoding='cp949')"
   ]
  }
 ],
 "metadata": {
  "kernelspec": {
   "display_name": "Python 3",
   "language": "python",
   "name": "python3"
  },
  "language_info": {
   "codemirror_mode": {
    "name": "ipython",
    "version": 3
   },
   "file_extension": ".py",
   "mimetype": "text/x-python",
   "name": "python",
   "nbconvert_exporter": "python",
   "pygments_lexer": "ipython3",
   "version": "3.8.5"
  }
 },
 "nbformat": 4,
 "nbformat_minor": 4
}
