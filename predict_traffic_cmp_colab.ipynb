{
  "nbformat": 4,
  "nbformat_minor": 0,
  "metadata": {
    "colab": {
      "name": "predict_traffic_cmp_colab.ipynb",
      "provenance": [],
      "authorship_tag": "ABX9TyNPWg01Y6YevLAvmJbwoSI1",
      "include_colab_link": true
    },
    "kernelspec": {
      "name": "python3",
      "display_name": "Python 3"
    },
    "language_info": {
      "name": "python"
    },
    "accelerator": "GPU"
  },
  "cells": [
    {
      "cell_type": "markdown",
      "metadata": {
        "id": "view-in-github",
        "colab_type": "text"
      },
      "source": [
        "<a href=\"https://colab.research.google.com/github/yhw991228/damentor_3/blob/main/predict_traffic_cmp_colab.ipynb\" target=\"_parent\"><img src=\"https://colab.research.google.com/assets/colab-badge.svg\" alt=\"Open In Colab\"/></a>"
      ]
    },
    {
      "cell_type": "code",
      "metadata": {
        "id": "-i_T3kfkFPBY"
      },
      "source": [
        "import numpy as np # linear algebra\n",
        "import pandas as pd # data processing, CSV file I/O (e.g. pd.read_csv)\n",
        "import matplotlib.pyplot as plt\n",
        "import seaborn as sns "
      ],
      "execution_count": 1,
      "outputs": []
    },
    {
      "cell_type": "code",
      "metadata": {
        "id": "uT0OJ9fYFQfc"
      },
      "source": [
        "import warnings\n",
        "warnings.filterwarnings(action='ignore') "
      ],
      "execution_count": 2,
      "outputs": []
    },
    {
      "cell_type": "code",
      "metadata": {
        "id": "szJiZwNcFRvu"
      },
      "source": [
        "import os\n",
        "import datetime\n",
        "import matplotlib as mpl\n",
        "import IPython\n",
        "import IPython.display\n",
        "\n",
        "mpl.rcParams['figure.figsize'] = (8, 6)\n",
        "mpl.rcParams['axes.grid'] = False"
      ],
      "execution_count": 3,
      "outputs": []
    },
    {
      "cell_type": "code",
      "metadata": {
        "id": "CYxC4ZBNFUpe"
      },
      "source": [
        "import tensorflow as tf"
      ],
      "execution_count": 4,
      "outputs": []
    },
    {
      "cell_type": "code",
      "metadata": {
        "colab": {
          "base_uri": "https://localhost:8080/"
        },
        "id": "QWKjI1M_Ffor",
        "outputId": "04124104-e074-4ddb-9e8b-86ee5a5ea433"
      },
      "source": [
        "from google.colab import drive\n",
        "drive.mount('/content/drive')"
      ],
      "execution_count": 5,
      "outputs": [
        {
          "output_type": "stream",
          "name": "stdout",
          "text": [
            "Mounted at /content/drive\n"
          ]
        }
      ]
    },
    {
      "cell_type": "code",
      "metadata": {
        "id": "dvm9tpG0Fb8V"
      },
      "source": [
        "traffic_data_2015_01=pd.read_csv('/content/drive/Shareddrives/삼현텍📈/data/traffic_data/2015_01분기.csv',encoding='cp949')\n",
        "traffic_data_2015_02=pd.read_csv('/content/drive/Shareddrives/삼현텍📈/data/traffic_data/2015_02분기.csv',encoding='cp949')\n",
        "traffic_data_2015_03=pd.read_csv('/content/drive/Shareddrives/삼현텍📈/data/traffic_data/2015_03분기.csv',encoding='cp949')\n",
        "traffic_data_2015_04=pd.read_csv('/content/drive/Shareddrives/삼현텍📈/data/traffic_data/2015_04분기.csv',encoding='cp949')\n",
        "traffic_data_2016_01=pd.read_csv('/content/drive/Shareddrives/삼현텍📈/data/traffic_data/2016_01분기.csv',encoding='cp949')\n",
        "traffic_data_2016_02=pd.read_csv('/content/drive/Shareddrives/삼현텍📈/data/traffic_data/2016_02분기.csv',encoding='cp949')\n",
        "traffic_data_2016_03=pd.read_csv('/content/drive/Shareddrives/삼현텍📈/data/traffic_data/2016_03분기.csv',encoding='cp949')\n",
        "traffic_data_2016_04=pd.read_csv('/content/drive/Shareddrives/삼현텍📈/data/traffic_data/2016_04분기.csv',encoding='cp949')\n",
        "traffic_data_2017_01=pd.read_csv('/content/drive/Shareddrives/삼현텍📈/data/traffic_data/2017_01분기.csv',encoding='cp949')\n",
        "traffic_data_2017_02=pd.read_csv('/content/drive/Shareddrives/삼현텍📈/data/traffic_data/2017_02분기.csv',encoding='cp949')\n",
        "traffic_data_2017_03=pd.read_csv('/content/drive/Shareddrives/삼현텍📈/data/traffic_data/2017_03분기.csv',encoding='cp949')\n",
        "traffic_data_2017_04=pd.read_csv('/content/drive/Shareddrives/삼현텍📈/data/traffic_data/2017_04분기.csv',encoding='cp949')\n",
        "traffic_data_2018_01=pd.read_csv('/content/drive/Shareddrives/삼현텍📈/data/traffic_data/2018_01분기.csv',encoding='cp949')\n",
        "traffic_data_2018_02=pd.read_csv('/content/drive/Shareddrives/삼현텍📈/data/traffic_data/2018_02분기.csv',encoding='cp949')\n",
        "traffic_data_2018_03=pd.read_csv('/content/drive/Shareddrives/삼현텍📈/data/traffic_data/2018_03분기.csv',encoding='cp949')\n",
        "traffic_data_2018_04=pd.read_csv('/content/drive/Shareddrives/삼현텍📈/data/traffic_data/2018_04분기.csv',encoding='cp949')\n",
        "traffic_data_2019_01=pd.read_csv('/content/drive/Shareddrives/삼현텍📈/data/traffic_data/2019_01분기.csv',encoding='cp949')\n",
        "traffic_data_2019_02=pd.read_csv('/content/drive/Shareddrives/삼현텍📈/data/traffic_data/2019_02분기.csv',encoding='cp949')\n",
        "traffic_data_2019_03=pd.read_csv('/content/drive/Shareddrives/삼현텍📈/data/traffic_data/2019_03분기.csv',encoding='cp949')\n",
        "traffic_data_2019_04=pd.read_csv('/content/drive/Shareddrives/삼현텍📈/data/traffic_data/2019_04분기.csv',encoding='cp949')\n",
        "traffic_data_2020_01=pd.read_csv('/content/drive/Shareddrives/삼현텍📈/data/traffic_data/2020_01분기.csv',encoding='cp949')\n",
        "traffic_data_2020_02=pd.read_csv('/content/drive/Shareddrives/삼현텍📈/data/traffic_data/2020_02분기.csv',encoding='cp949')\n",
        "traffic_data_2020_03=pd.read_csv('/content/drive/Shareddrives/삼현텍📈/data/traffic_data/2020_03분기.csv',encoding='cp949')\n",
        "traffic_data_2020_04=pd.read_csv('/content/drive/Shareddrives/삼현텍📈/data/traffic_data/2020_04분기.csv',encoding='cp949')\n",
        "traffic_data_2021_01=pd.read_csv('/content/drive/Shareddrives/삼현텍📈/data/traffic_data/2021_01분기.csv',encoding='cp949')\n",
        "traffic_data_2021_02=pd.read_csv('/content/drive/Shareddrives/삼현텍📈/data/traffic_data/2021_02분기.csv',encoding='cp949')"
      ],
      "execution_count": 6,
      "outputs": []
    },
    {
      "cell_type": "code",
      "metadata": {
        "id": "Ir-7ahiUGBZ_"
      },
      "source": [
        "traffic_data_2015=pd.concat([traffic_data_2015_01,traffic_data_2015_02,traffic_data_2015_03,traffic_data_2015_04])\n",
        "traffic_data_2016=pd.concat([traffic_data_2016_01,traffic_data_2016_02,traffic_data_2016_03,traffic_data_2016_04])\n",
        "traffic_data_2017=pd.concat([traffic_data_2017_01,traffic_data_2017_02,traffic_data_2017_03,traffic_data_2017_04])\n",
        "traffic_data_2018=pd.concat([traffic_data_2018_01,traffic_data_2018_02,traffic_data_2018_03,traffic_data_2018_04])\n",
        "traffic_data_2019=pd.concat([traffic_data_2019_01,traffic_data_2019_02,traffic_data_2019_03,traffic_data_2019_04])\n",
        "traffic_data_2020=pd.concat([traffic_data_2020_01,traffic_data_2020_02,traffic_data_2020_03,traffic_data_2020_04])\n",
        "traffic_data_2021=pd.concat([traffic_data_2021_01,traffic_data_2021_02])\n",
        "traffic_data_past=pd.concat([traffic_data_2015,traffic_data_2016,traffic_data_2017,traffic_data_2018,traffic_data_2019])\n",
        "traffic_data_future=pd.concat([traffic_data_2020,traffic_data_2021])"
      ],
      "execution_count": 7,
      "outputs": []
    },
    {
      "cell_type": "code",
      "metadata": {
        "id": "S3g3YPGBHV8t"
      },
      "source": [
        "traffic_data_past['집계일자']=pd.to_datetime(traffic_data_past['집계일자'],format='%Y%m%d')\n",
        "traffic_data_past['연도']=traffic_data_past['집계일자'].dt.year\n",
        "traffic_data_future['집계일자']=pd.to_datetime(traffic_data_future['집계일자'],format='%Y%m%d')\n",
        "traffic_data_future['연도']=traffic_data_future['집계일자'].dt.year"
      ],
      "execution_count": 8,
      "outputs": []
    },
    {
      "cell_type": "code",
      "metadata": {
        "id": "Hn_ikivZHW2_"
      },
      "source": [
        "def change_traffic(traffic_data):\n",
        "    traffic_data.index=traffic_data.집계일자\n",
        "    traffic_data=traffic_data.drop('집계일자',axis=1)\n",
        "    traffic_data=traffic_data[['영업소명','1종교통량', '2종교통량','3종교통량', '4종교통량', '5종교통량', '6종교통량', '총교통량']]\n",
        "    traffic_data.index=pd.to_datetime(traffic_data.index, format='%Y%m%d')\n",
        "    traffic_data['year']=traffic_data.index.year \n",
        "    traffic_data['month']=traffic_data.index.month\n",
        "    days={0:'MON',1:'TUE',2:'WED',3:'THU',4:'FRI',5:'SAT',6:'SUN'}\n",
        "    traffic_data['day_of_week']=traffic_data.index.dayofweek \n",
        "    traffic_data.day_of_week=traffic_data.day_of_week.apply(lambda x : days[x])\n",
        "    traffic_data.head()\n",
        "    return traffic_data"
      ],
      "execution_count": 9,
      "outputs": []
    },
    {
      "cell_type": "code",
      "metadata": {
        "colab": {
          "base_uri": "https://localhost:8080/",
          "height": 232
        },
        "id": "n8U-mIi-HbBO",
        "outputId": "b79120b3-1a16-48b6-b9f4-3947a64fd074"
      },
      "source": [
        "traffic_data_past=change_traffic(traffic_data_past)\n",
        "traffic_data_past.head()"
      ],
      "execution_count": 10,
      "outputs": [
        {
          "output_type": "execute_result",
          "data": {
            "text/html": [
              "<div>\n",
              "<style scoped>\n",
              "    .dataframe tbody tr th:only-of-type {\n",
              "        vertical-align: middle;\n",
              "    }\n",
              "\n",
              "    .dataframe tbody tr th {\n",
              "        vertical-align: top;\n",
              "    }\n",
              "\n",
              "    .dataframe thead th {\n",
              "        text-align: right;\n",
              "    }\n",
              "</style>\n",
              "<table border=\"1\" class=\"dataframe\">\n",
              "  <thead>\n",
              "    <tr style=\"text-align: right;\">\n",
              "      <th></th>\n",
              "      <th>영업소명</th>\n",
              "      <th>1종교통량</th>\n",
              "      <th>2종교통량</th>\n",
              "      <th>3종교통량</th>\n",
              "      <th>4종교통량</th>\n",
              "      <th>5종교통량</th>\n",
              "      <th>6종교통량</th>\n",
              "      <th>총교통량</th>\n",
              "      <th>year</th>\n",
              "      <th>month</th>\n",
              "      <th>day_of_week</th>\n",
              "    </tr>\n",
              "    <tr>\n",
              "      <th>집계일자</th>\n",
              "      <th></th>\n",
              "      <th></th>\n",
              "      <th></th>\n",
              "      <th></th>\n",
              "      <th></th>\n",
              "      <th></th>\n",
              "      <th></th>\n",
              "      <th></th>\n",
              "      <th></th>\n",
              "      <th></th>\n",
              "      <th></th>\n",
              "    </tr>\n",
              "  </thead>\n",
              "  <tbody>\n",
              "    <tr>\n",
              "      <th>2015-01-01</th>\n",
              "      <td>가락</td>\n",
              "      <td>329</td>\n",
              "      <td>14</td>\n",
              "      <td>31</td>\n",
              "      <td>45</td>\n",
              "      <td>467</td>\n",
              "      <td>1</td>\n",
              "      <td>887</td>\n",
              "      <td>2015</td>\n",
              "      <td>1</td>\n",
              "      <td>THU</td>\n",
              "    </tr>\n",
              "    <tr>\n",
              "      <th>2015-01-01</th>\n",
              "      <td>가락</td>\n",
              "      <td>696</td>\n",
              "      <td>16</td>\n",
              "      <td>4</td>\n",
              "      <td>2</td>\n",
              "      <td>11</td>\n",
              "      <td>37</td>\n",
              "      <td>766</td>\n",
              "      <td>2015</td>\n",
              "      <td>1</td>\n",
              "      <td>THU</td>\n",
              "    </tr>\n",
              "    <tr>\n",
              "      <th>2015-01-01</th>\n",
              "      <td>가락(개)</td>\n",
              "      <td>2931</td>\n",
              "      <td>50</td>\n",
              "      <td>91</td>\n",
              "      <td>114</td>\n",
              "      <td>454</td>\n",
              "      <td>316</td>\n",
              "      <td>3956</td>\n",
              "      <td>2015</td>\n",
              "      <td>1</td>\n",
              "      <td>THU</td>\n",
              "    </tr>\n",
              "    <tr>\n",
              "      <th>2015-01-01</th>\n",
              "      <td>가락(개)</td>\n",
              "      <td>5219</td>\n",
              "      <td>20</td>\n",
              "      <td>24</td>\n",
              "      <td>0</td>\n",
              "      <td>1</td>\n",
              "      <td>283</td>\n",
              "      <td>5547</td>\n",
              "      <td>2015</td>\n",
              "      <td>1</td>\n",
              "      <td>THU</td>\n",
              "    </tr>\n",
              "    <tr>\n",
              "      <th>2015-01-01</th>\n",
              "      <td>가락(개)</td>\n",
              "      <td>3374</td>\n",
              "      <td>42</td>\n",
              "      <td>107</td>\n",
              "      <td>94</td>\n",
              "      <td>603</td>\n",
              "      <td>415</td>\n",
              "      <td>4635</td>\n",
              "      <td>2015</td>\n",
              "      <td>1</td>\n",
              "      <td>THU</td>\n",
              "    </tr>\n",
              "  </tbody>\n",
              "</table>\n",
              "</div>"
            ],
            "text/plain": [
              "             영업소명  1종교통량  2종교통량  3종교통량  ...  총교통량  year  month  day_of_week\n",
              "집계일자                                    ...                                \n",
              "2015-01-01     가락    329     14     31  ...   887  2015      1          THU\n",
              "2015-01-01     가락    696     16      4  ...   766  2015      1          THU\n",
              "2015-01-01  가락(개)   2931     50     91  ...  3956  2015      1          THU\n",
              "2015-01-01  가락(개)   5219     20     24  ...  5547  2015      1          THU\n",
              "2015-01-01  가락(개)   3374     42    107  ...  4635  2015      1          THU\n",
              "\n",
              "[5 rows x 11 columns]"
            ]
          },
          "metadata": {},
          "execution_count": 10
        }
      ]
    },
    {
      "cell_type": "code",
      "metadata": {
        "id": "Dr_vH2llHdkK"
      },
      "source": [
        "traffic_data_past=traffic_data_past.replace('서서울영업소','서서울')\n",
        "traffic_data_past=traffic_data_past.replace('서울영업소','서울')\n",
        "traffic_data_past=traffic_data_past.replace('서대구영업소','서대구')\n",
        "traffic_data_past=traffic_data_past.replace('북대구영업소','북대구')\n",
        "traffic_data_past=traffic_data_past.replace('남대구영업소','남대구')\n",
        "traffic_data_future=traffic_data_future.replace('서서울영업소','서서울')\n",
        "traffic_data_future=traffic_data_future.replace('서울영업소','서울')\n",
        "traffic_data_future=traffic_data_future.replace('서대구영업소','서대구')\n",
        "traffic_data_future=traffic_data_future.replace('북대구영업소','북대구')\n",
        "traffic_data_future=traffic_data_future.replace('남대구영업소','남대구')"
      ],
      "execution_count": 11,
      "outputs": []
    },
    {
      "cell_type": "code",
      "metadata": {
        "id": "veMnizSPHqo9"
      },
      "source": [
        "seoul_traffic_data_past=traffic_data_past[((traffic_data_past['영업소명']=='서서울') | (traffic_data_past['영업소명']=='서울') | (traffic_data_past['영업소명']=='남서울'))&(traffic_data_past['day_of_week']=='MON')\n",
        "]\n",
        "seoul_traffic_data_past=seoul_traffic_data_past.replace(max(seoul_traffic_data_past['1종교통량']),10000)\n",
        "seoul_traffic_data_past=seoul_traffic_data_past.replace(max(seoul_traffic_data_past['1종교통량']),10000)\n",
        "#이상치 2개 수정 **"
      ],
      "execution_count": 12,
      "outputs": []
    },
    {
      "cell_type": "code",
      "metadata": {
        "id": "wsF97w31H0T_"
      },
      "source": [
        "seoul_traffic_data_past=seoul_traffic_data_past.groupby('집계일자').mean()"
      ],
      "execution_count": 28,
      "outputs": []
    },
    {
      "cell_type": "markdown",
      "metadata": {
        "id": "RT3K6sGYH1da"
      },
      "source": [
        "# LSTM을 돌려 보자"
      ]
    },
    {
      "cell_type": "code",
      "metadata": {
        "id": "Q22Xqb_5H6Xg"
      },
      "source": [
        "def univariate_data(dataset,start_index,end_index,history_size,target_size):\n",
        "    data=[]\n",
        "    labels=[]\n",
        "    start_index=start_index+history_size\n",
        "    if end_index is None:\n",
        "        end_index=len(dataset)-target_size\n",
        "    for i in range(start_index,end_index):\n",
        "        indices = range(i-history_size,i)\n",
        "        data.append(np.reshape(dataset[indices],(history_size,1)))\n",
        "        labels.append(dataset[i+target_size])\n",
        "    return np.array(data),np.array(labels)"
      ],
      "execution_count": 29,
      "outputs": []
    },
    {
      "cell_type": "code",
      "metadata": {
        "colab": {
          "base_uri": "https://localhost:8080/",
          "height": 445
        },
        "id": "cj36Eq-DzwIL",
        "outputId": "c75c2428-c185-4070-978c-af4ab5aaaa49"
      },
      "source": [
        "seoul_traffic_data"
      ],
      "execution_count": 30,
      "outputs": [
        {
          "output_type": "execute_result",
          "data": {
            "text/html": [
              "<div>\n",
              "<style scoped>\n",
              "    .dataframe tbody tr th:only-of-type {\n",
              "        vertical-align: middle;\n",
              "    }\n",
              "\n",
              "    .dataframe tbody tr th {\n",
              "        vertical-align: top;\n",
              "    }\n",
              "\n",
              "    .dataframe thead th {\n",
              "        text-align: right;\n",
              "    }\n",
              "</style>\n",
              "<table border=\"1\" class=\"dataframe\">\n",
              "  <thead>\n",
              "    <tr style=\"text-align: right;\">\n",
              "      <th></th>\n",
              "      <th>1종교통량</th>\n",
              "      <th>2종교통량</th>\n",
              "      <th>3종교통량</th>\n",
              "      <th>4종교통량</th>\n",
              "      <th>5종교통량</th>\n",
              "      <th>6종교통량</th>\n",
              "      <th>총교통량</th>\n",
              "      <th>year</th>\n",
              "      <th>month</th>\n",
              "    </tr>\n",
              "    <tr>\n",
              "      <th>집계일자</th>\n",
              "      <th></th>\n",
              "      <th></th>\n",
              "      <th></th>\n",
              "      <th></th>\n",
              "      <th></th>\n",
              "      <th></th>\n",
              "      <th></th>\n",
              "      <th></th>\n",
              "      <th></th>\n",
              "    </tr>\n",
              "  </thead>\n",
              "  <tbody>\n",
              "    <tr>\n",
              "      <th>2015-01-05</th>\n",
              "      <td>39495.000</td>\n",
              "      <td>1821.250</td>\n",
              "      <td>3098.500</td>\n",
              "      <td>1024.500</td>\n",
              "      <td>799.500</td>\n",
              "      <td>2365.000</td>\n",
              "      <td>48603.750</td>\n",
              "      <td>2015.0</td>\n",
              "      <td>1.0</td>\n",
              "    </tr>\n",
              "    <tr>\n",
              "      <th>2015-01-12</th>\n",
              "      <td>40445.125</td>\n",
              "      <td>1783.000</td>\n",
              "      <td>3095.875</td>\n",
              "      <td>1027.125</td>\n",
              "      <td>781.250</td>\n",
              "      <td>2449.125</td>\n",
              "      <td>49581.500</td>\n",
              "      <td>2015.0</td>\n",
              "      <td>1.0</td>\n",
              "    </tr>\n",
              "    <tr>\n",
              "      <th>2015-01-19</th>\n",
              "      <td>39080.625</td>\n",
              "      <td>1768.875</td>\n",
              "      <td>3114.875</td>\n",
              "      <td>999.250</td>\n",
              "      <td>724.000</td>\n",
              "      <td>2347.875</td>\n",
              "      <td>48035.500</td>\n",
              "      <td>2015.0</td>\n",
              "      <td>1.0</td>\n",
              "    </tr>\n",
              "    <tr>\n",
              "      <th>2015-01-26</th>\n",
              "      <td>40234.250</td>\n",
              "      <td>1755.750</td>\n",
              "      <td>3144.500</td>\n",
              "      <td>1015.375</td>\n",
              "      <td>740.250</td>\n",
              "      <td>2468.500</td>\n",
              "      <td>49358.625</td>\n",
              "      <td>2015.0</td>\n",
              "      <td>1.0</td>\n",
              "    </tr>\n",
              "    <tr>\n",
              "      <th>2015-02-02</th>\n",
              "      <td>40371.625</td>\n",
              "      <td>1856.250</td>\n",
              "      <td>3139.625</td>\n",
              "      <td>1075.375</td>\n",
              "      <td>790.125</td>\n",
              "      <td>2471.250</td>\n",
              "      <td>49704.250</td>\n",
              "      <td>2015.0</td>\n",
              "      <td>2.0</td>\n",
              "    </tr>\n",
              "    <tr>\n",
              "      <th>...</th>\n",
              "      <td>...</td>\n",
              "      <td>...</td>\n",
              "      <td>...</td>\n",
              "      <td>...</td>\n",
              "      <td>...</td>\n",
              "      <td>...</td>\n",
              "      <td>...</td>\n",
              "      <td>...</td>\n",
              "      <td>...</td>\n",
              "    </tr>\n",
              "    <tr>\n",
              "      <th>2019-12-02</th>\n",
              "      <td>40407.625</td>\n",
              "      <td>1452.375</td>\n",
              "      <td>3013.375</td>\n",
              "      <td>1291.250</td>\n",
              "      <td>946.375</td>\n",
              "      <td>2167.375</td>\n",
              "      <td>49278.375</td>\n",
              "      <td>2019.0</td>\n",
              "      <td>12.0</td>\n",
              "    </tr>\n",
              "    <tr>\n",
              "      <th>2019-12-09</th>\n",
              "      <td>40917.875</td>\n",
              "      <td>1442.000</td>\n",
              "      <td>3077.375</td>\n",
              "      <td>1302.250</td>\n",
              "      <td>1045.750</td>\n",
              "      <td>2222.250</td>\n",
              "      <td>50007.500</td>\n",
              "      <td>2019.0</td>\n",
              "      <td>12.0</td>\n",
              "    </tr>\n",
              "    <tr>\n",
              "      <th>2019-12-16</th>\n",
              "      <td>40943.000</td>\n",
              "      <td>1480.875</td>\n",
              "      <td>2959.625</td>\n",
              "      <td>1230.125</td>\n",
              "      <td>1015.375</td>\n",
              "      <td>2192.125</td>\n",
              "      <td>49821.125</td>\n",
              "      <td>2019.0</td>\n",
              "      <td>12.0</td>\n",
              "    </tr>\n",
              "    <tr>\n",
              "      <th>2019-12-23</th>\n",
              "      <td>40486.625</td>\n",
              "      <td>1441.000</td>\n",
              "      <td>3015.000</td>\n",
              "      <td>1310.250</td>\n",
              "      <td>960.125</td>\n",
              "      <td>2147.125</td>\n",
              "      <td>49360.125</td>\n",
              "      <td>2019.0</td>\n",
              "      <td>12.0</td>\n",
              "    </tr>\n",
              "    <tr>\n",
              "      <th>2019-12-30</th>\n",
              "      <td>40211.750</td>\n",
              "      <td>1371.250</td>\n",
              "      <td>2867.625</td>\n",
              "      <td>1159.250</td>\n",
              "      <td>928.250</td>\n",
              "      <td>2089.875</td>\n",
              "      <td>48628.000</td>\n",
              "      <td>2019.0</td>\n",
              "      <td>12.0</td>\n",
              "    </tr>\n",
              "  </tbody>\n",
              "</table>\n",
              "<p>259 rows × 9 columns</p>\n",
              "</div>"
            ],
            "text/plain": [
              "                1종교통량     2종교통량     3종교통량  ...       총교통량    year  month\n",
              "집계일자                                       ...                          \n",
              "2015-01-05  39495.000  1821.250  3098.500  ...  48603.750  2015.0    1.0\n",
              "2015-01-12  40445.125  1783.000  3095.875  ...  49581.500  2015.0    1.0\n",
              "2015-01-19  39080.625  1768.875  3114.875  ...  48035.500  2015.0    1.0\n",
              "2015-01-26  40234.250  1755.750  3144.500  ...  49358.625  2015.0    1.0\n",
              "2015-02-02  40371.625  1856.250  3139.625  ...  49704.250  2015.0    2.0\n",
              "...               ...       ...       ...  ...        ...     ...    ...\n",
              "2019-12-02  40407.625  1452.375  3013.375  ...  49278.375  2019.0   12.0\n",
              "2019-12-09  40917.875  1442.000  3077.375  ...  50007.500  2019.0   12.0\n",
              "2019-12-16  40943.000  1480.875  2959.625  ...  49821.125  2019.0   12.0\n",
              "2019-12-23  40486.625  1441.000  3015.000  ...  49360.125  2019.0   12.0\n",
              "2019-12-30  40211.750  1371.250  2867.625  ...  48628.000  2019.0   12.0\n",
              "\n",
              "[259 rows x 9 columns]"
            ]
          },
          "metadata": {},
          "execution_count": 30
        }
      ]
    },
    {
      "cell_type": "code",
      "metadata": {
        "colab": {
          "base_uri": "https://localhost:8080/"
        },
        "id": "Tsq9ozurH7_t",
        "outputId": "6d69669b-2d5a-4bb8-ef70-f918420d51ea"
      },
      "source": [
        "uni_data=seoul_traffic_data_past['1종교통량']\n",
        "uni_data.index=seoul_traffic_data_past.index\n",
        "uni_data"
      ],
      "execution_count": 31,
      "outputs": [
        {
          "output_type": "execute_result",
          "data": {
            "text/plain": [
              "집계일자\n",
              "2015-01-05    39495.000\n",
              "2015-01-12    40445.125\n",
              "2015-01-19    39080.625\n",
              "2015-01-26    40234.250\n",
              "2015-02-02    40371.625\n",
              "                ...    \n",
              "2019-12-02    40407.625\n",
              "2019-12-09    40917.875\n",
              "2019-12-16    40943.000\n",
              "2019-12-23    40486.625\n",
              "2019-12-30    40211.750\n",
              "Name: 1종교통량, Length: 259, dtype: float64"
            ]
          },
          "metadata": {},
          "execution_count": 31
        }
      ]
    },
    {
      "cell_type": "code",
      "metadata": {
        "colab": {
          "base_uri": "https://localhost:8080/"
        },
        "id": "YXPM4J5F2ZdP",
        "outputId": "2d4c1577-b5d3-4127-ccd5-4121c5419ad9"
      },
      "source": [
        ""
      ],
      "execution_count": 85,
      "outputs": [
        {
          "output_type": "execute_result",
          "data": {
            "text/plain": [
              "numpy.ndarray"
            ]
          },
          "metadata": {},
          "execution_count": 85
        }
      ]
    },
    {
      "cell_type": "code",
      "metadata": {
        "colab": {
          "base_uri": "https://localhost:8080/",
          "height": 402
        },
        "id": "5iwp3HJxH9FL",
        "outputId": "e17636c4-87d6-472a-e27f-c202682b4ac5"
      },
      "source": [
        "uni_data.plot(subplots=True)"
      ],
      "execution_count": 32,
      "outputs": [
        {
          "output_type": "execute_result",
          "data": {
            "text/plain": [
              "array([<matplotlib.axes._subplots.AxesSubplot object at 0x7f3df7b047d0>],\n",
              "      dtype=object)"
            ]
          },
          "metadata": {},
          "execution_count": 32
        },
        {
          "output_type": "display_data",
          "data": {
            "image/png": "[encoded data removed]",
            "text/plain": [
              "<Figure size 576x432 with 1 Axes>"
            ]
          },
          "metadata": {
            "needs_background": "light"
          }
        }
      ]
    },
    {
      "cell_type": "code",
      "metadata": {
        "id": "KMEL1yqLH-Wd"
      },
      "source": [
        "uni_data=uni_data.values\n",
        "uni_data=(uni_data)/max(uni_data) #정규화"
      ],
      "execution_count": 33,
      "outputs": []
    },
    {
      "cell_type": "code",
      "metadata": {
        "colab": {
          "base_uri": "https://localhost:8080/"
        },
        "id": "vwWd2lnqH_bd",
        "outputId": "60ef70d4-5af6-421c-c99a-ec5193c1b063"
      },
      "source": [
        "len(uni_data)"
      ],
      "execution_count": 34,
      "outputs": [
        {
          "output_type": "execute_result",
          "data": {
            "text/plain": [
              "259"
            ]
          },
          "metadata": {},
          "execution_count": 34
        }
      ]
    },
    {
      "cell_type": "code",
      "metadata": {
        "id": "FGdjcpcDIHG3"
      },
      "source": [
        "TRAIN_SPLIT = 225 # 10프로 test set\n",
        "tf.random.set_seed(13)"
      ],
      "execution_count": 40,
      "outputs": []
    },
    {
      "cell_type": "code",
      "metadata": {
        "id": "Jc8Sj6mWILUP"
      },
      "source": [
        "univariate_past_history = 20\n",
        "univariate_future_target = 0\n",
        "x_train_uni,y_train_uni = univariate_data(uni_data , 0, TRAIN_SPLIT,univariate_past_history,univariate_future_target)\n",
        "x_val_uni,y_val_uni = univariate_data(uni_data , TRAIN_SPLIT,None,univariate_past_history,univariate_future_target)"
      ],
      "execution_count": 41,
      "outputs": []
    },
    {
      "cell_type": "code",
      "metadata": {
        "id": "RipAG5X5IM0P"
      },
      "source": [
        "def create_time_steps(length):\n",
        "    return list(range(-length,0))"
      ],
      "execution_count": 42,
      "outputs": []
    },
    {
      "cell_type": "code",
      "metadata": {
        "id": "5zSa3Qu-IOd0"
      },
      "source": [
        "def show_plot(plot_data,delta,title):\n",
        "    labels=['History','True Future','Model Prediction']\n",
        "    marker = ['.-','rx','go']\n",
        "    time_steps=create_time_steps(plot_data[0].shape[0])\n",
        "    if delta:\n",
        "        future=delta\n",
        "    else:\n",
        "        future =0 \n",
        "    \n",
        "    plt.title(title)\n",
        "    for i, x in enumerate(plot_data):\n",
        "        if i:\n",
        "            plt.plot(future, plot_data[i],marker[i], markersize=10,label=labels[i])\n",
        "        else:\n",
        "            plt.plot(time_steps,plot_data[i].flatten(),marker[i],label=labels[i])\n",
        "    plt.legend()\n",
        "    plt.xlim([time_steps[0],(future+5)*2])\n",
        "    plt.xlabel('Time-Step')\n",
        "    return plt"
      ],
      "execution_count": 43,
      "outputs": []
    },
    {
      "cell_type": "code",
      "metadata": {
        "colab": {
          "base_uri": "https://localhost:8080/",
          "height": 422
        },
        "id": "QpV6kN_XIQGs",
        "outputId": "7f204afb-eb51-49bd-8137-f3e7a2d2ff41"
      },
      "source": [
        "show_plot([x_train_uni[0],y_train_uni[0]],0,'Sample Example') #업다운이 너무 심해서 맞는건지 모르겠다 이렇게 하는건지,,"
      ],
      "execution_count": 44,
      "outputs": [
        {
          "output_type": "execute_result",
          "data": {
            "text/plain": [
              "<module 'matplotlib.pyplot' from '/usr/local/lib/python3.7/dist-packages/matplotlib/pyplot.py'>"
            ]
          },
          "metadata": {},
          "execution_count": 44
        },
        {
          "output_type": "display_data",
          "data": {
            "image/png": "[encoded data removed]",
            "text/plain": [
              "<Figure size 576x432 with 1 Axes>"
            ]
          },
          "metadata": {
            "needs_background": "light"
          }
        }
      ]
    },
    {
      "cell_type": "code",
      "metadata": {
        "id": "k_yLZylmIRjD"
      },
      "source": [
        "def baseline(history):\n",
        "    return np.mean(history)"
      ],
      "execution_count": 45,
      "outputs": []
    },
    {
      "cell_type": "code",
      "metadata": {
        "colab": {
          "base_uri": "https://localhost:8080/",
          "height": 422
        },
        "id": "aRLX8SKDIT7i",
        "outputId": "25690304-d636-47a0-86cb-941534f136fb"
      },
      "source": [
        "show_plot([x_train_uni[0],y_train_uni[0],baseline(x_train_uni[0])],0,'Baseline Predicion Example')"
      ],
      "execution_count": 46,
      "outputs": [
        {
          "output_type": "execute_result",
          "data": {
            "text/plain": [
              "<module 'matplotlib.pyplot' from '/usr/local/lib/python3.7/dist-packages/matplotlib/pyplot.py'>"
            ]
          },
          "metadata": {},
          "execution_count": 46
        },
        {
          "output_type": "display_data",
          "data": {
            "image/png": "[encoded data removed]",
            "text/plain": [
              "<Figure size 576x432 with 1 Axes>"
            ]
          },
          "metadata": {
            "needs_background": "light"
          }
        }
      ]
    },
    {
      "cell_type": "code",
      "metadata": {
        "id": "8e8rbirbIb3Y"
      },
      "source": [
        "BATCH_SIZE = 15\n",
        "BUFFER_SIZE = 1000\n",
        "\n",
        "train_univariate=tf.data.Dataset.from_tensor_slices((x_train_uni,y_train_uni))\n",
        "train_univariate=train_univariate.cache().shuffle(BUFFER_SIZE).batch(BATCH_SIZE)\n",
        "\n",
        "val_univariate = tf.data.Dataset.from_tensor_slices((x_val_uni,y_val_uni))\n",
        "val_univariate = val_univariate.batch(BATCH_SIZE).repeat()"
      ],
      "execution_count": 74,
      "outputs": []
    },
    {
      "cell_type": "code",
      "metadata": {
        "id": "kbun0jjXIdWl"
      },
      "source": [
        "simple_lstm_model = tf.keras.models.Sequential([tf.keras.layers.LSTM(8,input_shape=x_train_uni.shape[-2:]),tf.keras.layers.Dense(1)])\n",
        "simple_lstm_model.compile(optimizer='adam' , loss='mae')"
      ],
      "execution_count": 75,
      "outputs": []
    },
    {
      "cell_type": "markdown",
      "metadata": {
        "id": "iuPkUClGJ9--"
      },
      "source": [
        ""
      ]
    },
    {
      "cell_type": "code",
      "metadata": {
        "colab": {
          "base_uri": "https://localhost:8080/"
        },
        "id": "w6YBRHCqIgOn",
        "outputId": "7cc70d30-10ba-451c-c9e2-84caab89a763"
      },
      "source": [
        "for x, y in val_univariate.take(1):\n",
        "    print(simple_lstm_model.predict(x).shape)"
      ],
      "execution_count": 76,
      "outputs": [
        {
          "output_type": "stream",
          "name": "stdout",
          "text": [
            "WARNING:tensorflow:6 out of the last 6 calls to <function Model.make_predict_function.<locals>.predict_function at 0x7f3d4ee78050> triggered tf.function retracing. Tracing is expensive and the excessive number of tracings could be due to (1) creating @tf.function repeatedly in a loop, (2) passing tensors with different shapes, (3) passing Python objects instead of tensors. For (1), please define your @tf.function outside of the loop. For (2), @tf.function has experimental_relax_shapes=True option that relaxes argument shapes that can avoid unnecessary retracing. For (3), please refer to https://www.tensorflow.org/guide/function#controlling_retracing and https://www.tensorflow.org/api_docs/python/tf/function for  more details.\n",
            "(14, 1)\n"
          ]
        }
      ]
    },
    {
      "cell_type": "code",
      "metadata": {
        "colab": {
          "base_uri": "https://localhost:8080/"
        },
        "id": "ygc8Uj4KIh0k",
        "outputId": "77437855-43f8-4e8c-9d37-09b6f6caff90"
      },
      "source": [
        "EVALUATION_INTERVAL = 3\n",
        "EPOCHS = 15\n",
        "simple_lstm_model.fit(train_univariate,epochs=EPOCHS,validation_data=val_univariate,validation_steps=50)"
      ],
      "execution_count": 77,
      "outputs": [
        {
          "output_type": "stream",
          "name": "stdout",
          "text": [
            "Epoch 1/15\n",
            "14/14 [==============================] - 3s 51ms/step - loss: 0.8237 - val_loss: 0.7277\n",
            "Epoch 2/15\n",
            "14/14 [==============================] - 0s 16ms/step - loss: 0.6637 - val_loss: 0.5604\n",
            "Epoch 3/15\n",
            "14/14 [==============================] - 0s 17ms/step - loss: 0.4844 - val_loss: 0.3638\n",
            "Epoch 4/15\n",
            "14/14 [==============================] - 0s 17ms/step - loss: 0.2671 - val_loss: 0.1145\n",
            "Epoch 5/15\n",
            "14/14 [==============================] - 0s 16ms/step - loss: 0.0666 - val_loss: 0.0650\n",
            "Epoch 6/15\n",
            "14/14 [==============================] - 0s 17ms/step - loss: 0.0411 - val_loss: 0.0228\n",
            "Epoch 7/15\n",
            "14/14 [==============================] - 0s 18ms/step - loss: 0.0348 - val_loss: 0.0256\n",
            "Epoch 8/15\n",
            "14/14 [==============================] - 0s 17ms/step - loss: 0.0350 - val_loss: 0.0205\n",
            "Epoch 9/15\n",
            "14/14 [==============================] - 0s 16ms/step - loss: 0.0344 - val_loss: 0.0199\n",
            "Epoch 10/15\n",
            "14/14 [==============================] - 0s 16ms/step - loss: 0.0340 - val_loss: 0.0199\n",
            "Epoch 11/15\n",
            "14/14 [==============================] - 0s 17ms/step - loss: 0.0347 - val_loss: 0.0204\n",
            "Epoch 12/15\n",
            "14/14 [==============================] - 0s 17ms/step - loss: 0.0356 - val_loss: 0.0206\n",
            "Epoch 13/15\n",
            "14/14 [==============================] - 0s 18ms/step - loss: 0.0355 - val_loss: 0.0225\n",
            "Epoch 14/15\n",
            "14/14 [==============================] - 0s 16ms/step - loss: 0.0347 - val_loss: 0.0218\n",
            "Epoch 15/15\n",
            "14/14 [==============================] - 0s 17ms/step - loss: 0.0340 - val_loss: 0.0200\n"
          ]
        },
        {
          "output_type": "execute_result",
          "data": {
            "text/plain": [
              "<keras.callbacks.History at 0x7f3d4ed74a50>"
            ]
          },
          "metadata": {},
          "execution_count": 77
        }
      ]
    },
    {
      "cell_type": "code",
      "metadata": {
        "colab": {
          "base_uri": "https://localhost:8080/",
          "height": 1000
        },
        "id": "dRjqiFwCIjc0",
        "outputId": "0337d656-7360-4e35-9459-4ba2d9980d14"
      },
      "source": [
        "for x,y in val_univariate.take(3):\n",
        "  plot=show_plot([x[0].numpy(),y[0].numpy(),simple_lstm_model.predict(x)[0]],0,'Simple LSTM model')\n",
        "  plot.show()"
      ],
      "execution_count": 78,
      "outputs": [
        {
          "output_type": "display_data",
          "data": {
            "image/png": "[encoded data removed]",
            "text/plain": [
              "<Figure size 576x432 with 1 Axes>"
            ]
          },
          "metadata": {
            "needs_background": "light"
          }
        },
        {
          "output_type": "display_data",
          "data": {
            "image/png": "[encoded data removed]",
            "text/plain": [
              "<Figure size 576x432 with 1 Axes>"
            ]
          },
          "metadata": {
            "needs_background": "light"
          }
        },
        {
          "output_type": "display_data",
          "data": {
            "image/png": "[encoded data removed]",
            "text/plain": [
              "<Figure size 576x432 with 1 Axes>"
            ]
          },
          "metadata": {
            "needs_background": "light"
          }
        }
      ]
    },
    {
      "cell_type": "code",
      "metadata": {
        "id": "fVR7nFQfK1XQ"
      },
      "source": [
        "single_step_model = tf.keras.models.Sequential()\n",
        "single_step_model.add(tf.keras.layers.LSTM(32,input_shape=x_train_uni.shape[-2:]))\n",
        "single_step_model.add(tf.keras.layers.Dense(1))\n",
        "single_step_model.compile(optimizer=tf.keras.optimizers.RMSprop(),loss='mae')"
      ],
      "execution_count": 79,
      "outputs": []
    },
    {
      "cell_type": "code",
      "metadata": {
        "id": "rkw9xwhYHnCp"
      },
      "source": [
        ""
      ],
      "execution_count": null,
      "outputs": []
    },
    {
      "cell_type": "code",
      "metadata": {
        "id": "JXkHLtHQI8k0"
      },
      "source": [
        ""
      ],
      "execution_count": null,
      "outputs": []
    },
    {
      "cell_type": "markdown",
      "metadata": {
        "id": "jz6BgwNoJ_y7"
      },
      "source": [
        "## 아오~~ 다시 돌려보자"
      ]
    },
    {
      "cell_type": "code",
      "metadata": {
        "id": "G4PQJbdoKBhM"
      },
      "source": [
        "for i in "
      ],
      "execution_count": 80,
      "outputs": []
    },
    {
      "cell_type": "code",
      "metadata": {
        "id": "D6FLg2G9KG3f"
      },
      "source": [
        "x_train=x_train.reshape(len(x_train)//3,3,1)"
      ],
      "execution_count": 81,
      "outputs": []
    },
    {
      "cell_type": "code",
      "metadata": {
        "colab": {
          "base_uri": "https://localhost:8080/"
        },
        "id": "7q4hzRUbLcdg",
        "outputId": "ae122a93-3d03-46c5-d14d-fd6088a81a34"
      },
      "source": [
        "y_train.shape"
      ],
      "execution_count": 82,
      "outputs": [
        {
          "output_type": "execute_result",
          "data": {
            "text/plain": [
              "(256,)"
            ]
          },
          "metadata": {},
          "execution_count": 82
        }
      ]
    },
    {
      "cell_type": "code",
      "metadata": {
        "id": "7Kl8B5H9VswQ"
      },
      "source": [
        "from keras.models import Sequential\n",
        "from keras.layers import Dense, LSTM"
      ],
      "execution_count": 83,
      "outputs": []
    },
    {
      "cell_type": "code",
      "metadata": {
        "colab": {
          "base_uri": "https://localhost:8080/"
        },
        "id": "RfjCm-NjUDhy",
        "outputId": "8bcffcc1-b938-478b-d94c-44f20a35293f"
      },
      "source": [
        "model = Sequential()\n",
        "model.add(LSTM(10, activation = 'relu', input_shape=(3,1)))\n",
        "# DENSE와 사용법 동일하나 input_shape=(열, 몇개씩잘라작업)\n",
        "model.add(Dense(5))\n",
        "model.add(Dense(1))\n",
        " \n",
        "model.summary()\n",
        " \n",
        "# 3. 실행\n",
        "model.compile(optimizer='adam', loss='mse',metrics=['accuracy'])\n"
      ],
      "execution_count": 86,
      "outputs": [
        {
          "output_type": "stream",
          "name": "stdout",
          "text": [
            "WARNING:tensorflow:Layer lstm_8 will not use cuDNN kernels since it doesn't meet the criteria. It will use a generic GPU kernel as fallback when running on GPU.\n",
            "Model: \"sequential_8\"\n",
            "_________________________________________________________________\n",
            "Layer (type)                 Output Shape              Param #   \n",
            "=================================================================\n",
            "lstm_8 (LSTM)                (None, 10)                480       \n",
            "_________________________________________________________________\n",
            "dense_9 (Dense)              (None, 5)                 55        \n",
            "_________________________________________________________________\n",
            "dense_10 (Dense)             (None, 1)                 6         \n",
            "=================================================================\n",
            "Total params: 541\n",
            "Trainable params: 541\n",
            "Non-trainable params: 0\n",
            "_________________________________________________________________\n"
          ]
        }
      ]
    },
    {
      "cell_type": "code",
      "metadata": {
        "id": "58ZEnf3RV24y"
      },
      "source": [
        "hist=model.fit(x_train, y_train, epochs=30, batch_size=10)"
      ],
      "execution_count": 87,
      "outputs": []
    },
    {
      "cell_type": "code",
      "metadata": {
        "id": "_JMGF6ik5rbz"
      },
      "source": [
        ""
      ],
      "execution_count": null,
      "outputs": []
    },
    {
      "cell_type": "markdown",
      "metadata": {
        "id": "q8IoR-zu5sGB"
      },
      "source": [
        "#찐막"
      ]
    },
    {
      "cell_type": "code",
      "metadata": {
        "id": "EsPyDrb7bFS4"
      },
      "source": [
        "data=seoul_traffic_data['1종교통량']"
      ],
      "execution_count": 90,
      "outputs": []
    },
    {
      "cell_type": "code",
      "metadata": {
        "id": "9gFvfoBUbJr2",
        "colab": {
          "base_uri": "https://localhost:8080/",
          "height": 390
        },
        "outputId": "6106d73e-3ba8-480a-9af4-627d9c9adc10"
      },
      "source": [
        "from statsmodels.graphics.tsaplots import plot_acf, plot_pacf\n",
        "\n",
        "plot_acf(data);"
      ],
      "execution_count": 91,
      "outputs": [
        {
          "output_type": "display_data",
          "data": {
            "image/png": "[encoded data removed]",
            "text/plain": [
              "<Figure size 576x432 with 1 Axes>"
            ]
          },
          "metadata": {
            "needs_background": "light"
          }
        }
      ]
    },
    {
      "cell_type": "code",
      "metadata": {
        "colab": {
          "base_uri": "https://localhost:8080/",
          "height": 763
        },
        "id": "FmcKIeVK5q3M",
        "outputId": "83d9af8d-1661-49ed-b037-59854a8fb36c"
      },
      "source": [
        "plot_pacf(data)"
      ],
      "execution_count": 92,
      "outputs": [
        {
          "output_type": "execute_result",
          "data": {
            "image/png": "[encoded data removed]",
            "text/plain": [
              "<Figure size 576x432 with 1 Axes>"
            ]
          },
          "metadata": {},
          "execution_count": 92
        },
        {
          "output_type": "display_data",
          "data": {
            "image/png": "[encoded data removed]",
            "text/plain": [
              "<Figure size 576x432 with 1 Axes>"
            ]
          },
          "metadata": {
            "needs_background": "light"
          }
        }
      ]
    },
    {
      "cell_type": "code",
      "metadata": {
        "id": "KZ10B4OK6q1T"
      },
      "source": [
        "import numpy as np\n",
        "\n",
        "def sampling(sequence, n_steps):\n",
        "\n",
        "  X, Y = list(), list()\n",
        "\n",
        "  for i in range(len(sequence)):\n",
        "    sam = i + n_steps\n",
        "    if sam > len(sequence)-1:\n",
        "      break\n",
        "    x, y = sequence[i:sam], sequence[sam]\n",
        "    X.append(x)\n",
        "    Y.append(y)\n",
        "  return np.array(X), np.array(Y)"
      ],
      "execution_count": 96,
      "outputs": []
    },
    {
      "cell_type": "code",
      "metadata": {
        "id": "LpD__ILg6z_v"
      },
      "source": [
        "n_steps = 3\n",
        "\n",
        "X, Y = sampling(data.tolist(), n_steps)"
      ],
      "execution_count": 97,
      "outputs": []
    },
    {
      "cell_type": "code",
      "metadata": {
        "colab": {
          "base_uri": "https://localhost:8080/"
        },
        "id": "Quz_bfqI7JCM",
        "outputId": "cc8ef120-70ad-4353-ef1d-f5ee61b49805"
      },
      "source": [
        "from keras.models import Sequential\n",
        "from keras.layers import LSTM\n",
        "from keras.layers import Dense\n",
        "\n",
        "model = Sequential()\n",
        "model.add(LSTM(50, activation='relu', input_shape=(n_steps,1)))\n",
        "model.add(Dense(1))\n",
        "model.compile(optimizer='adam', loss='mse')"
      ],
      "execution_count": 100,
      "outputs": [
        {
          "output_type": "stream",
          "name": "stdout",
          "text": [
            "WARNING:tensorflow:Layer lstm_9 will not use cuDNN kernels since it doesn't meet the criteria. It will use a generic GPU kernel as fallback when running on GPU.\n"
          ]
        }
      ]
    },
    {
      "cell_type": "code",
      "metadata": {
        "id": "oiKcn22D7NQE"
      },
      "source": [
        "X = X.reshape((X.shape[0], X.shape[1], 1))"
      ],
      "execution_count": 101,
      "outputs": []
    },
    {
      "cell_type": "code",
      "metadata": {
        "colab": {
          "base_uri": "https://localhost:8080/"
        },
        "id": "DDzNheZ87Vws",
        "outputId": "2af356a1-496f-4c62-eb2d-330c55629ee3"
      },
      "source": [
        "model.summary()"
      ],
      "execution_count": 102,
      "outputs": [
        {
          "output_type": "stream",
          "name": "stdout",
          "text": [
            "Model: \"sequential_10\"\n",
            "_________________________________________________________________\n",
            "Layer (type)                 Output Shape              Param #   \n",
            "=================================================================\n",
            "lstm_9 (LSTM)                (None, 50)                10400     \n",
            "_________________________________________________________________\n",
            "dense_11 (Dense)             (None, 1)                 51        \n",
            "=================================================================\n",
            "Total params: 10,451\n",
            "Trainable params: 10,451\n",
            "Non-trainable params: 0\n",
            "_________________________________________________________________\n"
          ]
        }
      ]
    },
    {
      "cell_type": "code",
      "metadata": {
        "colab": {
          "base_uri": "https://localhost:8080/"
        },
        "id": "s_3axPLk7XF2",
        "outputId": "42435e2d-32e2-4699-87c4-e93099d77c37"
      },
      "source": [
        "model.fit(X, Y, epochs=200, verbose=0)"
      ],
      "execution_count": 103,
      "outputs": [
        {
          "output_type": "execute_result",
          "data": {
            "text/plain": [
              "<keras.callbacks.History at 0x7f3d47798650>"
            ]
          },
          "metadata": {},
          "execution_count": 103
        }
      ]
    },
    {
      "cell_type": "code",
      "metadata": {
        "id": "NIlv9f-z7eE0"
      },
      "source": [
        "traffic_data_future=change_traffic(traffic_data_future)"
      ],
      "execution_count": 107,
      "outputs": []
    },
    {
      "cell_type": "code",
      "metadata": {
        "id": "3Pk3duGD7tLb"
      },
      "source": [
        "traffic_data_future=traffic_data_future[((traffic_data_future['영업소명']=='서서울') | (traffic_data_future['영업소명']=='서울') | (traffic_data_future['영업소명']=='남서울'))&(traffic_data_future['day_of_week']=='MON')\n",
        "]"
      ],
      "execution_count": 111,
      "outputs": []
    },
    {
      "cell_type": "code",
      "metadata": {
        "id": "ktN_C17_9E-y"
      },
      "source": [
        "seoul_traffic_data_future=traffic_data_future.groupby('집계일자').mean()"
      ],
      "execution_count": 114,
      "outputs": []
    },
    {
      "cell_type": "code",
      "metadata": {
        "colab": {
          "base_uri": "https://localhost:8080/",
          "height": 445
        },
        "id": "CG_4lAu09kJd",
        "outputId": "83edfa78-2a8e-4b45-caaa-dffe2c1c19d4"
      },
      "source": [
        "seoul_traffic_data_future"
      ],
      "execution_count": 116,
      "outputs": [
        {
          "output_type": "execute_result",
          "data": {
            "text/html": [
              "<div>\n",
              "<style scoped>\n",
              "    .dataframe tbody tr th:only-of-type {\n",
              "        vertical-align: middle;\n",
              "    }\n",
              "\n",
              "    .dataframe tbody tr th {\n",
              "        vertical-align: top;\n",
              "    }\n",
              "\n",
              "    .dataframe thead th {\n",
              "        text-align: right;\n",
              "    }\n",
              "</style>\n",
              "<table border=\"1\" class=\"dataframe\">\n",
              "  <thead>\n",
              "    <tr style=\"text-align: right;\">\n",
              "      <th></th>\n",
              "      <th>1종교통량</th>\n",
              "      <th>2종교통량</th>\n",
              "      <th>3종교통량</th>\n",
              "      <th>4종교통량</th>\n",
              "      <th>5종교통량</th>\n",
              "      <th>6종교통량</th>\n",
              "      <th>총교통량</th>\n",
              "      <th>year</th>\n",
              "      <th>month</th>\n",
              "    </tr>\n",
              "    <tr>\n",
              "      <th>집계일자</th>\n",
              "      <th></th>\n",
              "      <th></th>\n",
              "      <th></th>\n",
              "      <th></th>\n",
              "      <th></th>\n",
              "      <th></th>\n",
              "      <th></th>\n",
              "      <th></th>\n",
              "      <th></th>\n",
              "    </tr>\n",
              "  </thead>\n",
              "  <tbody>\n",
              "    <tr>\n",
              "      <th>2020-01-06</th>\n",
              "      <td>38733.125</td>\n",
              "      <td>1390.750</td>\n",
              "      <td>2965.875</td>\n",
              "      <td>1292.000</td>\n",
              "      <td>946.375</td>\n",
              "      <td>2065.375</td>\n",
              "      <td>47393.500</td>\n",
              "      <td>2020.0</td>\n",
              "      <td>1.0</td>\n",
              "    </tr>\n",
              "    <tr>\n",
              "      <th>2020-01-13</th>\n",
              "      <td>40268.375</td>\n",
              "      <td>1454.125</td>\n",
              "      <td>2950.875</td>\n",
              "      <td>1255.375</td>\n",
              "      <td>1004.750</td>\n",
              "      <td>2144.500</td>\n",
              "      <td>49078.000</td>\n",
              "      <td>2020.0</td>\n",
              "      <td>1.0</td>\n",
              "    </tr>\n",
              "    <tr>\n",
              "      <th>2020-01-20</th>\n",
              "      <td>41291.125</td>\n",
              "      <td>1475.125</td>\n",
              "      <td>2994.875</td>\n",
              "      <td>1323.375</td>\n",
              "      <td>1007.875</td>\n",
              "      <td>2185.500</td>\n",
              "      <td>50277.875</td>\n",
              "      <td>2020.0</td>\n",
              "      <td>1.0</td>\n",
              "    </tr>\n",
              "    <tr>\n",
              "      <th>2020-01-27</th>\n",
              "      <td>37058.250</td>\n",
              "      <td>477.375</td>\n",
              "      <td>2080.000</td>\n",
              "      <td>363.125</td>\n",
              "      <td>180.375</td>\n",
              "      <td>1494.500</td>\n",
              "      <td>41653.625</td>\n",
              "      <td>2020.0</td>\n",
              "      <td>1.0</td>\n",
              "    </tr>\n",
              "    <tr>\n",
              "      <th>2020-02-03</th>\n",
              "      <td>39308.375</td>\n",
              "      <td>1452.000</td>\n",
              "      <td>2924.875</td>\n",
              "      <td>1271.375</td>\n",
              "      <td>960.000</td>\n",
              "      <td>2149.625</td>\n",
              "      <td>48066.250</td>\n",
              "      <td>2020.0</td>\n",
              "      <td>2.0</td>\n",
              "    </tr>\n",
              "    <tr>\n",
              "      <th>...</th>\n",
              "      <td>...</td>\n",
              "      <td>...</td>\n",
              "      <td>...</td>\n",
              "      <td>...</td>\n",
              "      <td>...</td>\n",
              "      <td>...</td>\n",
              "      <td>...</td>\n",
              "      <td>...</td>\n",
              "      <td>...</td>\n",
              "    </tr>\n",
              "    <tr>\n",
              "      <th>2021-05-31</th>\n",
              "      <td>42255.875</td>\n",
              "      <td>1477.875</td>\n",
              "      <td>2685.750</td>\n",
              "      <td>1387.125</td>\n",
              "      <td>1109.875</td>\n",
              "      <td>2079.875</td>\n",
              "      <td>50996.375</td>\n",
              "      <td>2021.0</td>\n",
              "      <td>5.0</td>\n",
              "    </tr>\n",
              "    <tr>\n",
              "      <th>2021-06-07</th>\n",
              "      <td>42730.000</td>\n",
              "      <td>1467.500</td>\n",
              "      <td>2693.750</td>\n",
              "      <td>1380.250</td>\n",
              "      <td>1159.375</td>\n",
              "      <td>2055.375</td>\n",
              "      <td>51486.250</td>\n",
              "      <td>2021.0</td>\n",
              "      <td>6.0</td>\n",
              "    </tr>\n",
              "    <tr>\n",
              "      <th>2021-06-14</th>\n",
              "      <td>42707.750</td>\n",
              "      <td>1474.625</td>\n",
              "      <td>2721.375</td>\n",
              "      <td>1386.250</td>\n",
              "      <td>1129.125</td>\n",
              "      <td>2058.125</td>\n",
              "      <td>51477.250</td>\n",
              "      <td>2021.0</td>\n",
              "      <td>6.0</td>\n",
              "    </tr>\n",
              "    <tr>\n",
              "      <th>2021-06-21</th>\n",
              "      <td>43743.500</td>\n",
              "      <td>1483.875</td>\n",
              "      <td>2685.125</td>\n",
              "      <td>1371.750</td>\n",
              "      <td>1084.750</td>\n",
              "      <td>2087.000</td>\n",
              "      <td>52456.000</td>\n",
              "      <td>2021.0</td>\n",
              "      <td>6.0</td>\n",
              "    </tr>\n",
              "    <tr>\n",
              "      <th>2021-06-28</th>\n",
              "      <td>42534.125</td>\n",
              "      <td>1433.125</td>\n",
              "      <td>2670.000</td>\n",
              "      <td>1359.750</td>\n",
              "      <td>1077.500</td>\n",
              "      <td>2064.500</td>\n",
              "      <td>51139.000</td>\n",
              "      <td>2021.0</td>\n",
              "      <td>6.0</td>\n",
              "    </tr>\n",
              "  </tbody>\n",
              "</table>\n",
              "<p>78 rows × 9 columns</p>\n",
              "</div>"
            ],
            "text/plain": [
              "                1종교통량     2종교통량     3종교통량  ...       총교통량    year  month\n",
              "집계일자                                       ...                          \n",
              "2020-01-06  38733.125  1390.750  2965.875  ...  47393.500  2020.0    1.0\n",
              "2020-01-13  40268.375  1454.125  2950.875  ...  49078.000  2020.0    1.0\n",
              "2020-01-20  41291.125  1475.125  2994.875  ...  50277.875  2020.0    1.0\n",
              "2020-01-27  37058.250   477.375  2080.000  ...  41653.625  2020.0    1.0\n",
              "2020-02-03  39308.375  1452.000  2924.875  ...  48066.250  2020.0    2.0\n",
              "...               ...       ...       ...  ...        ...     ...    ...\n",
              "2021-05-31  42255.875  1477.875  2685.750  ...  50996.375  2021.0    5.0\n",
              "2021-06-07  42730.000  1467.500  2693.750  ...  51486.250  2021.0    6.0\n",
              "2021-06-14  42707.750  1474.625  2721.375  ...  51477.250  2021.0    6.0\n",
              "2021-06-21  43743.500  1483.875  2685.125  ...  52456.000  2021.0    6.0\n",
              "2021-06-28  42534.125  1433.125  2670.000  ...  51139.000  2021.0    6.0\n",
              "\n",
              "[78 rows x 9 columns]"
            ]
          },
          "metadata": {},
          "execution_count": 116
        }
      ]
    },
    {
      "cell_type": "code",
      "metadata": {
        "id": "cPukfBfw9tYo"
      },
      "source": [
        "x=np.array([40917.875,40943.0,40486.625])\n",
        "x = x.reshape((1, n_steps, 1))"
      ],
      "execution_count": 121,
      "outputs": []
    },
    {
      "cell_type": "code",
      "metadata": {
        "colab": {
          "base_uri": "https://localhost:8080/"
        },
        "id": "FzOwyaTu940v",
        "outputId": "3bda0a5a-2960-4110-c951-86407de23d37"
      },
      "source": [
        ""
      ],
      "execution_count": 122,
      "outputs": [
        {
          "output_type": "execute_result",
          "data": {
            "text/plain": [
              "array([[40810.387]], dtype=float32)"
            ]
          },
          "metadata": {},
          "execution_count": 122
        }
      ]
    },
    {
      "cell_type": "code",
      "metadata": {
        "id": "XWMsFQTn-PkT"
      },
      "source": [
        "x=np.array([38733.125,40268.375,41291.125])"
      ],
      "execution_count": 123,
      "outputs": []
    },
    {
      "cell_type": "code",
      "metadata": {
        "id": "njIgqn0uCR11"
      },
      "source": [
        "x=x.reshape((1,3,1))\n",
        "y=model.predict(x)"
      ],
      "execution_count": 124,
      "outputs": []
    },
    {
      "cell_type": "code",
      "metadata": {
        "colab": {
          "base_uri": "https://localhost:8080/"
        },
        "id": "eJJRZsvbCefQ",
        "outputId": "cfc14217-0cb9-4b54-d879-8bf681469225"
      },
      "source": [
        "y"
      ],
      "execution_count": 125,
      "outputs": [
        {
          "output_type": "execute_result",
          "data": {
            "text/plain": [
              "array([[39886.45]], dtype=float32)"
            ]
          },
          "metadata": {},
          "execution_count": 125
        }
      ]
    },
    {
      "cell_type": "code",
      "metadata": {
        "id": "kEkh470kCfef"
      },
      "source": [
        "#37058.250"
      ],
      "execution_count": null,
      "outputs": []
    }
  ]
}