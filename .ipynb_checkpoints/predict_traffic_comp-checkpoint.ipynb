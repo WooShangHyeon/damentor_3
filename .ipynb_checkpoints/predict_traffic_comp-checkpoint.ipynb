{
 "cells": [
  {
   "cell_type": "markdown",
   "metadata": {},
   "source": [
    "# LSTM을 활용한 교통 변화 예측"
   ]
  },
  {
   "cell_type": "code",
   "execution_count": 1,
   "metadata": {},
   "outputs": [],
   "source": [
    "import numpy as np # linear algebra\n",
    "import pandas as pd # data processing, CSV file I/O (e.g. pd.read_csv)\n",
    "import matplotlib.pyplot as plt\n",
    "import seaborn as sns "
   ]
  },
  {
   "cell_type": "code",
   "execution_count": 39,
   "metadata": {},
   "outputs": [],
   "source": [
    "\n",
    "import os\n",
    "import datetime\n",
    "\n",
    "import IPython\n",
    "import IPython.display\n",
    "import matplotlib as mpl\n",
    "import tensorflow as tf\n",
    "\n",
    "mpl.rcParams['figure.figsize'] = (8, 6)\n",
    "mpl.rcParams['axes.grid'] = False"
   ]
  },
  {
   "cell_type": "code",
   "execution_count": 2,
   "metadata": {},
   "outputs": [],
   "source": [
    "traffic_data_2015_01=pd.read_csv('data/2015_01분기.csv',encoding='cp949')\n",
    "traffic_data_2015_02=pd.read_csv('data/2015_02분기.csv',encoding='cp949')\n",
    "traffic_data_2015_03=pd.read_csv('data/2015_03분기.csv',encoding='cp949')\n",
    "traffic_data_2015_04=pd.read_csv('data/2015_04분기.csv',encoding='cp949')\n",
    "traffic_data_2016_01=pd.read_csv('data/2016_01분기.csv',encoding='cp949')\n",
    "traffic_data_2016_02=pd.read_csv('data/2016_02분기.csv',encoding='cp949')\n",
    "traffic_data_2016_03=pd.read_csv('data/2016_03분기.csv',encoding='cp949')\n",
    "traffic_data_2016_04=pd.read_csv('data/2016_04분기.csv',encoding='cp949')\n",
    "traffic_data_2017_01=pd.read_csv('data/2017_01분기.csv',encoding='cp949')\n",
    "traffic_data_2017_02=pd.read_csv('data/2017_02분기.csv',encoding='cp949')\n",
    "traffic_data_2017_03=pd.read_csv('data/2017_03분기.csv',encoding='cp949')\n",
    "traffic_data_2017_04=pd.read_csv('data/2017_04분기.csv',encoding='cp949')\n",
    "traffic_data_2018_01=pd.read_csv('data/2018_01분기.csv',encoding='cp949')\n",
    "traffic_data_2018_02=pd.read_csv('data/2018_02분기.csv',encoding='cp949')\n",
    "traffic_data_2018_03=pd.read_csv('data/2018_03분기.csv',encoding='cp949')\n",
    "traffic_data_2018_04=pd.read_csv('data/2018_04분기.csv',encoding='cp949')\n",
    "traffic_data_2019_01=pd.read_csv('data/2019_01분기.csv',encoding='cp949')\n",
    "traffic_data_2019_02=pd.read_csv('data/2019_02분기.csv',encoding='cp949')\n",
    "traffic_data_2019_03=pd.read_csv('data/2019_03분기.csv',encoding='cp949')\n",
    "traffic_data_2019_04=pd.read_csv('data/2019_04분기.csv',encoding='cp949')\n",
    "traffic_data_2020_01=pd.read_csv('data/2020_01분기.csv',encoding='cp949')\n",
    "traffic_data_2020_02=pd.read_csv('data/2020_02분기.csv',encoding='cp949')\n",
    "traffic_data_2020_03=pd.read_csv('data/2020_03분기.csv',encoding='cp949')\n",
    "traffic_data_2020_04=pd.read_csv('data/2020_04분기.csv',encoding='cp949')\n",
    "traffic_data_2021_01=pd.read_csv('data/2021_01분기.csv',encoding='cp949')\n",
    "traffic_data_2021_02=pd.read_csv('data/2021_02분기.csv',encoding='cp949')"
   ]
  },
  {
   "cell_type": "code",
   "execution_count": 32,
   "metadata": {},
   "outputs": [],
   "source": [
    "traffic_data_2015=pd.concat([traffic_data_2015_01,traffic_data_2015_02,traffic_data_2015_03,traffic_data_2015_04])\n",
    "traffic_data_2016=pd.concat([traffic_data_2016_01,traffic_data_2016_02,traffic_data_2016_03,traffic_data_2016_04])\n",
    "traffic_data_2017=pd.concat([traffic_data_2017_01,traffic_data_2017_02,traffic_data_2017_03,traffic_data_2017_04])\n",
    "traffic_data_2018=pd.concat([traffic_data_2018_01,traffic_data_2018_02,traffic_data_2018_03,traffic_data_2018_04])\n",
    "traffic_data_2019=pd.concat([traffic_data_2019_01,traffic_data_2019_02,traffic_data_2019_03,traffic_data_2019_04])\n",
    "traffic_data_2020=pd.concat([traffic_data_2020_01,traffic_data_2020_02,traffic_data_2020_03,traffic_data_2020_04])\n",
    "traffic_data_2021=pd.concat([traffic_data_2021_01,traffic_data_2021_02])\n",
    "traffic_data_past=pd.concat([traffic_data_2015,traffic_data_2016,traffic_data_2017,traffic_data_2018,traffic_data_2019])\n",
    "traffic_data_future=pd.concat([traffic_data_2020,traffic_data_2021])"
   ]
  },
  {
   "cell_type": "code",
   "execution_count": 33,
   "metadata": {},
   "outputs": [
    {
     "data": {
      "text/html": [
       "<div>\n",
       "<style scoped>\n",
       "    .dataframe tbody tr th:only-of-type {\n",
       "        vertical-align: middle;\n",
       "    }\n",
       "\n",
       "    .dataframe tbody tr th {\n",
       "        vertical-align: top;\n",
       "    }\n",
       "\n",
       "    .dataframe thead th {\n",
       "        text-align: right;\n",
       "    }\n",
       "</style>\n",
       "<table border=\"1\" class=\"dataframe\">\n",
       "  <thead>\n",
       "    <tr style=\"text-align: right;\">\n",
       "      <th></th>\n",
       "      <th>집계일자</th>\n",
       "      <th>영업소코드</th>\n",
       "      <th>영업소명</th>\n",
       "      <th>입출구구분코드</th>\n",
       "      <th>입출구명</th>\n",
       "      <th>TCS하이패스구분코드</th>\n",
       "      <th>TCS하이패스명</th>\n",
       "      <th>고속도로운영기관구분코드</th>\n",
       "      <th>고속도로운영기관명</th>\n",
       "      <th>영업형태구분코드</th>\n",
       "      <th>영업형태명</th>\n",
       "      <th>1종교통량</th>\n",
       "      <th>2종교통량</th>\n",
       "      <th>3종교통량</th>\n",
       "      <th>4종교통량</th>\n",
       "      <th>5종교통량</th>\n",
       "      <th>6종교통량</th>\n",
       "      <th>총교통량</th>\n",
       "    </tr>\n",
       "  </thead>\n",
       "  <tbody>\n",
       "    <tr>\n",
       "      <th>0</th>\n",
       "      <td>20150101</td>\n",
       "      <td>246</td>\n",
       "      <td>가락</td>\n",
       "      <td>0</td>\n",
       "      <td>입구</td>\n",
       "      <td>1</td>\n",
       "      <td>TCS</td>\n",
       "      <td>0</td>\n",
       "      <td>한국도로공사</td>\n",
       "      <td>0</td>\n",
       "      <td>폐쇄식</td>\n",
       "      <td>329</td>\n",
       "      <td>14</td>\n",
       "      <td>31</td>\n",
       "      <td>45</td>\n",
       "      <td>467</td>\n",
       "      <td>1</td>\n",
       "      <td>887</td>\n",
       "    </tr>\n",
       "    <tr>\n",
       "      <th>1</th>\n",
       "      <td>20150101</td>\n",
       "      <td>246</td>\n",
       "      <td>가락</td>\n",
       "      <td>0</td>\n",
       "      <td>입구</td>\n",
       "      <td>2</td>\n",
       "      <td>hi-pass</td>\n",
       "      <td>0</td>\n",
       "      <td>한국도로공사</td>\n",
       "      <td>0</td>\n",
       "      <td>폐쇄식</td>\n",
       "      <td>696</td>\n",
       "      <td>16</td>\n",
       "      <td>4</td>\n",
       "      <td>2</td>\n",
       "      <td>11</td>\n",
       "      <td>37</td>\n",
       "      <td>766</td>\n",
       "    </tr>\n",
       "    <tr>\n",
       "      <th>2</th>\n",
       "      <td>20150101</td>\n",
       "      <td>29</td>\n",
       "      <td>가락(개)</td>\n",
       "      <td>0</td>\n",
       "      <td>입구</td>\n",
       "      <td>1</td>\n",
       "      <td>TCS</td>\n",
       "      <td>0</td>\n",
       "      <td>한국도로공사</td>\n",
       "      <td>1</td>\n",
       "      <td>개방식</td>\n",
       "      <td>2931</td>\n",
       "      <td>50</td>\n",
       "      <td>91</td>\n",
       "      <td>114</td>\n",
       "      <td>454</td>\n",
       "      <td>316</td>\n",
       "      <td>3956</td>\n",
       "    </tr>\n",
       "    <tr>\n",
       "      <th>3</th>\n",
       "      <td>20150101</td>\n",
       "      <td>29</td>\n",
       "      <td>가락(개)</td>\n",
       "      <td>0</td>\n",
       "      <td>입구</td>\n",
       "      <td>2</td>\n",
       "      <td>hi-pass</td>\n",
       "      <td>0</td>\n",
       "      <td>한국도로공사</td>\n",
       "      <td>1</td>\n",
       "      <td>개방식</td>\n",
       "      <td>5219</td>\n",
       "      <td>20</td>\n",
       "      <td>24</td>\n",
       "      <td>0</td>\n",
       "      <td>1</td>\n",
       "      <td>283</td>\n",
       "      <td>5547</td>\n",
       "    </tr>\n",
       "    <tr>\n",
       "      <th>4</th>\n",
       "      <td>20150101</td>\n",
       "      <td>29</td>\n",
       "      <td>가락(개)</td>\n",
       "      <td>1</td>\n",
       "      <td>출구</td>\n",
       "      <td>1</td>\n",
       "      <td>TCS</td>\n",
       "      <td>0</td>\n",
       "      <td>한국도로공사</td>\n",
       "      <td>1</td>\n",
       "      <td>개방식</td>\n",
       "      <td>3374</td>\n",
       "      <td>42</td>\n",
       "      <td>107</td>\n",
       "      <td>94</td>\n",
       "      <td>603</td>\n",
       "      <td>415</td>\n",
       "      <td>4635</td>\n",
       "    </tr>\n",
       "  </tbody>\n",
       "</table>\n",
       "</div>"
      ],
      "text/plain": [
       "       집계일자  영업소코드   영업소명  입출구구분코드 입출구명  TCS하이패스구분코드 TCS하이패스명  고속도로운영기관구분코드  \\\n",
       "0  20150101    246     가락        0   입구            1      TCS             0   \n",
       "1  20150101    246     가락        0   입구            2  hi-pass             0   \n",
       "2  20150101     29  가락(개)        0   입구            1      TCS             0   \n",
       "3  20150101     29  가락(개)        0   입구            2  hi-pass             0   \n",
       "4  20150101     29  가락(개)        1   출구            1      TCS             0   \n",
       "\n",
       "  고속도로운영기관명  영업형태구분코드 영업형태명  1종교통량  2종교통량  3종교통량  4종교통량  5종교통량  6종교통량  총교통량  \n",
       "0    한국도로공사         0   폐쇄식    329     14     31     45    467      1   887  \n",
       "1    한국도로공사         0   폐쇄식    696     16      4      2     11     37   766  \n",
       "2    한국도로공사         1   개방식   2931     50     91    114    454    316  3956  \n",
       "3    한국도로공사         1   개방식   5219     20     24      0      1    283  5547  \n",
       "4    한국도로공사         1   개방식   3374     42    107     94    603    415  4635  "
      ]
     },
     "execution_count": 33,
     "metadata": {},
     "output_type": "execute_result"
    }
   ],
   "source": [
    "traffic_data_past.head()"
   ]
  },
  {
   "cell_type": "code",
   "execution_count": 34,
   "metadata": {},
   "outputs": [],
   "source": [
    "traffic_data_past['집계일자']=pd.to_datetime(traffic_data_past['집계일자'],format='%Y%m%d')\n",
    "traffic_data_past['연도']=traffic_data_past['집계일자'].dt.year\n",
    "traffic_data_future['집계일자']=pd.to_datetime(traffic_data_future['집계일자'],format='%Y%m%d')\n",
    "traffic_data_future['연도']=traffic_data_future['집계일자'].dt.year"
   ]
  },
  {
   "cell_type": "code",
   "execution_count": 6,
   "metadata": {
    "scrolled": false
   },
   "outputs": [],
   "source": [
    "#plt.figure(figsize=(16, 9))\n",
    "#sns.lineplot(y=traffic_data_past['1종교통량'], x=traffic_data_past['집계일자'])\n",
    "#plt.xlabel('time')\n",
    "#plt.ylabel('type 1 traffic')"
   ]
  },
  {
   "cell_type": "code",
   "execution_count": 35,
   "metadata": {},
   "outputs": [],
   "source": [
    "traffic_data_past=traffic_data_past.replace('서서울영업소','서서울')\n",
    "traffic_data_past=traffic_data_past.replace('서울영업소','서울')\n",
    "traffic_data_past=traffic_data_past.replace('서대구영업소','서대구')\n",
    "traffic_data_past=traffic_data_past.replace('북대구영업소','북대구')\n",
    "traffic_data_past=traffic_data_past.replace('남대구영업소','남대구')\n",
    "traffic_data_future=traffic_data_future.replace('서서울영업소','서서울')\n",
    "traffic_data_future=traffic_data_future.replace('서울영업소','서울')\n",
    "traffic_data_future=traffic_data_future.replace('서대구영업소','서대구')\n",
    "traffic_data_future=traffic_data_future.replace('북대구영업소','북대구')\n",
    "traffic_data_future=traffic_data_future.replace('남대구영업소','남대구')"
   ]
  },
  {
   "cell_type": "code",
   "execution_count": 36,
   "metadata": {},
   "outputs": [],
   "source": [
    "seoul_traffic_data_past=traffic_data_past[(traffic_data_past['영업소명']=='서서울')|(traffic_data_past['영업소명']=='서울')|(traffic_data_past['영업소명']=='남서울')\n",
    "]"
   ]
  },
  {
   "cell_type": "code",
   "execution_count": 9,
   "metadata": {
    "scrolled": true
   },
   "outputs": [
    {
     "data": {
      "text/html": [
       "<div>\n",
       "<style scoped>\n",
       "    .dataframe tbody tr th:only-of-type {\n",
       "        vertical-align: middle;\n",
       "    }\n",
       "\n",
       "    .dataframe tbody tr th {\n",
       "        vertical-align: top;\n",
       "    }\n",
       "\n",
       "    .dataframe thead th {\n",
       "        text-align: right;\n",
       "    }\n",
       "</style>\n",
       "<table border=\"1\" class=\"dataframe\">\n",
       "  <thead>\n",
       "    <tr style=\"text-align: right;\">\n",
       "      <th></th>\n",
       "      <th>1종교통량</th>\n",
       "      <th>2종교통량</th>\n",
       "      <th>3종교통량</th>\n",
       "      <th>총교통량</th>\n",
       "    </tr>\n",
       "  </thead>\n",
       "  <tbody>\n",
       "    <tr>\n",
       "      <th>0</th>\n",
       "      <td>0.019727</td>\n",
       "      <td>0.000415</td>\n",
       "      <td>0.000352</td>\n",
       "      <td>0.004809</td>\n",
       "    </tr>\n",
       "    <tr>\n",
       "      <th>1</th>\n",
       "      <td>0.050587</td>\n",
       "      <td>0.000830</td>\n",
       "      <td>0.000216</td>\n",
       "      <td>0.012472</td>\n",
       "    </tr>\n",
       "    <tr>\n",
       "      <th>2</th>\n",
       "      <td>0.015767</td>\n",
       "      <td>0.000338</td>\n",
       "      <td>0.000343</td>\n",
       "      <td>0.004289</td>\n",
       "    </tr>\n",
       "    <tr>\n",
       "      <th>3</th>\n",
       "      <td>0.041785</td>\n",
       "      <td>0.000740</td>\n",
       "      <td>0.000212</td>\n",
       "      <td>0.010290</td>\n",
       "    </tr>\n",
       "    <tr>\n",
       "      <th>4</th>\n",
       "      <td>0.021762</td>\n",
       "      <td>0.000423</td>\n",
       "      <td>0.000520</td>\n",
       "      <td>0.005272</td>\n",
       "    </tr>\n",
       "    <tr>\n",
       "      <th>...</th>\n",
       "      <td>...</td>\n",
       "      <td>...</td>\n",
       "      <td>...</td>\n",
       "      <td>...</td>\n",
       "    </tr>\n",
       "    <tr>\n",
       "      <th>14547</th>\n",
       "      <td>0.072841</td>\n",
       "      <td>0.002691</td>\n",
       "      <td>0.001035</td>\n",
       "      <td>0.019906</td>\n",
       "    </tr>\n",
       "    <tr>\n",
       "      <th>14548</th>\n",
       "      <td>0.004851</td>\n",
       "      <td>0.000286</td>\n",
       "      <td>0.000382</td>\n",
       "      <td>0.001129</td>\n",
       "    </tr>\n",
       "    <tr>\n",
       "      <th>14549</th>\n",
       "      <td>0.068989</td>\n",
       "      <td>0.002575</td>\n",
       "      <td>0.005453</td>\n",
       "      <td>0.020292</td>\n",
       "    </tr>\n",
       "    <tr>\n",
       "      <th>14550</th>\n",
       "      <td>0.003695</td>\n",
       "      <td>0.000379</td>\n",
       "      <td>0.000341</td>\n",
       "      <td>0.001179</td>\n",
       "    </tr>\n",
       "    <tr>\n",
       "      <th>14551</th>\n",
       "      <td>0.069491</td>\n",
       "      <td>0.003013</td>\n",
       "      <td>0.005635</td>\n",
       "      <td>0.020710</td>\n",
       "    </tr>\n",
       "  </tbody>\n",
       "</table>\n",
       "<p>14552 rows × 4 columns</p>\n",
       "</div>"
      ],
      "text/plain": [
       "          1종교통량     2종교통량     3종교통량      총교통량\n",
       "0      0.019727  0.000415  0.000352  0.004809\n",
       "1      0.050587  0.000830  0.000216  0.012472\n",
       "2      0.015767  0.000338  0.000343  0.004289\n",
       "3      0.041785  0.000740  0.000212  0.010290\n",
       "4      0.021762  0.000423  0.000520  0.005272\n",
       "...         ...       ...       ...       ...\n",
       "14547  0.072841  0.002691  0.001035  0.019906\n",
       "14548  0.004851  0.000286  0.000382  0.001129\n",
       "14549  0.068989  0.002575  0.005453  0.020292\n",
       "14550  0.003695  0.000379  0.000341  0.001179\n",
       "14551  0.069491  0.003013  0.005635  0.020710\n",
       "\n",
       "[14552 rows x 4 columns]"
      ]
     },
     "execution_count": 9,
     "metadata": {},
     "output_type": "execute_result"
    }
   ],
   "source": [
    "from sklearn.preprocessing import MinMaxScaler #정규화 과정\n",
    "\n",
    "seoul_traffic_data_past.sort_index(ascending=False).reset_index(drop=True)\n",
    "\n",
    "scaler = MinMaxScaler()\n",
    "scale_cols = ['1종교통량','2종교통량','3종교통량','총교통량']\n",
    "df_scaled = scaler.fit_transform(seoul_traffic_data_past[scale_cols])\n",
    "df_scaled = pd.DataFrame(df_scaled)\n",
    "df_scaled.columns = scale_cols\n",
    "\n",
    "df_scaled"
   ]
  },
  {
   "cell_type": "code",
   "execution_count": 37,
   "metadata": {},
   "outputs": [],
   "source": [
    "def univariate_dat(dataset,start_index,end_index,history_size,target_size):\n",
    "    data=[]\n",
    "    labels=[]\n",
    "    start_index=start_index+history_size\n",
    "    if end_index is None:\n",
    "        end_index=len(dataset)-target_size\n",
    "    for i in ragne(start_index,end_index):\n",
    "        indices = range(i-history_size,i)\n",
    "        data.append(np.reshape(dataset[indices],(history_size,1)))\n",
    "        labels.append(dataset[i+target_size])\n",
    "    return np.array(data),np.array(labels)"
   ]
  },
  {
   "cell_type": "code",
   "execution_count": 40,
   "metadata": {},
   "outputs": [],
   "source": [
    "TRAIN_SPLIT = 12000\n",
    "tf.random.set_seed(13)"
   ]
  },
  {
   "cell_type": "code",
   "execution_count": 42,
   "metadata": {},
   "outputs": [
    {
     "data": {
      "text/plain": [
       "집계일자\n",
       "2015-01-01    24625\n",
       "2015-01-01    50680\n",
       "2015-01-01    21281\n",
       "2015-01-01    43249\n",
       "2015-01-01    26343\n",
       "Name: 1종교통량, dtype: int64"
      ]
     },
     "execution_count": 42,
     "metadata": {},
     "output_type": "execute_result"
    }
   ],
   "source": [
    "uni_data=seoul_traffic_data_past['1종교통량']\n",
    "uni_data.index=seoul_traffic_data_past['집계일자']\n",
    "uni_data.head()"
   ]
  },
  {
   "cell_type": "code",
   "execution_count": 10,
   "metadata": {},
   "outputs": [],
   "source": [
    "TEST_SIZE = 200\n",
    "WINDOW_SIZE = 20\n",
    "\n",
    "train = df_scaled[:-TEST_SIZE]\n",
    "test = df_scaled[-TEST_SIZE:]"
   ]
  },
  {
   "cell_type": "code",
   "execution_count": 11,
   "metadata": {},
   "outputs": [],
   "source": [
    "def make_dataset(data, label, window_size=20):\n",
    "    feature_list = []\n",
    "    label_list = []\n",
    "    for i in range(len(data) - window_size):\n",
    "        feature_list.append(np.array(data.iloc[i:i+window_size]))\n",
    "        label_list.append(np.array(label.iloc[i+window_size]))\n",
    "    return np.array(feature_list), np.array(label_list)"
   ]
  },
  {
   "cell_type": "code",
   "execution_count": 12,
   "metadata": {},
   "outputs": [
    {
     "data": {
      "text/plain": [
       "((11465, 20, 3), (2867, 20, 3))"
      ]
     },
     "execution_count": 12,
     "metadata": {},
     "output_type": "execute_result"
    }
   ],
   "source": [
    "from sklearn.model_selection import train_test_split\n",
    "\n",
    "feature_cols = ['1종교통량','2종교통량','3종교통량']\n",
    "label_cols = ['총교통량']\n",
    "\n",
    "train_feature = train[feature_cols]\n",
    "train_label = train[label_cols]\n",
    "\n",
    "train_feature, train_label = make_dataset(train_feature, train_label, 20)\n",
    "\n",
    "x_train, x_valid, y_train, y_valid = train_test_split(train_feature, train_label, test_size=0.2)\n",
    "x_train.shape, x_valid.shape"
   ]
  },
  {
   "cell_type": "code",
   "execution_count": 13,
   "metadata": {},
   "outputs": [
    {
     "data": {
      "text/plain": [
       "((200, 3), (200, 1))"
      ]
     },
     "execution_count": 13,
     "metadata": {},
     "output_type": "execute_result"
    }
   ],
   "source": [
    "test_feature = test[feature_cols]\n",
    "test_label = test[label_cols]\n",
    "\n",
    "test_feature.shape, test_label.shape"
   ]
  },
  {
   "cell_type": "code",
   "execution_count": 14,
   "metadata": {},
   "outputs": [],
   "source": [
    "from keras.models import Sequential\n",
    "from keras.layers import Dense\n",
    "from keras.callbacks import EarlyStopping, ModelCheckpoint\n",
    "from keras.layers import LSTM\n",
    "\n",
    "model = Sequential()\n",
    "model.add(LSTM(16, \n",
    "               input_shape=(train_feature.shape[1], train_feature.shape[2]), \n",
    "               activation='relu', \n",
    "               return_sequences=False)\n",
    "          )\n",
    "\n",
    "model.add(Dense(1))"
   ]
  },
  {
   "cell_type": "code",
   "execution_count": 28,
   "metadata": {},
   "outputs": [
    {
     "name": "stdout",
     "output_type": "stream",
     "text": [
      "Epoch 1/25\n",
      "717/717 [==============================] - 6s 9ms/step - loss: 1.2861e-04 - accuracy: 8.7222e-05 - val_loss: 3.2180e-06 - val_accuracy: 0.0000e+00\n",
      "Epoch 2/25\n",
      "717/717 [==============================] - 6s 8ms/step - loss: 1.2899e-04 - accuracy: 8.7222e-05 - val_loss: 3.3213e-06 - val_accuracy: 0.0000e+00\n",
      "Epoch 3/25\n",
      "717/717 [==============================] - 6s 9ms/step - loss: 1.2889e-04 - accuracy: 8.7222e-05 - val_loss: 3.4570e-06 - val_accuracy: 0.0000e+00\n",
      "Epoch 4/25\n",
      "717/717 [==============================] - 7s 10ms/step - loss: 1.2899e-04 - accuracy: 8.7222e-05 - val_loss: 3.2237e-06 - val_accuracy: 0.0000e+00\n",
      "Epoch 5/25\n",
      "717/717 [==============================] - 7s 10ms/step - loss: 1.2878e-04 - accuracy: 8.7222e-05 - val_loss: 3.2508e-06 - val_accuracy: 0.0000e+00\n",
      "Epoch 6/25\n",
      "717/717 [==============================] - 7s 10ms/step - loss: 1.2906e-04 - accuracy: 8.7222e-05 - val_loss: 3.2380e-06 - val_accuracy: 0.0000e+00\n",
      "Epoch 7/25\n",
      "717/717 [==============================] - 8s 12ms/step - loss: 1.2904e-04 - accuracy: 8.7222e-05 - val_loss: 3.3993e-06 - val_accuracy: 0.0000e+00\n",
      "Epoch 8/25\n",
      "717/717 [==============================] - 8s 10ms/step - loss: 1.2789e-04 - accuracy: 8.7222e-05 - val_loss: 1.0601e-04 - val_accuracy: 0.0000e+00\n",
      "Epoch 9/25\n",
      "717/717 [==============================] - 6s 9ms/step - loss: 1.2990e-04 - accuracy: 8.7222e-05 - val_loss: 5.7491e-06 - val_accuracy: 0.0000e+00\n",
      "Epoch 10/25\n",
      "717/717 [==============================] - 6s 9ms/step - loss: 1.2865e-04 - accuracy: 8.7222e-05 - val_loss: 5.5255e-06 - val_accuracy: 0.0000e+00\n",
      "Epoch 11/25\n",
      "717/717 [==============================] - 7s 9ms/step - loss: 1.2855e-04 - accuracy: 8.7222e-05 - val_loss: 1.8499e-05 - val_accuracy: 0.0000e+00\n",
      "Epoch 12/25\n",
      "717/717 [==============================] - 6s 9ms/step - loss: 1.2894e-04 - accuracy: 8.7222e-05 - val_loss: 3.3445e-06 - val_accuracy: 0.0000e+00\n",
      "Epoch 13/25\n",
      "717/717 [==============================] - 6s 9ms/step - loss: 1.2860e-04 - accuracy: 8.7222e-05 - val_loss: 2.9825e-06 - val_accuracy: 0.0000e+00\n",
      "Epoch 14/25\n",
      "717/717 [==============================] - 6s 9ms/step - loss: 1.2851e-04 - accuracy: 8.7222e-05 - val_loss: 3.0689e-06 - val_accuracy: 0.0000e+00\n",
      "Epoch 15/25\n",
      "717/717 [==============================] - 6s 8ms/step - loss: 1.2860e-04 - accuracy: 8.7222e-05 - val_loss: 2.9817e-06 - val_accuracy: 0.0000e+00\n",
      "Epoch 16/25\n",
      "717/717 [==============================] - 6s 8ms/step - loss: 1.2836e-04 - accuracy: 8.7222e-05 - val_loss: 3.0545e-06 - val_accuracy: 0.0000e+00\n",
      "Epoch 17/25\n",
      "717/717 [==============================] - 6s 8ms/step - loss: 1.2858e-04 - accuracy: 8.7222e-05 - val_loss: 3.0142e-06 - val_accuracy: 0.0000e+00\n",
      "Epoch 18/25\n",
      "717/717 [==============================] - 6s 8ms/step - loss: 1.2812e-04 - accuracy: 8.7222e-05 - val_loss: 2.8565e-06 - val_accuracy: 0.0000e+00\n",
      "Epoch 19/25\n",
      "717/717 [==============================] - 6s 8ms/step - loss: 1.2842e-04 - accuracy: 8.7222e-05 - val_loss: 2.8891e-06 - val_accuracy: 0.0000e+00\n",
      "Epoch 20/25\n",
      "717/717 [==============================] - 7s 9ms/step - loss: 1.2839e-04 - accuracy: 8.7222e-05 - val_loss: 2.9356e-06 - val_accuracy: 0.0000e+00\n",
      "Epoch 21/25\n",
      "717/717 [==============================] - 7s 9ms/step - loss: 1.2807e-04 - accuracy: 8.7222e-05 - val_loss: 1.4826e-05 - val_accuracy: 0.0000e+00\n",
      "Epoch 22/25\n",
      "717/717 [==============================] - 7s 9ms/step - loss: 1.2844e-04 - accuracy: 8.7222e-05 - val_loss: 3.0034e-06 - val_accuracy: 0.0000e+00\n",
      "Epoch 23/25\n",
      "717/717 [==============================] - 6s 9ms/step - loss: 1.2821e-04 - accuracy: 8.7222e-05 - val_loss: 2.7175e-06 - val_accuracy: 0.0000e+00\n",
      "Epoch 24/25\n",
      "717/717 [==============================] - 6s 8ms/step - loss: 1.2835e-04 - accuracy: 8.7222e-05 - val_loss: 4.5471e-06 - val_accuracy: 0.0000e+00\n",
      "Epoch 25/25\n",
      "717/717 [==============================] - 6s 9ms/step - loss: 1.2749e-04 - accuracy: 8.7222e-05 - val_loss: 2.9144e-06 - val_accuracy: 0.0000e+00\n"
     ]
    }
   ],
   "source": [
    "import os\n",
    "\n",
    "model.compile(loss='mean_squared_error', optimizer='adam',metrics=['accuracy'])\n",
    "history = model.fit(x_train, y_train,\n",
    "                                    epochs=25,\n",
    "                                    batch_size=16,\n",
    "                                    validation_data=(x_valid, y_valid))"
   ]
  },
  {
   "cell_type": "code",
   "execution_count": 31,
   "metadata": {},
   "outputs": [
    {
     "ename": "ValueError",
     "evalue": "in user code:\n\n    C:\\Users\\yhw99\\anaconda3\\lib\\site-packages\\tensorflow\\python\\keras\\engine\\training.py:1462 predict_function  *\n        return step_function(self, iterator)\n    C:\\Users\\yhw99\\anaconda3\\lib\\site-packages\\tensorflow\\python\\keras\\engine\\training.py:1452 step_function  **\n        outputs = model.distribute_strategy.run(run_step, args=(data,))\n    C:\\Users\\yhw99\\anaconda3\\lib\\site-packages\\tensorflow\\python\\distribute\\distribute_lib.py:1211 run\n        return self._extended.call_for_each_replica(fn, args=args, kwargs=kwargs)\n    C:\\Users\\yhw99\\anaconda3\\lib\\site-packages\\tensorflow\\python\\distribute\\distribute_lib.py:2585 call_for_each_replica\n        return self._call_for_each_replica(fn, args, kwargs)\n    C:\\Users\\yhw99\\anaconda3\\lib\\site-packages\\tensorflow\\python\\distribute\\distribute_lib.py:2945 _call_for_each_replica\n        return fn(*args, **kwargs)\n    C:\\Users\\yhw99\\anaconda3\\lib\\site-packages\\tensorflow\\python\\keras\\engine\\training.py:1445 run_step  **\n        outputs = model.predict_step(data)\n    C:\\Users\\yhw99\\anaconda3\\lib\\site-packages\\tensorflow\\python\\keras\\engine\\training.py:1418 predict_step\n        return self(x, training=False)\n    C:\\Users\\yhw99\\anaconda3\\lib\\site-packages\\tensorflow\\python\\keras\\engine\\base_layer.py:975 __call__\n        input_spec.assert_input_compatibility(self.input_spec, inputs,\n    C:\\Users\\yhw99\\anaconda3\\lib\\site-packages\\tensorflow\\python\\keras\\engine\\input_spec.py:176 assert_input_compatibility\n        raise ValueError('Input ' + str(input_index) + ' of layer ' +\n\n    ValueError: Input 0 of layer sequential is incompatible with the layer: expected ndim=3, found ndim=2. Full shape received: [None, 3]\n",
     "output_type": "error",
     "traceback": [
      "\u001b[1;31m---------------------------------------------------------------------------\u001b[0m",
      "\u001b[1;31mValueError\u001b[0m                                Traceback (most recent call last)",
      "\u001b[1;32m<ipython-input-31-b4b3f4ed0a72>\u001b[0m in \u001b[0;36m<module>\u001b[1;34m\u001b[0m\n\u001b[1;32m----> 1\u001b[1;33m \u001b[0mpred\u001b[0m \u001b[1;33m=\u001b[0m \u001b[0mmodel\u001b[0m\u001b[1;33m.\u001b[0m\u001b[0mpredict\u001b[0m\u001b[1;33m(\u001b[0m\u001b[0mtest_feature\u001b[0m\u001b[1;33m)\u001b[0m\u001b[1;33m\u001b[0m\u001b[1;33m\u001b[0m\u001b[0m\n\u001b[0m",
      "\u001b[1;32m~\\anaconda3\\lib\\site-packages\\tensorflow\\python\\keras\\engine\\training.py\u001b[0m in \u001b[0;36m_method_wrapper\u001b[1;34m(self, *args, **kwargs)\u001b[0m\n\u001b[0;32m    128\u001b[0m       raise ValueError('{} is not supported in multi-worker mode.'.format(\n\u001b[0;32m    129\u001b[0m           method.__name__))\n\u001b[1;32m--> 130\u001b[1;33m     \u001b[1;32mreturn\u001b[0m \u001b[0mmethod\u001b[0m\u001b[1;33m(\u001b[0m\u001b[0mself\u001b[0m\u001b[1;33m,\u001b[0m \u001b[1;33m*\u001b[0m\u001b[0margs\u001b[0m\u001b[1;33m,\u001b[0m \u001b[1;33m**\u001b[0m\u001b[0mkwargs\u001b[0m\u001b[1;33m)\u001b[0m\u001b[1;33m\u001b[0m\u001b[1;33m\u001b[0m\u001b[0m\n\u001b[0m\u001b[0;32m    131\u001b[0m \u001b[1;33m\u001b[0m\u001b[0m\n\u001b[0;32m    132\u001b[0m   return tf_decorator.make_decorator(\n",
      "\u001b[1;32m~\\anaconda3\\lib\\site-packages\\tensorflow\\python\\keras\\engine\\training.py\u001b[0m in \u001b[0;36mpredict\u001b[1;34m(self, x, batch_size, verbose, steps, callbacks, max_queue_size, workers, use_multiprocessing)\u001b[0m\n\u001b[0;32m   1597\u001b[0m           \u001b[1;32mfor\u001b[0m \u001b[0mstep\u001b[0m \u001b[1;32min\u001b[0m \u001b[0mdata_handler\u001b[0m\u001b[1;33m.\u001b[0m\u001b[0msteps\u001b[0m\u001b[1;33m(\u001b[0m\u001b[1;33m)\u001b[0m\u001b[1;33m:\u001b[0m\u001b[1;33m\u001b[0m\u001b[1;33m\u001b[0m\u001b[0m\n\u001b[0;32m   1598\u001b[0m             \u001b[0mcallbacks\u001b[0m\u001b[1;33m.\u001b[0m\u001b[0mon_predict_batch_begin\u001b[0m\u001b[1;33m(\u001b[0m\u001b[0mstep\u001b[0m\u001b[1;33m)\u001b[0m\u001b[1;33m\u001b[0m\u001b[1;33m\u001b[0m\u001b[0m\n\u001b[1;32m-> 1599\u001b[1;33m             \u001b[0mtmp_batch_outputs\u001b[0m \u001b[1;33m=\u001b[0m \u001b[0mpredict_function\u001b[0m\u001b[1;33m(\u001b[0m\u001b[0miterator\u001b[0m\u001b[1;33m)\u001b[0m\u001b[1;33m\u001b[0m\u001b[1;33m\u001b[0m\u001b[0m\n\u001b[0m\u001b[0;32m   1600\u001b[0m             \u001b[1;32mif\u001b[0m \u001b[0mdata_handler\u001b[0m\u001b[1;33m.\u001b[0m\u001b[0mshould_sync\u001b[0m\u001b[1;33m:\u001b[0m\u001b[1;33m\u001b[0m\u001b[1;33m\u001b[0m\u001b[0m\n\u001b[0;32m   1601\u001b[0m               \u001b[0mcontext\u001b[0m\u001b[1;33m.\u001b[0m\u001b[0masync_wait\u001b[0m\u001b[1;33m(\u001b[0m\u001b[1;33m)\u001b[0m\u001b[1;33m\u001b[0m\u001b[1;33m\u001b[0m\u001b[0m\n",
      "\u001b[1;32m~\\anaconda3\\lib\\site-packages\\tensorflow\\python\\eager\\def_function.py\u001b[0m in \u001b[0;36m__call__\u001b[1;34m(self, *args, **kwds)\u001b[0m\n\u001b[0;32m    778\u001b[0m       \u001b[1;32melse\u001b[0m\u001b[1;33m:\u001b[0m\u001b[1;33m\u001b[0m\u001b[1;33m\u001b[0m\u001b[0m\n\u001b[0;32m    779\u001b[0m         \u001b[0mcompiler\u001b[0m \u001b[1;33m=\u001b[0m \u001b[1;34m\"nonXla\"\u001b[0m\u001b[1;33m\u001b[0m\u001b[1;33m\u001b[0m\u001b[0m\n\u001b[1;32m--> 780\u001b[1;33m         \u001b[0mresult\u001b[0m \u001b[1;33m=\u001b[0m \u001b[0mself\u001b[0m\u001b[1;33m.\u001b[0m\u001b[0m_call\u001b[0m\u001b[1;33m(\u001b[0m\u001b[1;33m*\u001b[0m\u001b[0margs\u001b[0m\u001b[1;33m,\u001b[0m \u001b[1;33m**\u001b[0m\u001b[0mkwds\u001b[0m\u001b[1;33m)\u001b[0m\u001b[1;33m\u001b[0m\u001b[1;33m\u001b[0m\u001b[0m\n\u001b[0m\u001b[0;32m    781\u001b[0m \u001b[1;33m\u001b[0m\u001b[0m\n\u001b[0;32m    782\u001b[0m       \u001b[0mnew_tracing_count\u001b[0m \u001b[1;33m=\u001b[0m \u001b[0mself\u001b[0m\u001b[1;33m.\u001b[0m\u001b[0m_get_tracing_count\u001b[0m\u001b[1;33m(\u001b[0m\u001b[1;33m)\u001b[0m\u001b[1;33m\u001b[0m\u001b[1;33m\u001b[0m\u001b[0m\n",
      "\u001b[1;32m~\\anaconda3\\lib\\site-packages\\tensorflow\\python\\eager\\def_function.py\u001b[0m in \u001b[0;36m_call\u001b[1;34m(self, *args, **kwds)\u001b[0m\n\u001b[0;32m    812\u001b[0m       \u001b[1;31m# In this case we have not created variables on the first call. So we can\u001b[0m\u001b[1;33m\u001b[0m\u001b[1;33m\u001b[0m\u001b[1;33m\u001b[0m\u001b[0m\n\u001b[0;32m    813\u001b[0m       \u001b[1;31m# run the first trace but we should fail if variables are created.\u001b[0m\u001b[1;33m\u001b[0m\u001b[1;33m\u001b[0m\u001b[1;33m\u001b[0m\u001b[0m\n\u001b[1;32m--> 814\u001b[1;33m       \u001b[0mresults\u001b[0m \u001b[1;33m=\u001b[0m \u001b[0mself\u001b[0m\u001b[1;33m.\u001b[0m\u001b[0m_stateful_fn\u001b[0m\u001b[1;33m(\u001b[0m\u001b[1;33m*\u001b[0m\u001b[0margs\u001b[0m\u001b[1;33m,\u001b[0m \u001b[1;33m**\u001b[0m\u001b[0mkwds\u001b[0m\u001b[1;33m)\u001b[0m\u001b[1;33m\u001b[0m\u001b[1;33m\u001b[0m\u001b[0m\n\u001b[0m\u001b[0;32m    815\u001b[0m       \u001b[1;32mif\u001b[0m \u001b[0mself\u001b[0m\u001b[1;33m.\u001b[0m\u001b[0m_created_variables\u001b[0m\u001b[1;33m:\u001b[0m\u001b[1;33m\u001b[0m\u001b[1;33m\u001b[0m\u001b[0m\n\u001b[0;32m    816\u001b[0m         raise ValueError(\"Creating variables on a non-first call to a function\"\n",
      "\u001b[1;32m~\\anaconda3\\lib\\site-packages\\tensorflow\\python\\eager\\function.py\u001b[0m in \u001b[0;36m__call__\u001b[1;34m(self, *args, **kwargs)\u001b[0m\n\u001b[0;32m   2826\u001b[0m     \u001b[1;34m\"\"\"Calls a graph function specialized to the inputs.\"\"\"\u001b[0m\u001b[1;33m\u001b[0m\u001b[1;33m\u001b[0m\u001b[0m\n\u001b[0;32m   2827\u001b[0m     \u001b[1;32mwith\u001b[0m \u001b[0mself\u001b[0m\u001b[1;33m.\u001b[0m\u001b[0m_lock\u001b[0m\u001b[1;33m:\u001b[0m\u001b[1;33m\u001b[0m\u001b[1;33m\u001b[0m\u001b[0m\n\u001b[1;32m-> 2828\u001b[1;33m       \u001b[0mgraph_function\u001b[0m\u001b[1;33m,\u001b[0m \u001b[0margs\u001b[0m\u001b[1;33m,\u001b[0m \u001b[0mkwargs\u001b[0m \u001b[1;33m=\u001b[0m \u001b[0mself\u001b[0m\u001b[1;33m.\u001b[0m\u001b[0m_maybe_define_function\u001b[0m\u001b[1;33m(\u001b[0m\u001b[0margs\u001b[0m\u001b[1;33m,\u001b[0m \u001b[0mkwargs\u001b[0m\u001b[1;33m)\u001b[0m\u001b[1;33m\u001b[0m\u001b[1;33m\u001b[0m\u001b[0m\n\u001b[0m\u001b[0;32m   2829\u001b[0m     \u001b[1;32mreturn\u001b[0m \u001b[0mgraph_function\u001b[0m\u001b[1;33m.\u001b[0m\u001b[0m_filtered_call\u001b[0m\u001b[1;33m(\u001b[0m\u001b[0margs\u001b[0m\u001b[1;33m,\u001b[0m \u001b[0mkwargs\u001b[0m\u001b[1;33m)\u001b[0m  \u001b[1;31m# pylint: disable=protected-access\u001b[0m\u001b[1;33m\u001b[0m\u001b[1;33m\u001b[0m\u001b[0m\n\u001b[0;32m   2830\u001b[0m \u001b[1;33m\u001b[0m\u001b[0m\n",
      "\u001b[1;32m~\\anaconda3\\lib\\site-packages\\tensorflow\\python\\eager\\function.py\u001b[0m in \u001b[0;36m_maybe_define_function\u001b[1;34m(self, args, kwargs)\u001b[0m\n\u001b[0;32m   3208\u001b[0m           \u001b[1;32mand\u001b[0m \u001b[0mself\u001b[0m\u001b[1;33m.\u001b[0m\u001b[0minput_signature\u001b[0m \u001b[1;32mis\u001b[0m \u001b[1;32mNone\u001b[0m\u001b[1;33m\u001b[0m\u001b[1;33m\u001b[0m\u001b[0m\n\u001b[0;32m   3209\u001b[0m           and call_context_key in self._function_cache.missed):\n\u001b[1;32m-> 3210\u001b[1;33m         \u001b[1;32mreturn\u001b[0m \u001b[0mself\u001b[0m\u001b[1;33m.\u001b[0m\u001b[0m_define_function_with_shape_relaxation\u001b[0m\u001b[1;33m(\u001b[0m\u001b[0margs\u001b[0m\u001b[1;33m,\u001b[0m \u001b[0mkwargs\u001b[0m\u001b[1;33m)\u001b[0m\u001b[1;33m\u001b[0m\u001b[1;33m\u001b[0m\u001b[0m\n\u001b[0m\u001b[0;32m   3211\u001b[0m \u001b[1;33m\u001b[0m\u001b[0m\n\u001b[0;32m   3212\u001b[0m       \u001b[0mself\u001b[0m\u001b[1;33m.\u001b[0m\u001b[0m_function_cache\u001b[0m\u001b[1;33m.\u001b[0m\u001b[0mmissed\u001b[0m\u001b[1;33m.\u001b[0m\u001b[0madd\u001b[0m\u001b[1;33m(\u001b[0m\u001b[0mcall_context_key\u001b[0m\u001b[1;33m)\u001b[0m\u001b[1;33m\u001b[0m\u001b[1;33m\u001b[0m\u001b[0m\n",
      "\u001b[1;32m~\\anaconda3\\lib\\site-packages\\tensorflow\\python\\eager\\function.py\u001b[0m in \u001b[0;36m_define_function_with_shape_relaxation\u001b[1;34m(self, args, kwargs)\u001b[0m\n\u001b[0;32m   3139\u001b[0m           expand_composites=True)\n\u001b[0;32m   3140\u001b[0m \u001b[1;33m\u001b[0m\u001b[0m\n\u001b[1;32m-> 3141\u001b[1;33m     graph_function = self._create_graph_function(\n\u001b[0m\u001b[0;32m   3142\u001b[0m         args, kwargs, override_flat_arg_shapes=relaxed_arg_shapes)\n\u001b[0;32m   3143\u001b[0m     \u001b[0mself\u001b[0m\u001b[1;33m.\u001b[0m\u001b[0m_function_cache\u001b[0m\u001b[1;33m.\u001b[0m\u001b[0marg_relaxed\u001b[0m\u001b[1;33m[\u001b[0m\u001b[0mrank_only_cache_key\u001b[0m\u001b[1;33m]\u001b[0m \u001b[1;33m=\u001b[0m \u001b[0mgraph_function\u001b[0m\u001b[1;33m\u001b[0m\u001b[1;33m\u001b[0m\u001b[0m\n",
      "\u001b[1;32m~\\anaconda3\\lib\\site-packages\\tensorflow\\python\\eager\\function.py\u001b[0m in \u001b[0;36m_create_graph_function\u001b[1;34m(self, args, kwargs, override_flat_arg_shapes)\u001b[0m\n\u001b[0;32m   3063\u001b[0m     \u001b[0marg_names\u001b[0m \u001b[1;33m=\u001b[0m \u001b[0mbase_arg_names\u001b[0m \u001b[1;33m+\u001b[0m \u001b[0mmissing_arg_names\u001b[0m\u001b[1;33m\u001b[0m\u001b[1;33m\u001b[0m\u001b[0m\n\u001b[0;32m   3064\u001b[0m     graph_function = ConcreteFunction(\n\u001b[1;32m-> 3065\u001b[1;33m         func_graph_module.func_graph_from_py_func(\n\u001b[0m\u001b[0;32m   3066\u001b[0m             \u001b[0mself\u001b[0m\u001b[1;33m.\u001b[0m\u001b[0m_name\u001b[0m\u001b[1;33m,\u001b[0m\u001b[1;33m\u001b[0m\u001b[1;33m\u001b[0m\u001b[0m\n\u001b[0;32m   3067\u001b[0m             \u001b[0mself\u001b[0m\u001b[1;33m.\u001b[0m\u001b[0m_python_function\u001b[0m\u001b[1;33m,\u001b[0m\u001b[1;33m\u001b[0m\u001b[1;33m\u001b[0m\u001b[0m\n",
      "\u001b[1;32m~\\anaconda3\\lib\\site-packages\\tensorflow\\python\\framework\\func_graph.py\u001b[0m in \u001b[0;36mfunc_graph_from_py_func\u001b[1;34m(name, python_func, args, kwargs, signature, func_graph, autograph, autograph_options, add_control_dependencies, arg_names, op_return_value, collections, capture_by_value, override_flat_arg_shapes)\u001b[0m\n\u001b[0;32m    984\u001b[0m         \u001b[0m_\u001b[0m\u001b[1;33m,\u001b[0m \u001b[0moriginal_func\u001b[0m \u001b[1;33m=\u001b[0m \u001b[0mtf_decorator\u001b[0m\u001b[1;33m.\u001b[0m\u001b[0munwrap\u001b[0m\u001b[1;33m(\u001b[0m\u001b[0mpython_func\u001b[0m\u001b[1;33m)\u001b[0m\u001b[1;33m\u001b[0m\u001b[1;33m\u001b[0m\u001b[0m\n\u001b[0;32m    985\u001b[0m \u001b[1;33m\u001b[0m\u001b[0m\n\u001b[1;32m--> 986\u001b[1;33m       \u001b[0mfunc_outputs\u001b[0m \u001b[1;33m=\u001b[0m \u001b[0mpython_func\u001b[0m\u001b[1;33m(\u001b[0m\u001b[1;33m*\u001b[0m\u001b[0mfunc_args\u001b[0m\u001b[1;33m,\u001b[0m \u001b[1;33m**\u001b[0m\u001b[0mfunc_kwargs\u001b[0m\u001b[1;33m)\u001b[0m\u001b[1;33m\u001b[0m\u001b[1;33m\u001b[0m\u001b[0m\n\u001b[0m\u001b[0;32m    987\u001b[0m \u001b[1;33m\u001b[0m\u001b[0m\n\u001b[0;32m    988\u001b[0m       \u001b[1;31m# invariant: `func_outputs` contains only Tensors, CompositeTensors,\u001b[0m\u001b[1;33m\u001b[0m\u001b[1;33m\u001b[0m\u001b[1;33m\u001b[0m\u001b[0m\n",
      "\u001b[1;32m~\\anaconda3\\lib\\site-packages\\tensorflow\\python\\eager\\def_function.py\u001b[0m in \u001b[0;36mwrapped_fn\u001b[1;34m(*args, **kwds)\u001b[0m\n\u001b[0;32m    598\u001b[0m         \u001b[1;31m# __wrapped__ allows AutoGraph to swap in a converted function. We give\u001b[0m\u001b[1;33m\u001b[0m\u001b[1;33m\u001b[0m\u001b[1;33m\u001b[0m\u001b[0m\n\u001b[0;32m    599\u001b[0m         \u001b[1;31m# the function a weak reference to itself to avoid a reference cycle.\u001b[0m\u001b[1;33m\u001b[0m\u001b[1;33m\u001b[0m\u001b[1;33m\u001b[0m\u001b[0m\n\u001b[1;32m--> 600\u001b[1;33m         \u001b[1;32mreturn\u001b[0m \u001b[0mweak_wrapped_fn\u001b[0m\u001b[1;33m(\u001b[0m\u001b[1;33m)\u001b[0m\u001b[1;33m.\u001b[0m\u001b[0m__wrapped__\u001b[0m\u001b[1;33m(\u001b[0m\u001b[1;33m*\u001b[0m\u001b[0margs\u001b[0m\u001b[1;33m,\u001b[0m \u001b[1;33m**\u001b[0m\u001b[0mkwds\u001b[0m\u001b[1;33m)\u001b[0m\u001b[1;33m\u001b[0m\u001b[1;33m\u001b[0m\u001b[0m\n\u001b[0m\u001b[0;32m    601\u001b[0m     \u001b[0mweak_wrapped_fn\u001b[0m \u001b[1;33m=\u001b[0m \u001b[0mweakref\u001b[0m\u001b[1;33m.\u001b[0m\u001b[0mref\u001b[0m\u001b[1;33m(\u001b[0m\u001b[0mwrapped_fn\u001b[0m\u001b[1;33m)\u001b[0m\u001b[1;33m\u001b[0m\u001b[1;33m\u001b[0m\u001b[0m\n\u001b[0;32m    602\u001b[0m \u001b[1;33m\u001b[0m\u001b[0m\n",
      "\u001b[1;32m~\\anaconda3\\lib\\site-packages\\tensorflow\\python\\framework\\func_graph.py\u001b[0m in \u001b[0;36mwrapper\u001b[1;34m(*args, **kwargs)\u001b[0m\n\u001b[0;32m    971\u001b[0m           \u001b[1;32mexcept\u001b[0m \u001b[0mException\u001b[0m \u001b[1;32mas\u001b[0m \u001b[0me\u001b[0m\u001b[1;33m:\u001b[0m  \u001b[1;31m# pylint:disable=broad-except\u001b[0m\u001b[1;33m\u001b[0m\u001b[1;33m\u001b[0m\u001b[0m\n\u001b[0;32m    972\u001b[0m             \u001b[1;32mif\u001b[0m \u001b[0mhasattr\u001b[0m\u001b[1;33m(\u001b[0m\u001b[0me\u001b[0m\u001b[1;33m,\u001b[0m \u001b[1;34m\"ag_error_metadata\"\u001b[0m\u001b[1;33m)\u001b[0m\u001b[1;33m:\u001b[0m\u001b[1;33m\u001b[0m\u001b[1;33m\u001b[0m\u001b[0m\n\u001b[1;32m--> 973\u001b[1;33m               \u001b[1;32mraise\u001b[0m \u001b[0me\u001b[0m\u001b[1;33m.\u001b[0m\u001b[0mag_error_metadata\u001b[0m\u001b[1;33m.\u001b[0m\u001b[0mto_exception\u001b[0m\u001b[1;33m(\u001b[0m\u001b[0me\u001b[0m\u001b[1;33m)\u001b[0m\u001b[1;33m\u001b[0m\u001b[1;33m\u001b[0m\u001b[0m\n\u001b[0m\u001b[0;32m    974\u001b[0m             \u001b[1;32melse\u001b[0m\u001b[1;33m:\u001b[0m\u001b[1;33m\u001b[0m\u001b[1;33m\u001b[0m\u001b[0m\n\u001b[0;32m    975\u001b[0m               \u001b[1;32mraise\u001b[0m\u001b[1;33m\u001b[0m\u001b[1;33m\u001b[0m\u001b[0m\n",
      "\u001b[1;31mValueError\u001b[0m: in user code:\n\n    C:\\Users\\yhw99\\anaconda3\\lib\\site-packages\\tensorflow\\python\\keras\\engine\\training.py:1462 predict_function  *\n        return step_function(self, iterator)\n    C:\\Users\\yhw99\\anaconda3\\lib\\site-packages\\tensorflow\\python\\keras\\engine\\training.py:1452 step_function  **\n        outputs = model.distribute_strategy.run(run_step, args=(data,))\n    C:\\Users\\yhw99\\anaconda3\\lib\\site-packages\\tensorflow\\python\\distribute\\distribute_lib.py:1211 run\n        return self._extended.call_for_each_replica(fn, args=args, kwargs=kwargs)\n    C:\\Users\\yhw99\\anaconda3\\lib\\site-packages\\tensorflow\\python\\distribute\\distribute_lib.py:2585 call_for_each_replica\n        return self._call_for_each_replica(fn, args, kwargs)\n    C:\\Users\\yhw99\\anaconda3\\lib\\site-packages\\tensorflow\\python\\distribute\\distribute_lib.py:2945 _call_for_each_replica\n        return fn(*args, **kwargs)\n    C:\\Users\\yhw99\\anaconda3\\lib\\site-packages\\tensorflow\\python\\keras\\engine\\training.py:1445 run_step  **\n        outputs = model.predict_step(data)\n    C:\\Users\\yhw99\\anaconda3\\lib\\site-packages\\tensorflow\\python\\keras\\engine\\training.py:1418 predict_step\n        return self(x, training=False)\n    C:\\Users\\yhw99\\anaconda3\\lib\\site-packages\\tensorflow\\python\\keras\\engine\\base_layer.py:975 __call__\n        input_spec.assert_input_compatibility(self.input_spec, inputs,\n    C:\\Users\\yhw99\\anaconda3\\lib\\site-packages\\tensorflow\\python\\keras\\engine\\input_spec.py:176 assert_input_compatibility\n        raise ValueError('Input ' + str(input_index) + ' of layer ' +\n\n    ValueError: Input 0 of layer sequential is incompatible with the layer: expected ndim=3, found ndim=2. Full shape received: [None, 3]\n"
     ]
    }
   ],
   "source": [
    "pred = model.predict(test_feature)"
   ]
  },
  {
   "cell_type": "code",
   "execution_count": null,
   "metadata": {},
   "outputs": [],
   "source": []
  }
 ],
 "metadata": {
  "kernelspec": {
   "display_name": "Python 3",
   "language": "python",
   "name": "python3"
  },
  "language_info": {
   "codemirror_mode": {
    "name": "ipython",
    "version": 3
   },
   "file_extension": ".py",
   "mimetype": "text/x-python",
   "name": "python",
   "nbconvert_exporter": "python",
   "pygments_lexer": "ipython3",
   "version": "3.8.5"
  }
 },
 "nbformat": 4,
 "nbformat_minor": 4
}
